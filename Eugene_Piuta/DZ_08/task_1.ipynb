{
 "cells": [
  {
   "cell_type": "markdown",
   "metadata": {},
   "source": [
    "#Задача:\n",
    "\n",
    "1 - Снять видео на камеру (любую, можно телефона). Выполнить кручение видео с скоростью 10 градусов в секунду относительно центра (в любую сторону). \n",
    "\n",
    "2 - Видео после выполнения п.1 и вернуть его в исходное состояние. \n",
    "\n",
    "3 - Сконвертируйте видео в mp4 при помощи ffmpeg"
   ]
  },
  {
   "cell_type": "code",
   "execution_count": 12,
   "metadata": {},
   "outputs": [],
   "source": [
    "import cv2\n",
    "import numpy as np\n",
    "\n",
    "img = cv2.imread(\"image.jpg\")"
   ]
  },
  {
   "cell_type": "code",
   "execution_count": 19,
   "metadata": {},
   "outputs": [],
   "source": [
    "#\n",
    "def rotate(img_param, angle):\n",
    "          height, width = img.shape[:2]\n",
    "          point = (width // 2, height //2)\n",
    "          \n",
    "          mat = cv2.getRotationMatrix2D(point, angle, 1)\n",
    "          return cv2.warpAffine(img_param, mat, (width, height))"
   ]
  },
  {
   "cell_type": "code",
   "execution_count": 6,
   "metadata": {},
   "outputs": [],
   "source": [
    "#Изображение\n",
    "img = rotate(img, 1)\n",
    "cv2.imshow(\"Result\", img)\n",
    "cv2.waitKey(0)\n",
    "cv2.destroyAllWindows() "
   ]
  },
  {
   "cell_type": "code",
   "execution_count": 32,
   "metadata": {},
   "outputs": [
    {
     "name": "stdout",
     "output_type": "stream",
     "text": [
      "480.0\n",
      "640.0\n",
      "30.0\n"
     ]
    }
   ],
   "source": [
    "#Настройки видео\n",
    "cap = cv2.VideoCapture(0)\n",
    "print(cap.get(cv2.CAP_PROP_FRAME_HEIGHT))\n",
    "print(cap.get(cv2.CAP_PROP_FRAME_WIDTH))\n",
    "print(cap.get(cv2.CAP_PROP_FPS))"
   ]
  },
  {
   "cell_type": "code",
   "execution_count": 8,
   "metadata": {},
   "outputs": [],
   "source": [
    "#Захват видео\n",
    "while True:\n",
    "    ret, frame = cap.read()\n",
    "    if not ret:\n",
    "        break\n",
    "   \n",
    "    cv2.imshow('frame', frame)\n",
    "    \n",
    "    p = cv2.waitKey(10) & 0xFF\n",
    "    if p == ord('q'):\n",
    "        break\n",
    "    \n",
    "cap.release()\n",
    "cv2.destroyAllWindows()"
   ]
  },
  {
   "cell_type": "code",
   "execution_count": 67,
   "metadata": {},
   "outputs": [],
   "source": [
    "cap = cv2.VideoCapture(0)\n",
    "fourcc = cv2.VideoWriter_fourcc(*'XVID')\n",
    "width = cap.get(cv2.CAP_PROP_FRAME_WIDTH)\n",
    "height = cap.get(cv2.CAP_PROP_FRAME_HEIGHT)\n",
    "fps=cap.get(cv2.CAP_PROP_FPS)"
   ]
  },
  {
   "cell_type": "code",
   "execution_count": 35,
   "metadata": {},
   "outputs": [],
   "source": [
    "#Запись видео\n",
    "\n",
    "out = cv2.VideoWriter('output.mp4', fourcc, fps, (int(width),int(height)))\n",
    "\n",
    "while True:\n",
    "\n",
    "    ret, frame = cap.read()\n",
    "    if not ret:\n",
    "        break\n",
    "    out.write(frame)\n",
    "    cv2.imshow('frame', frame)\n",
    "    \n",
    "    if cv2.waitKey(1) & 0xFF == ord('q'):\n",
    "        break\n",
    "\n",
    "cap.release()\n",
    "out.release()\n",
    "cv2.destroyAllWindows()"
   ]
  },
  {
   "cell_type": "code",
   "execution_count": 19,
   "metadata": {},
   "outputs": [
    {
     "data": {
      "text/html": [
       "<video src=\"output1.avi\" controls  >\n",
       "      Your browser does not support the <code>video</code> element.\n",
       "    </video>"
      ],
      "text/plain": [
       "<IPython.core.display.Video object>"
      ]
     },
     "execution_count": 19,
     "metadata": {},
     "output_type": "execute_result"
    }
   ],
   "source": [
    "from IPython.display import Video\n",
    "\n",
    "Video(\"output1.avi\")#avi не воспроизводит"
   ]
  },
  {
   "cell_type": "code",
   "execution_count": 74,
   "metadata": {},
   "outputs": [],
   "source": [
    "#Поворачиваем видео на 10°/сек. FPS = 30, 10/30 = 1/3 - угол поворота каждого кадра.\n",
    "cap2 = cv2.VideoCapture('output1.avi')\n",
    "out2 = cv2.VideoWriter('output2.avi', fourcc, fps, (int(width),int(height)))\n",
    "angle = 0\n",
    "while True:\n",
    "\n",
    "    ret, frame = cap2.read()\n",
    "    if not ret:\n",
    "        break\n",
    "    frame = rotate(frame, angle)\n",
    "    dim = (int(width),int(height))\n",
    "    frame_re = cv2.resize(frame, dim)\n",
    "    out2.write(frame_re)\n",
    "    cv2.imshow('frame', frame_re)\n",
    "    angle+=1/3\n",
    "    if cv2.waitKey(30) & 0xFF == ord('q'):\n",
    "        break\n",
    "\n",
    "cap2.release()\n",
    "out2.release()\n",
    "cv2.destroyAllWindows()"
   ]
  },
  {
   "cell_type": "code",
   "execution_count": 20,
   "metadata": {},
   "outputs": [
    {
     "data": {
      "text/html": [
       "<video src=\"output2.avi\" controls  >\n",
       "      Your browser does not support the <code>video</code> element.\n",
       "    </video>"
      ],
      "text/plain": [
       "<IPython.core.display.Video object>"
      ]
     },
     "execution_count": 20,
     "metadata": {},
     "output_type": "execute_result"
    }
   ],
   "source": [
    "Video(\"output2.avi\")#avi не воспроизводит"
   ]
  },
  {
   "cell_type": "code",
   "execution_count": 76,
   "metadata": {},
   "outputs": [],
   "source": [
    "# Разворачиваем полученное видео обратно\n",
    "cap3 = cv2.VideoCapture('output2.avi')\n",
    "out2 = cv2.VideoWriter('output3.avi', fourcc, fps, (int(width),int(height)))\n",
    "angle = 0\n",
    "while True:\n",
    "\n",
    "    ret, frame = cap3.read()\n",
    "    if not ret:\n",
    "        break\n",
    "    frame = rotate(frame, angle)\n",
    "    dim = (int(width),int(height))\n",
    "    frame_re = cv2.resize(frame, dim)\n",
    "    out2.write(frame_re)\n",
    "    cv2.imshow('frame', frame_re)\n",
    "    angle-=1/3\n",
    "    if cv2.waitKey(30) & 0xFF == ord('q'):\n",
    "        break\n",
    "\n",
    "cap2.release()\n",
    "out2.release()\n",
    "cv2.destroyAllWindows()\n"
   ]
  },
  {
   "cell_type": "code",
   "execution_count": 21,
   "metadata": {},
   "outputs": [
    {
     "data": {
      "text/html": [
       "<video src=\"output3.avi\" controls  >\n",
       "      Your browser does not support the <code>video</code> element.\n",
       "    </video>"
      ],
      "text/plain": [
       "<IPython.core.display.Video object>"
      ]
     },
     "execution_count": 21,
     "metadata": {},
     "output_type": "execute_result"
    }
   ],
   "source": [
    "Video(\"output3.avi\") #avi не воспроизводит"
   ]
  },
  {
   "cell_type": "code",
   "execution_count": 17,
   "metadata": {},
   "outputs": [],
   "source": [
    "#ffmpeg\n",
    "import ffmpegcv\n",
    "vidin  = ffmpegcv.VideoCapture('output3.avi')\n",
    "vidout = ffmpegcv.VideoWriter('output4.mp4', 'h264', vidin.fps)\n",
    "with vidin, vidout:\n",
    "    for frame in vidin:\n",
    "        cv2.imshow('image', frame)\n",
    "        vidout.write(frame)\n",
    "vidin.release()\n",
    "vidout.release()\n",
    "cv2.destroyAllWindows()"
   ]
  },
  {
   "cell_type": "code",
   "execution_count": 23,
   "metadata": {},
   "outputs": [
    {
     "data": {
      "text/html": [
       "<video src=\"output4.mp4\" controls  >\n",
       "      Your browser does not support the <code>video</code> element.\n",
       "    </video>"
      ],
      "text/plain": [
       "<IPython.core.display.Video object>"
      ]
     },
     "execution_count": 23,
     "metadata": {},
     "output_type": "execute_result"
    }
   ],
   "source": [
    "Video(\"output4.mp4\")"
   ]
  },
  {
   "cell_type": "markdown",
   "metadata": {},
   "source": [
    "#Вывод:\n",
    "Сняли видео с камеры используя opencv.\n",
    "Повернули его в одну сторону 10°/сек\n",
    "Развернули обратно\n",
    "Конвертировали в mp4 используя ffmpegcv"
   ]
  }
 ],
 "metadata": {
  "kernelspec": {
   "display_name": "base",
   "language": "python",
   "name": "python3"
  },
  "language_info": {
   "codemirror_mode": {
    "name": "ipython",
    "version": 3
   },
   "file_extension": ".py",
   "mimetype": "text/x-python",
   "name": "python",
   "nbconvert_exporter": "python",
   "pygments_lexer": "ipython3",
   "version": "3.12.7"
  }
 },
 "nbformat": 4,
 "nbformat_minor": 2
}
