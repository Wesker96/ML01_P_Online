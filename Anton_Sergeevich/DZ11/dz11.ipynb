{
 "cells": [
  {
   "cell_type": "markdown",
   "metadata": {},
   "source": [
    "ДЗ - в рамках ранее выполненной работы по обработке данных, выполнить все работы \n",
    "с пандас дата фреймом через SQL запросы. \n",
    "- разбить выборку на обучающую и тестовую\n",
    "- проанализировать пропуски и решить, что с ними делать\n",
    "- проанализировать выбросы\n",
    "- создать/ удалить переменные\n",
    "- закодировать категориальные переменные\n",
    "- нормализовать числовые переменные (при необходимости)\n",
    "\n",
    "credit_train.csv"
   ]
  },
  {
   "cell_type": "code",
   "execution_count": 27,
   "metadata": {},
   "outputs": [
    {
     "data": {
      "text/plain": [
       "170746"
      ]
     },
     "execution_count": 27,
     "metadata": {},
     "output_type": "execute_result"
    }
   ],
   "source": [
    "import pandas as pd\n",
    "import numpy as np\n",
    "import sqlite3\n",
    "from sklearn.model_selection import train_test_split\n",
    "import pandasql as ps\n",
    "\n",
    "sqlite3.sqlite_version\n",
    "con = sqlite3.connect('db1') #соединяемся с виртуальной базой db \n",
    "\n",
    "with open('credit_train.csv', newline='', encoding='Windows-1251') as f:\n",
    "    # Открываем исходный файл. Т.к он разделен точками с запятой сначала\n",
    "    #убираем запятые, меняем их на точки, потом заменяем точки с запятой на запятые.    \n",
    "    str = f.read().replace(\",\", \".\" ) \n",
    "    str = str.replace(\";\",\",\")\n",
    "    # Создаем файл с разделением запятыми для нормального открытия питоном:\n",
    "    with open('train_ready.csv','w',  encoding='Windows-1251') as file2:    \n",
    "        file2.write(str)\n",
    "        \n",
    "# Создаем усеченный датафрейм для дальнейшей обработки. Удаляем пропуски:\n",
    "df = pd.read_csv(\"train_ready.csv\",encoding='Windows-1251' ,on_bad_lines='skip',\n",
    "                    #index_col='client_id' ,\n",
    "                    usecols=[0,1,2,3,4, 5,6,7,8,9,10,11,13,14]\n",
    "                    )\n",
    "#df = df.dropna()\n",
    "df.to_sql('credit_train',con, index = True,if_exists = 'replace')\n",
    "\n",
    "\n",
    "#df = pd.read_csv('credit_train.csv',encoding='Windows-1251') # откроем тестовый файл"
   ]
  },
  {
   "cell_type": "markdown",
   "metadata": {},
   "source": [
    " Разобъем данные на тестовую и тренеровочную выборки:# "
   ]
  },
  {
   "cell_type": "code",
   "execution_count": 28,
   "metadata": {},
   "outputs": [
    {
     "name": "stdout",
     "output_type": "stream",
     "text": [
      "длина тестовой выборки:   153671 ,  длина тренировочной выборки:   17075\n"
     ]
    }
   ],
   "source": [
    "df_test,df_train = train_test_split(df, test_size=0.1, train_size=0.9)\n",
    "print('длина тестовой выборки:  ',len(df_test),',  длина тренировочной выборки:  ',len(df_train))"
   ]
  },
  {
   "cell_type": "code",
   "execution_count": 29,
   "metadata": {},
   "outputs": [
    {
     "name": "stdout",
     "output_type": "stream",
     "text": [
      "170736\n"
     ]
    }
   ],
   "source": [
    "# Удаление данных с пропусками!\n",
    "sql2 = ''' delete FROM credit_train where   \n",
    "marital_status  IS NULL \n",
    "or age IS NULL  \n",
    "or credit_sum IS NULL  \n",
    "or score_shk IS NULL  \n",
    "or education IS NULL \n",
    "or credit_month IS NULL \n",
    "or job_position IS NULL \n",
    "'''\n",
    "con.execute(sql2)\n",
    "sql3 = ''' select * FROM credit_train '''\n",
    "df_no_nan = pd.read_sql_query(sql3,con)\n",
    "# df_no_nan  - полный датасет без пропусков данных.\n",
    "print(len(df_no_nan))"
   ]
  },
  {
   "cell_type": "markdown",
   "metadata": {},
   "source": [
    "Было 170745, стало 170736. Удалилось 10 записей с пропусками.\n",
    "Также в ходе выполнения мы увидели, что база данных Credit_train изменяется отдельно, а датафрейм df остается нетронутым!!!\n",
    "\n",
    "Оценим выбросы. Для этого сначала добавим колонку по столбцу credit_sum, в которой содержится количество чисел zscores"
   ]
  },
  {
   "cell_type": "code",
   "execution_count": 31,
   "metadata": {},
   "outputs": [
    {
     "name": "stdout",
     "output_type": "stream",
     "text": [
      "170736\n",
      "170736\n",
      "         index  client_id gender   age marital_status job_position  \\\n",
      "0            7          8      F  26.0            UNM          SPC   \n",
      "1            9         10      F  32.0            UNM          SPC   \n",
      "2           10         11      M  26.0            MAR          SPC   \n",
      "3           12         13      M  37.0            MAR          SPC   \n",
      "4           13         14      M  43.0            MAR          INP   \n",
      "...        ...        ...    ...   ...            ...          ...   \n",
      "170731  170741     170742      F  27.0            UNM          SPC   \n",
      "170732  170742     170743      F  24.0            MAR          SPC   \n",
      "170733  170743     170744      F  31.0            UNM          SPC   \n",
      "170734  170744     170745      F  53.0            DIV          PNA   \n",
      "170735  170745     170746      M  49.0            MAR          SPC   \n",
      "\n",
      "        credit_sum  credit_month  tariff_id  score_shk education  \\\n",
      "0         47878.00            10       1.10   0.512525       GRD   \n",
      "1         26268.00            10       1.10   0.465026       GRD   \n",
      "2         16793.00            14       1.00   0.445430       SCH   \n",
      "3         42289.00            10       1.60   0.691609       SCH   \n",
      "4         57567.00            10       1.10   0.341164       GRD   \n",
      "...            ...           ...        ...        ...       ...   \n",
      "170731    64867.00            12       1.10   0.535257       GRD   \n",
      "170732    17640.00             6       1.60   0.573287       SCH   \n",
      "170733    27556.47            10       1.32   0.416098       GRD   \n",
      "170734     6189.00            12       1.10   0.482595       SCH   \n",
      "170735    12787.00            10       1.10   0.316087       GRD   \n",
      "\n",
      "               living_region  monthly_income  overdue_credit_count  \\\n",
      "0             МОСКОВСКАЯ ОБЛ         60000.0                   0.0   \n",
      "1        КРАЙ СТАВРОПОЛЬСКИЙ         39500.0                   0.0   \n",
      "2            САНКТ-ПЕТЕРБУРГ         36000.0                   0.0   \n",
      "3          ОБЛ АРХАНГЕЛЬСКАЯ         70000.0                   0.0   \n",
      "4        ХАНТЫ-МАНСИЙСКИЙ АО         60000.0                   0.0   \n",
      "...                      ...             ...                   ...   \n",
      "170731  РЕСПУБЛИКА ТАТАРСТАН         40000.0                   0.0   \n",
      "170732     САНКТ-ПЕТЕРБУРГ Г         30000.0                   0.0   \n",
      "170733       ПРИМОРСКИЙ КРАЙ         40000.0                   0.0   \n",
      "170734        ПЕНЗЕНСКАЯ ОБЛ         31000.0                   0.0   \n",
      "170735        ОБЛ МОСКОВСКАЯ         40000.0                   0.0   \n",
      "\n",
      "        open_account_flg   zscores  \n",
      "0                      0  1.341731  \n",
      "1                      0  0.010637  \n",
      "2                      0 -0.572987  \n",
      "3                      0  0.997470  \n",
      "4                      0  1.938537  \n",
      "...                  ...       ...  \n",
      "170731                 0  2.388189  \n",
      "170732                 0 -0.520815  \n",
      "170733                 0  0.090002  \n",
      "170734                 0 -1.226153  \n",
      "170735                 0 -0.819741  \n",
      "\n",
      "[170736 rows x 16 columns]\n",
      " количество строк, не укладывающихся в нормальное распределение:   1834\n"
     ]
    }
   ],
   "source": [
    "# получение датасета с значениями zscores вместо credit_sum:\n",
    "from scipy import stats\n",
    "sql2 = \"select credit_sum as zscores from credit_train   \"\n",
    "df_credit = pd.read_sql(sql2,con)\n",
    "#print(df_credit)\n",
    "zscores = (stats.zscore(df_credit, axis=0, nan_policy='omit'))\n",
    "col_zscores = zscores['zscores']\n",
    "\n",
    "print (len(zscores))\n",
    "print (len(df_no_nan))\n",
    "# Добавляем столбик zscores в общую таблицу.\n",
    "df_no_nan = pd.concat([df_no_nan,col_zscores],axis = 1)\n",
    "print(df_no_nan)\n",
    "# Создаем еще одну таблицу базы данных для того, чтобы в дальнейшем удалить выбросы запросом \n",
    "\n",
    "df_no_nan.to_sql('credit_train_zscores',con, index = True,if_exists = 'replace')\n",
    "\n",
    "# Выберем данные, которые являются выбросами:\n",
    "sql4 = \"select client_id,credit_sum from credit_train_zscores where zscores>3 or zscores<-3  \"\n",
    "df_outliers = pd.read_sql(sql4,con)\n",
    "print(\" количество строк, не укладывающихся в нормальное распределение:  \",len(df_outliers))"
   ]
  },
  {
   "cell_type": "markdown",
   "metadata": {},
   "source": [
    "Удалим выбросы, их 1834 строки:"
   ]
  },
  {
   "cell_type": "code",
   "execution_count": 32,
   "metadata": {},
   "outputs": [
    {
     "name": "stdout",
     "output_type": "stream",
     "text": [
      "количество строк без выбросов:     count(*)\n",
      "0    168902\n"
     ]
    }
   ],
   "source": [
    "sql5 = \"delete from credit_train_zscores where zscores>3 or zscores<-3  \"\n",
    "con.execute(sql5)\n",
    "sql6 = \"select count(*) from credit_train_zscores \"\n",
    "print(\"количество строк без выбросов: \", pd.read_sql(sql6,con))"
   ]
  },
  {
   "cell_type": "markdown",
   "metadata": {},
   "source": [
    "Данные удалились, количество строк уменьшилось.\n",
    "\n",
    "Далее построим гистограммы данных по столбику credit_sum до удаления и после удаления.\n",
    "До удаления:"
   ]
  },
  {
   "cell_type": "code",
   "execution_count": 33,
   "metadata": {},
   "outputs": [
    {
     "data": {
      "image/png": "[encoded data removed]",
      "text/plain": [
       "<Figure size 640x480 with 1 Axes>"
      ]
     },
     "metadata": {},
     "output_type": "display_data"
    }
   ],
   "source": [
    "ax = df['credit_sum'].plot.hist(bins=80, alpha=0.7)"
   ]
  },
  {
   "cell_type": "markdown",
   "metadata": {},
   "source": [
    "После удаления:"
   ]
  },
  {
   "cell_type": "code",
   "execution_count": 34,
   "metadata": {},
   "outputs": [
    {
     "data": {
      "image/png": "[encoded data removed]",
      "text/plain": [
       "<Figure size 640x480 with 1 Axes>"
      ]
     },
     "metadata": {},
     "output_type": "display_data"
    }
   ],
   "source": [
    "sql7 = \"select credit_sum from credit_train_zscores \"\n",
    "df7 = pd.read_sql(sql7,con)\n",
    "ax = df7['credit_sum'].plot.hist(bins=80, alpha=0.7)"
   ]
  },
  {
   "cell_type": "markdown",
   "metadata": {},
   "source": [
    "Мы видим как выровнялась гистограмма после удаления выбросов."
   ]
  },
  {
   "cell_type": "markdown",
   "metadata": {},
   "source": [
    "Создадим поле, в котором найдем соотношение суммы кредита к заработной плате. Отсортируем по нему, найдя самых \n",
    "отчаянных кредитополучателей. Если рискованность более 5 выведем 1, иначе 0"
   ]
  },
  {
   "cell_type": "code",
   "execution_count": 35,
   "metadata": {},
   "outputs": [
    {
     "name": "stdout",
     "output_type": "stream",
     "text": [
      "        credit_sum  monthly_income  risky_coeff  risky_index\n",
      "0          13009.0             NaN          NaN            0\n",
      "1           3520.0        300000.0     0.011733            0\n",
      "2           5841.0        400000.0     0.014602            0\n",
      "3           5841.0        400000.0     0.014602            0\n",
      "4          11398.0        680000.0     0.016762            0\n",
      "...            ...             ...          ...          ...\n",
      "170731     90400.0         10000.0     9.040000            1\n",
      "170732    139989.0         15000.0     9.332600            1\n",
      "170733    200000.0         20000.0    10.000000            1\n",
      "170734     80010.0          5000.0    16.002000            1\n",
      "170735    169000.0         10000.0    16.900000            1\n",
      "\n",
      "[170736 rows x 4 columns]\n"
     ]
    }
   ],
   "source": [
    "sql8 = '''    select credit_sum, monthly_income, credit_sum/monthly_income as risky_coeff, case when credit_sum/monthly_income>5  then 1 else 0 end as risky_index from credit_train order by risky_coeff'''\n",
    "df7 = pd.read_sql(sql8,con)\n",
    "print(df7)\n"
   ]
  },
  {
   "cell_type": "markdown",
   "metadata": {},
   "source": [
    "Выводы:  SQL запросы хороши для манипуляции данными и для достаточно простых математических операций.\n",
    "Также ими удобно объединять и работать данными из нескольких таблиц, т.е использовать реляционную модель.\n",
    "\n",
    "Главная проблема - сложно заполнить столбик таблицы данными из массива, датафрейма и тд. Потому что SQL запрос\n",
    "принимает только данные из таблиц. Т. е сначала надо создавать таблицу, содержащую в себе нужный столбец данных, и \n",
    "только потом эти данные можно скопировать в нужное место SQL запросом.\n",
    "\n",
    "Если же нужны более сложные операции типа анализа на нормальность, корреляции, обработки выбросов, то здесь необходимо использовать датафреймы."
   ]
  }
 ],
 "metadata": {
  "kernelspec": {
   "display_name": "Python 3",
   "language": "python",
   "name": "python3"
  },
  "language_info": {
   "codemirror_mode": {
    "name": "ipython",
    "version": 3
   },
   "file_extension": ".py",
   "mimetype": "text/x-python",
   "name": "python",
   "nbconvert_exporter": "python",
   "pygments_lexer": "ipython3",
   "version": "3.12.4"
  }
 },
 "nbformat": 4,
 "nbformat_minor": 2
}
