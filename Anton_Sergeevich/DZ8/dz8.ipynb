{
 "cells": [
  {
   "cell_type": "markdown",
   "metadata": {},
   "source": [
    "1 - Снять видео на камеру (любую, можно телефона). Выполнить кручение видео с скоростью 10 градусов в секунду относительно центра (в любую сторону). \n",
    "2 - Видео после выполнения п.1 и вернуть его в исходное состояние. \n",
    "3 - Сконвертируйте видео в mp4 при помощи ffmpeg"
   ]
  },
  {
   "cell_type": "code",
   "execution_count": 1,
   "metadata": {},
   "outputs": [
    {
     "name": "stdout",
     "output_type": "stream",
     "text": [
      "everything is released\n",
      "Перевод завершен. Выходной файл: output.mp4\n"
     ]
    }
   ],
   "source": [
    "import cv2\n",
    "import time\n",
    "import ffmpeg\n",
    "import os\n",
    "import subprocess\n",
    "__name__ == \"__main__\"\n",
    "FRAMES_PER_SECOND = 30\n",
    "ROTATE_DEGREE_PER_SECOND = 10\n",
    "#Откроем имеющийся файл\n",
    "cap = cv2.VideoCapture(\"vid300.mp4\")\n",
    "current_rotate_angle = 0\n",
    "addition_angle_per_frame = ROTATE_DEGREE_PER_SECOND/FRAMES_PER_SECOND\n",
    "\n",
    "\n",
    "# Check if camera opened successfully\n",
    "if (cap.isOpened()== False):\n",
    "    print(\"Error opening video file\")\n",
    "#Прочитаем первый кадр чтобы узнать разрешение и вычислить центр\n",
    "ret, frame = cap.read()\n",
    "(h,w) = frame.shape[0:2]\n",
    "center = (w//2,h//2)\n",
    "fourcc = cv2.VideoWriter_fourcc(*'FMP4')\n",
    "video=cv2.VideoWriter('doublevid.avi',fourcc,30,(w*2,h))\n",
    "#Считываем кадр за кадром:\n",
    "while(cap.isOpened()):\n",
    "    #вычисляем 2 матрицы поворота, одна разворачивает, другая комплиментарная для возварата видео обратно\n",
    "    matrix = cv2.getRotationMatrix2D(center,current_rotate_angle,1)\n",
    "    matrix_compliment = cv2.getRotationMatrix2D(center,-current_rotate_angle,1)\n",
    "    \n",
    "#Выполняем чтение кадра:\n",
    "    ret, frame = cap.read()\n",
    "    if ret == True:\n",
    "        #Если кадр считался, поворачиваем этот кадр:\n",
    "        new_image = cv2.warpAffine(frame,matrix,(w,h)) \n",
    "        #Повернутый кадр разворачиваем обратно:\n",
    "        anti_image = cv2.warpAffine(new_image,matrix_compliment,(w,h))\n",
    "        #Соединяем 2 кадра в один:\n",
    "        concat_image = cv2.hconcat([new_image, anti_image])\n",
    "        cv2.imshow('frame',concat_image)\n",
    "        #Записываем объединенный кадр в видео:\n",
    "        video.write(concat_image)\n",
    "        current_rotate_angle += addition_angle_per_frame        \n",
    "        \n",
    "    if cv2.waitKey(1) & 0xFF == ord('q') or ret==False :\n",
    "        #Если кадр не считался, значит видео закончилось. Закрываем Видеокапче, закрываем окна кадров, завершаем видео\n",
    "       cap.release()\n",
    "       cv2.destroyAllWindows()\n",
    "       video.release()\n",
    "       print(\"everything is released\")  \n",
    "       break \n",
    "#ffmpeg.input(\"d:/doublevid.avi\").output(\"d:/doublevid2.mp4\")            \n",
    "#command = [\"ffmpeg\", \"-i\", \"d:/doublevid.avi\", \"-c:v\", \"h264\", \"-c:a\", \"copy\", \"d:/doublevid2.mp4\"]\n",
    "#subprocess.run(command, check=True)    \n",
    "    \n",
    "def convert_avi_to_mp4(input_file, output_file):    \n",
    "    \n",
    "    if not os.path.exists(input_file):\n",
    "        print(f\"Входной файл {input_file} не найден.\")\n",
    "        return\n",
    "    \n",
    "    command = [\n",
    "        \"ffmpeg\",\n",
    "        \"-i\", input_file,\n",
    "        \"-c:v\", \"libx264\",\n",
    "        \"-crf\", \"18\",\n",
    "        \"-c:a\", \"aac\",\n",
    "        \"-b:a\", \"128k\",\n",
    "        output_file\n",
    "    ]\n",
    "\n",
    "    # Вызываем ffmpeg и ожидаем завершения процесса\n",
    "    subprocess.run(command, check=True)\n",
    "    print(f\" Выходной файл: {output_file}\")\n",
    "\n",
    "# Вызываем процедуру:\n",
    "input_file = \"doublevid.avi\"\n",
    "output_file = \"output.mp4\"\n",
    "convert_avi_to_mp4(input_file, output_file)"
   ]
  },
  {
   "cell_type": "markdown",
   "metadata": {},
   "source": [
    "Выводы:  При помощи VideoCapture можно видео разбить на кадры.  В данном видео мы создали матрицу афинных преобразований\n",
    "из матрицы поворота. Повернули видео со скоростью 10 градусов в секунду и обратно. Полученные кадры \"упаковали \" в видео."
   ]
  },
  {
   "cell_type": "code",
   "execution_count": null,
   "metadata": {},
   "outputs": [],
   "source": []
  },
  {
   "cell_type": "markdown",
   "metadata": {
    "vscode": {
     "languageId": "html"
    }
   },
   "source": [
    "<video controls src = \"https://drive.google.com/file/d/1r4Y6iHwdxpY1BEP8HzwFuJ2BaXG4Mc-L/view?usp=drive_link\" width = \"854\" height = \"300\">"
   ]
  }
 ],
 "metadata": {
  "kernelspec": {
   "display_name": "Python 3",
   "language": "python",
   "name": "python3"
  },
  "language_info": {
   "codemirror_mode": {
    "name": "ipython",
    "version": 3
   },
   "file_extension": ".py",
   "mimetype": "text/x-python",
   "name": "python",
   "nbconvert_exporter": "python",
   "pygments_lexer": "ipython3",
   "version": "3.11.0"
  }
 },
 "nbformat": 4,
 "nbformat_minor": 2
}
