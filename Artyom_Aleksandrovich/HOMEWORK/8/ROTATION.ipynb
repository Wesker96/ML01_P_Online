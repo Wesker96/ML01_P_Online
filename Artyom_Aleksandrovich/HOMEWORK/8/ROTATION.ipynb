{
 "cells": [
  {
   "cell_type": "markdown",
   "metadata": {},
   "source": [
    "Стабилизация и конвертация в MP4 с использованием OpenCV и ffmpeg\n",
    "\n",
    "\n",
    "Импортируем библиотеки\n"
   ]
  },
  {
   "cell_type": "code",
   "execution_count": 58,
   "metadata": {},
   "outputs": [],
   "source": [
    "import cv2\n",
    "import numpy as np\n",
    "import os\n",
    "from IPython.display import Video, display, HTML"
   ]
  },
  {
   "cell_type": "markdown",
   "metadata": {},
   "source": [
    "Эта функция использует ffmpeg для конвертации видео в формат MP4"
   ]
  },
  {
   "cell_type": "code",
   "execution_count": null,
   "metadata": {},
   "outputs": [],
   "source": [
    "def convert_to_mp4(input_file, output_file):\n",
    "    command = f'ffmpeg -i \"{input_file}\" \"{output_file}\"'\n",
    "    os.system(command)\n"
   ]
  },
  {
   "cell_type": "markdown",
   "metadata": {},
   "source": [
    "Здесь мы открываем исходный видеофайл и получаем его параметры, такие как ширина и высота кадра, а также количество кадров в секунду (fps)"
   ]
  },
  {
   "cell_type": "code",
   "execution_count": null,
   "metadata": {},
   "outputs": [],
   "source": [
    "cap = cv2.VideoCapture(r'C:\\Users\\1neon\\Desktop\\CAT.mp4')\n",
    "frame_width = int(cap.get(cv2.CAP_PROP_FRAME_WIDTH))\n",
    "frame_height = int(cap.get(cv2.CAP_PROP_FRAME_HEIGHT))\n",
    "fps = cap.get(cv2.CAP_PROP_FPS)\n"
   ]
  },
  {
   "cell_type": "markdown",
   "metadata": {},
   "source": [
    "Создаем объект для записи стабилизированного видеофайла"
   ]
  },
  {
   "cell_type": "code",
   "execution_count": null,
   "metadata": {},
   "outputs": [],
   "source": [
    "stabilized_video_path = r'C:\\Users\\1neon\\Desktop\\stabilized_CAT.mp4'\n",
    "out = cv2.VideoWriter(stabilized_video_path, cv2.VideoWriter_fourcc(*'mp4v'), fps, (frame_width, frame_height))"
   ]
  },
  {
   "cell_type": "markdown",
   "metadata": {},
   "source": [
    "На этом этапе мы обрабатываем каждый кадр видео, применяя к нему поворот на определенный угол, и записываем стабилизированные кадры в новый видеофайл"
   ]
  },
  {
   "cell_type": "code",
   "execution_count": null,
   "metadata": {},
   "outputs": [],
   "source": [
    "frame_count = int(cap.get(cv2.CAP_PROP_FRAME_COUNT))\n",
    "center = (frame_width // 2, frame_height // 2)\n",
    "angles = []\n",
    "frames = []\n",
    "\n",
    "for i in range(frame_count):\n",
    "    ret, frame = cap.read()\n",
    "    if not ret:\n",
    "        break\n",
    "    \n",
    "    angle = (15 * i / fps) % 360\n",
    "    angles.append(angle)\n",
    "    frames.append(frame)\n",
    "    \n",
    "    rotation_matrix = cv2.getRotationMatrix2D(center, angle, 1.0)\n",
    "    stabilized_frame = cv2.warpAffine(frame, rotation_matrix, (frame_width, frame_height), flags=cv2.INTER_LINEAR)\n",
    "    out.write(stabilized_frame)\n",
    "\n",
    "cap.release()\n",
    "out.release()\n"
   ]
  },
  {
   "cell_type": "markdown",
   "metadata": {},
   "source": [
    "Используем функцию для конвертации стабилизированного видео в формат MP4."
   ]
  },
  {
   "cell_type": "code",
   "execution_count": null,
   "metadata": {},
   "outputs": [],
   "source": [
    "convert_to_mp4(stabilized_video_path, stabilized_video_path)\n"
   ]
  },
  {
   "cell_type": "markdown",
   "metadata": {},
   "source": [
    "Создаем объект для записи исходного видеофайла, который будет идентичен оригинальному, но также конвертирован в формат MP4"
   ]
  },
  {
   "cell_type": "code",
   "execution_count": null,
   "metadata": {},
   "outputs": [],
   "source": [
    "restored_video_path = r'C:\\Users\\1neon\\Desktop\\restored_CAT.mp4'\n",
    "out_original = cv2.VideoWriter(restored_video_path, cv2.VideoWriter_fourcc(*'mp4v'), fps, (frame_width, frame_height))\n"
   ]
  },
  {
   "cell_type": "markdown",
   "metadata": {},
   "source": [
    "Записываем исходные кадры в новый видеофайл"
   ]
  },
  {
   "cell_type": "code",
   "execution_count": null,
   "metadata": {},
   "outputs": [],
   "source": [
    "for frame in frames:\n",
    "    out_original.write(frame)\n",
    "\n",
    "out_original.release()\n"
   ]
  },
  {
   "cell_type": "markdown",
   "metadata": {},
   "source": [
    "Конвертируем исходное видео в формат MP4"
   ]
  },
  {
   "cell_type": "code",
   "execution_count": null,
   "metadata": {},
   "outputs": [],
   "source": [
    "convert_to_mp4(restored_video_path, restored_video_path)\n"
   ]
  },
  {
   "cell_type": "markdown",
   "metadata": {},
   "source": [
    "Завершаем работу и освобождаем все ресурсы"
   ]
  },
  {
   "cell_type": "code",
   "execution_count": null,
   "metadata": {},
   "outputs": [],
   "source": [
    "cv2.destroyAllWindows()"
   ]
  },
  {
   "cell_type": "markdown",
   "metadata": {},
   "source": [
    "Отображение видео непосредственно в Jupyter Notebook."
   ]
  },
  {
   "cell_type": "code",
   "execution_count": 59,
   "metadata": {},
   "outputs": [],
   "source": [
    "\n",
    "# Пути к видео\n",
    "input_file1 = r'C:\\Users\\1neon\\Desktop\\CAT.mp4'\n",
    "input_file2 = r'C:\\Users\\1neon\\Desktop\\stabilized_CAT.mp4'\n",
    "input_file3 = r'C:\\Users\\1neon\\Desktop\\restored_CAT.mp4'\n",
    "\n",
    "def play_video(video_path):\n",
    "    cap = cv2.VideoCapture(video_path)\n",
    "    while cap.isOpened():\n",
    "        ret, frame = cap.read()\n",
    "        if not ret:\n",
    "            break\n",
    "        cv2.imshow('Video', frame)\n",
    "        if cv2.waitKey(1) & 0xFF == ord('q'):\n",
    "            break\n",
    "    cap.release()\n",
    "    cv2.destroyAllWindows()\n",
    "\n",
    "# Воспроизведение каждого видео по отдельности\n"
   ]
  },
  {
   "cell_type": "code",
   "execution_count": 60,
   "metadata": {},
   "outputs": [],
   "source": [
    "play_video(input_file1)"
   ]
  },
  {
   "cell_type": "code",
   "execution_count": 61,
   "metadata": {},
   "outputs": [],
   "source": [
    "play_video(input_file2)"
   ]
  },
  {
   "cell_type": "code",
   "execution_count": 62,
   "metadata": {},
   "outputs": [],
   "source": [
    "play_video(input_file3)"
   ]
  },
  {
   "cell_type": "markdown",
   "metadata": {},
   "source": [
    "Вывод:\n",
    "\n",
    "Конвертация видео: Используется функция convert_to_mp4, которая использует команду ffmpeg для конвертации видеофайлов в формат MP4.\n",
    "\n",
    "Обработка кадров: Каждый кадр исходного видео поворачивается на угол, зависящий от времени (angle = (15 * i / fps) % 360), и записывается в новый файл как стабилизированное видео. Поворот выполняется с помощью cv2.getRotationMatrix2D и cv2.warpAffine.\n",
    "\n",
    "Сохранение исходных кадров: Все кадры исходного видео сохраняются в список frames, чтобы затем создать новое видео, идентичное исходному.\n",
    "\n",
    "Создание двух выходных файлов:\n",
    "\n",
    "Стабилизированное видео с вращением каждого кадра.\n",
    "\n",
    "Восстановленное видео, которое является точной копией исходного видео."
   ]
  }
 ],
 "metadata": {
  "kernelspec": {
   "display_name": "base",
   "language": "python",
   "name": "python3"
  },
  "language_info": {
   "codemirror_mode": {
    "name": "ipython",
    "version": 3
   },
   "file_extension": ".py",
   "mimetype": "text/x-python",
   "name": "python",
   "nbconvert_exporter": "python",
   "pygments_lexer": "ipython3",
   "version": "3.12.7"
  }
 },
 "nbformat": 4,
 "nbformat_minor": 2
}
