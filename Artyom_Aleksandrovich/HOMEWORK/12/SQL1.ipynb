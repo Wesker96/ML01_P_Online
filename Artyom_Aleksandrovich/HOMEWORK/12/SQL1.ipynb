{
 "cells": [
  {
   "cell_type": "code",
   "execution_count": null,
   "metadata": {},
   "outputs": [],
   "source": [
    "import pandas as pd\n",
    "import numpy as np\n",
    "from scipy import stats\n",
    "import seaborn as sns\n",
    "import matplotlib.pyplot as plt\n",
    "from sklearn.preprocessing import MinMaxScaler\n",
    "from sklearn.model_selection import train_test_split\n",
    "import sqlite3\n",
    "\n",
    "# Шаг 1: Загрузка данных\n",
    "credit_df = pd.read_csv('credit_train.csv', encoding='WINDOWS-1251', on_bad_lines='skip', sep=';', decimal=',')\n",
    "print(credit_df.head())\n",
    "print(\"\\nКоличество строк и столбцов:\")\n",
    "print(credit_df.shape)"
   ]
  },
  {
   "cell_type": "code",
   "execution_count": null,
   "metadata": {},
   "outputs": [],
   "source": [
    "# Шаг 2: Разделение выборки на обучающую и тестовую\n",
    "credit_df_train, credit_df_test = train_test_split(credit_df, test_size=0.1, random_state=0)\n"
   ]
  },
  {
   "cell_type": "code",
   "execution_count": null,
   "metadata": {},
   "outputs": [],
   "source": [
    "# Шаг 3: Создание соединения с SQLite in-memory database\n",
    "conn = sqlite3.connect(':memory:')\n",
    "\n",
    "credit_df_train.set_index('client_id', inplace=True)\n",
    "credit_df_train.to_sql('credit_train', conn, index=True, index_label='client_id', if_exists='replace')\n",
    "columns = credit_df_train.columns\n"
   ]
  },
  {
   "cell_type": "code",
   "execution_count": null,
   "metadata": {},
   "outputs": [],
   "source": [
    "# Шаг 4: Анализ пропусков данных\n",
    "null_counts_list = []\n",
    "for column in columns:\n",
    "    query = f\"SELECT COUNT(*) - COUNT({column}) AS null_count FROM credit_train\"\n",
    "    result = pd.read_sql_query(query, conn)\n",
    "    null_counts_list.append({'column_name': column, 'null_count': result.iloc[0]['null_count']})\n",
    "\n",
    "null_counts = pd.DataFrame(null_counts_list)\n",
    "print(null_counts)"
   ]
  },
  {
   "cell_type": "code",
   "execution_count": null,
   "metadata": {},
   "outputs": [],
   "source": [
    "# Шаг 5: Удаление строк с пропусками\n",
    "conditions = \" AND \".join([f\"{col} IS NOT NULL\" for col in columns])\n",
    "delete_query = f\"DELETE FROM credit_train WHERE NOT ({conditions})\"\n",
    "conn.execute(delete_query)\n",
    "conn.commit()\n",
    "cleaned_data = pd.read_sql_query(\"SELECT * FROM credit_train\", conn)\n",
    "print(cleaned_data.shape)\n"
   ]
  },
  {
   "cell_type": "code",
   "execution_count": null,
   "metadata": {},
   "outputs": [],
   "source": [
    "# Шаг 6: Кодирование категориальных переменных\n",
    "convert_to_numerical = \"\"\"\n",
    "UPDATE credit_train\n",
    "SET gender = CASE gender\n",
    "    WHEN 'M' THEN 1\n",
    "    WHEN 'F' THEN 0\n",
    "    ELSE -1\n",
    "END,\n",
    "marital_status = CASE marital_status\n",
    "    WHEN 'MAR' THEN 1\n",
    "    WHEN 'UNM' THEN 0\n",
    "    ELSE -1\n",
    "END,\n",
    "job_position = CASE job_position\n",
    "    WHEN 'SPC' THEN 1\n",
    "    WHEN 'UMN' THEN 0\n",
    "    ELSE -1\n",
    "END,\n",
    "education = CASE education\n",
    "    WHEN 'GRD' THEN 1\n",
    "    WHEN 'SCH' THEN 0\n",
    "    ELSE -1\n",
    "END;\n",
    "\"\"\"\n",
    "conn.execute(convert_to_numerical)\n",
    "conn.commit()\n",
    "converted_data = pd.read_sql_query(\"SELECT gender, marital_status, job_position, education FROM credit_train LIMIT 5\", conn)\n",
    "print(converted_data)\n"
   ]
  },
  {
   "cell_type": "code",
   "execution_count": null,
   "metadata": {},
   "outputs": [],
   "source": [
    "# Шаг 7: Создание и обновление новых столбцов\n",
    "conn.execute(\"ALTER TABLE credit_train ADD COLUMN is_moscow_or_piter INTEGER;\")\n",
    "conn.execute(\"\"\"\n",
    "UPDATE credit_train\n",
    "SET is_moscow_or_piter = CASE\n",
    "WHEN living_region LIKE '%МОСК%' OR living_region LIKE '%ПЕТЕР%' THEN 1\n",
    "ELSE 0\n",
    "END;\n",
    "\"\"\")\n",
    "conn.execute(\"ALTER TABLE credit_train DROP COLUMN living_region;\")\n",
    "conn.commit()\n",
    "converted_data = pd.read_sql_query(\"SELECT * FROM credit_train LIMIT 5\", conn)\n",
    "print(converted_data)\n"
   ]
  },
  {
   "cell_type": "code",
   "execution_count": null,
   "metadata": {},
   "outputs": [],
   "source": [
    "# Шаг 8: Предварительная обработка столбцов для нормализации\n",
    "columns_to_normalize = ['age', 'credit_sum', 'credit_month', 'tariff_id', 'monthly_income', 'credit_count']\n",
    "\n",
    "# Обработчик для замены некорректных значений на NULL\n",
    "def preprocess_column(conn, table, column):\n",
    "    conn.execute(f\"\"\"\n",
    "    UPDATE {table}\n",
    "    SET {column} = CASE\n",
    "        WHEN typeof({column}) = 'text' AND {column} GLOB '*[0-9]*' THEN NULL\n",
    "        WHEN typeof({column}) = 'text' THEN CAST({column} AS REAL)\n",
    "        ELSE {column}\n",
    "    END;\n",
    "    \"\"\")\n",
    "    conn.commit()\n",
    "\n",
    "for column in columns_to_normalize:\n",
    "    preprocess_column(conn, 'credit_train', column)\n",
    "\n",
    "# Нормализация столбцов\n",
    "def normalize_column(conn, table, column):\n",
    "    min_value = conn.execute(f\"SELECT MIN({column}) FROM {table} WHERE {column} IS NOT NULL\").fetchone()[0]\n",
    "    max_value = conn.execute(f\"SELECT MAX({column}) FROM {table} WHERE {column} IS NOT NULL\").fetchone()[0]\n",
    "    if min_value is not None and max_value is not None and min_value != max_value:\n",
    "        conn.execute(f\"\"\"\n",
    "        UPDATE {table}\n",
    "        SET {column} = ({column} - {min_value}) / ({max_value} - {min_value})\n",
    "        \"\"\")\n",
    "        conn.commit()\n",
    "\n",
    "for column in columns_to_normalize:\n",
    "    normalize_column(conn, 'credit_train', column)\n",
    "normalized_data = pd.read_sql_query(\"SELECT * FROM credit_train LIMIT 5\", conn)\n",
    "print(normalized_data)"
   ]
  },
  {
   "cell_type": "code",
   "execution_count": null,
   "metadata": {},
   "outputs": [],
   "source": [
    "# Шаг 9: Удаление выбросов\n",
    "credit_sum_df = pd.read_sql_query(\"SELECT credit_sum FROM credit_train\", conn)\n",
    "Q1 = credit_sum_df['credit_sum'].quantile(0.25)\n",
    "Q3 = credit_sum_df['credit_sum'].quantile(0.75)\n",
    "IQR = Q3 - Q1\n",
    "lower_bound = Q1 - 1.5 * IQR\n",
    "upper_bound = Q3 + 1.5 * IQR\n",
    "delete_outliers_query = f\"\"\"\n",
    "DELETE FROM credit_train\n",
    "WHERE credit_sum < {lower_bound} OR credit_sum > {upper_bound}\n",
    "\"\"\"\n",
    "conn.execute(delete_outliers_query)\n",
    "conn.commit()\n",
    "\n",
    "# Проверка результата\n",
    "cleaned_data = pd.read_sql_query(\"SELECT * FROM credit_train LIMIT 5\", conn)\n",
    "print(cleaned_data)"
   ]
  },
  {
   "cell_type": "code",
   "execution_count": null,
   "metadata": {},
   "outputs": [],
   "source": []
  },
  {
   "cell_type": "code",
   "execution_count": null,
   "metadata": {},
   "outputs": [],
   "source": []
  }
 ],
 "metadata": {
  "kernelspec": {
   "display_name": "base",
   "language": "python",
   "name": "python3"
  },
  "language_info": {
   "codemirror_mode": {
    "name": "ipython",
    "version": 3
   },
   "file_extension": ".py",
   "mimetype": "text/x-python",
   "name": "python",
   "nbconvert_exporter": "python",
   "pygments_lexer": "ipython3",
   "version": "3.12.7"
  }
 },
 "nbformat": 4,
 "nbformat_minor": 2
}
