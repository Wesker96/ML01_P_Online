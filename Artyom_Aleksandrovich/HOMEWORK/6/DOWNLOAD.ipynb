{
 "cells": [
  {
   "cell_type": "markdown",
   "metadata": {},
   "source": [
    "requests: Модуль для выполнения HTTP-запросов.\n",
    "os: Модуль для взаимодействия с операционной системой, например, для работы с файловой системой.\n",
    "time: Модуль для работы с временем (например, замеры времени выполнения).\n",
    "concurrent.futures: Модуль для работы с многопоточностью (ThreadPoolExecutor) и многопроцессностью (ProcessPoolExecutor)."
   ]
  },
  {
   "cell_type": "code",
   "execution_count": null,
   "metadata": {},
   "outputs": [],
   "source": [
    "import requests\n",
    "import os\n",
    "import time\n",
<<<<<<< HEAD
    "from concurrent.futures import ThreadPoolExecutor, ProcessPoolExecutor"
=======
    "from concurrent.futures import ThreadPoolExecutor, ProcessPoolExecutor\n"
>>>>>>> 891341f32b57cad63a1d7c942790005f6d963972
   ]
  },
  {
   "cell_type": "markdown",
   "metadata": {},
   "source": [
    "Объявление функции download_file, которая принимает два аргумента: url (адрес файла для скачивания) и folder (путь к папке для сохранения файла, по умолчанию None)."
   ]
  },
  {
   "cell_type": "code",
   "execution_count": null,
   "metadata": {},
   "outputs": [],
   "source": [
    "def download_file(url, folder=None):"
   ]
  },
  {
   "cell_type": "markdown",
   "metadata": {},
   "source": [
    "Если folder не указан, создаем путь к папке images на рабочем столе."
   ]
  },
  {
   "cell_type": "code",
   "execution_count": null,
   "metadata": {},
   "outputs": [],
   "source": [
    "    if folder is None:\n",
    "        folder = os.path.join(os.path.expanduser(\"~\"), \"Desktop\", \"images\")"
   ]
  },
  {
   "cell_type": "markdown",
   "metadata": {},
   "source": [
    "Если папка не существует, создаем ее."
   ]
  },
  {
   "cell_type": "code",
   "execution_count": null,
   "metadata": {},
   "outputs": [],
   "source": [
    "    if not os.path.exists(folder):\n",
    "        os.makedirs(folder)"
   ]
  },
  {
   "cell_type": "markdown",
   "metadata": {},
   "source": [
    "Генерируем имя файла, убирая недопустимые символы (? заменяем на _)."
   ]
  },
  {
   "cell_type": "code",
   "execution_count": null,
   "metadata": {},
   "outputs": [],
   "source": [
    "    local_filename = os.path.join(folder, url.split('/')[-1].replace('?', '_'))\n"
   ]
  },
  {
   "cell_type": "markdown",
   "metadata": {},
   "source": [
    "Выполняем HTTP-запрос для скачивания файла.\n",
    "Проверяем успешность запроса с помощью r.raise_for_status().\n",
    "Открываем файл для записи в бинарном режиме (wb).\n",
    "Записываем данные файла по частям (chunks) размером 8192 байт."
   ]
  },
  {
   "cell_type": "code",
   "execution_count": null,
   "metadata": {},
   "outputs": [],
   "source": [
    "    with requests.get(url, stream=True) as r:\n",
    "        r.raise_for_status()\n",
    "        with open(local_filename, 'wb') as f:\n",
    "            for chunk in r.iter_content(chunk_size=8192):\n",
    "                f.write(chunk)\n"
   ]
  },
  {
   "cell_type": "markdown",
   "metadata": {},
   "source": [
    "Выводим сообщение о завершении скачивания и возвращаем имя файла."
   ]
  },
  {
   "cell_type": "code",
   "execution_count": null,
   "metadata": {},
   "outputs": [],
   "source": [
    "    print(f\"Скачано: {local_filename}\")\n",
    "    return local_filename"
   ]
  },
  {
   "cell_type": "markdown",
   "metadata": {},
   "source": [
    "Создаем пул потоков с максимальным количеством рабочих потоков 5.\n",
    "\n",
    "С помощью executor.map вызываем функцию download_file для каждого URL в списке urls."
   ]
  },
  {
   "cell_type": "code",
   "execution_count": null,
   "metadata": {},
   "outputs": [],
   "source": [
    "def download_files_in_threads(urls):\n",
    "    with ThreadPoolExecutor(max_workers=5) as executor:\n",
    "        executor.map(download_file, urls)"
   ]
  },
  {
   "cell_type": "markdown",
   "metadata": {},
   "source": [
    "Создаем пул процессов с максимальным количеством рабочих процессов 5.\n",
    "С помощью executor.map вызываем функцию download_file для каждого URL в списке urls."
   ]
  },
  {
   "cell_type": "code",
   "execution_count": null,
   "metadata": {},
   "outputs": [],
   "source": [
    "def download_files_in_processes(urls):\n",
    "    with ProcessPoolExecutor(max_workers=5) as executor:\n",
    "        executor.map(download_file, urls)"
   ]
  },
  {
   "cell_type": "markdown",
   "metadata": {},
   "source": [
    "Генерируем список из 100 URL-адресов с использованием сервиса placeholder.com, подставляя значение от 0 до 99 в параметр text."
   ]
  },
  {
   "cell_type": "code",
   "execution_count": null,
   "metadata": {},
   "outputs": [],
   "source": [
    "def generate_file_urls():\n",
    "    return [f\"https://via.placeholder.com/150?text={i}\" for i in range(100)]"
   ]
  },
  {
   "cell_type": "markdown",
   "metadata": {},
   "source": [
    "Проверяем, что код выполняется как основной сценарий.\n",
    "Генерируем список URL-адресов для скачивания."
   ]
  },
  {
   "cell_type": "code",
   "execution_count": null,
   "metadata": {},
   "outputs": [],
   "source": [
    "if __name__ == \"__main__\":\n",
    "    urls = generate_file_urls()"
   ]
  },
  {
   "cell_type": "markdown",
   "metadata": {},
   "source": [
    "Измеряем время скачивания файлов в последовательном режиме.\n",
    "Проходим по каждому URL и скачиваем файл.\n",
    "Вычисляем и выводим общее время последовательного скачивания."
   ]
  },
  {
   "cell_type": "code",
   "execution_count": null,
   "metadata": {},
   "outputs": [],
   "source": [
    "    start_time = time.time()\n",
    "    for url in urls:\n",
    "        download_file(url)\n",
    "    sequential_time = time.time() - start_time\n",
    "    print(f\"Sequential download time: {sequential_time:.2f} seconds\")"
   ]
  },
  {
   "cell_type": "markdown",
   "metadata": {},
   "source": [
    "Измеряем время скачивания файлов с использованием потоков.\n",
    "Вызываем функцию download_files_in_threads для скачивания всех файлов.\n",
    "Вычисляем и выводим общее время скачивания с использованием потоков."
   ]
  },
  {
   "cell_type": "code",
   "execution_count": null,
   "metadata": {},
   "outputs": [],
   "source": [
    "    start_time = time.time()\n",
    "    download_files_in_threads(urls)\n",
    "    thread_time = time.time() - start_time\n",
    "    print(f\"Threaded download time: {thread_time:.2f} seconds\")"
   ]
  },
  {
   "cell_type": "markdown",
   "metadata": {},
   "source": [
    "Измеряем время скачивания файлов с использованием процессов.\n",
    "Вызываем функцию download_files_in_processes для скачивания всех файлов.\n",
    "Вычисляем и выводим общее время скачивания с использованием процессов."
   ]
  },
  {
   "cell_type": "code",
   "execution_count": null,
   "metadata": {},
   "outputs": [],
   "source": [
    "    start_time = time.time()\n",
    "    download_files_in_processes(urls)\n",
    "    process_time = time.time() - start_time\n",
    "    print(f\"Process download time: {process_time:.2f} seconds\")"
   ]
  },
  {
   "cell_type": "markdown",
   "metadata": {},
   "source": [
    "Этот код сравнивает время скачивания файлов в трех разных режимах: последовательном, с использованием потоков и с использованием процессов. Файлы сохраняются в папке images на рабочем столе. Вывод в терминале имеет следующий вид:\n",
    "PS C:\\Users\\1neon> & C:/Users/1neon/anaconda3/python.exe c:/Users/1neon/Desktop/cod.py\n",
    "Скачано: C:\\Users\\1neon\\Desktop\\images\\150_text=0\n",
    "Скачано: C:\\Users\\1neon\\Desktop\\images\\150_text=1\n",
    "Скачано: C:\\Users\\1neon\\Desktop\\images\\150_text=2\n",
    "Скачано: C:\\Users\\1neon\\Desktop\\images\\150_text=3\n",
    "Скачано: C:\\Users\\1neon\\Desktop\\images\\150_text=4\n",
    "Скачано: C:\\Users\\1neon\\Desktop\\images\\150_text=5\n",
    "Скачано: C:\\Users\\1neon\\Desktop\\images\\150_text=6\n",
    "Скачано: C:\\Users\\1neon\\Desktop\\images\\150_text=7\n",
    "Скачано: C:\\Users\\1neon\\Desktop\\images\\150_text=8\n",
    "Скачано: C:\\Users\\1neon\\Desktop\\images\\150_text=9\n",
    "Скачано: C:\\Users\\1neon\\Desktop\\images\\150_text=10\n",
    "Скачано: C:\\Users\\1neon\\Desktop\\images\\150_text=11\n",
    "Скачано: C:\\Users\\1neon\\Desktop\\images\\150_text=12\n",
    "Скачано: C:\\Users\\1neon\\Desktop\\images\\150_text=13\n",
    "Скачано: C:\\Users\\1neon\\Desktop\\images\\150_text=14\n",
    "Скачано: C:\\Users\\1neon\\Desktop\\images\\150_text=15\n",
    "Скачано: C:\\Users\\1neon\\Desktop\\images\\150_text=16\n",
    "Скачано: C:\\Users\\1neon\\Desktop\\images\\150_text=17\n",
    "Скачано: C:\\Users\\1neon\\Desktop\\images\\150_text=18\n",
    "Скачано: C:\\Users\\1neon\\Desktop\\images\\150_text=19\n",
    "Скачано: C:\\Users\\1neon\\Desktop\\images\\150_text=20\n",
    "Скачано: C:\\Users\\1neon\\Desktop\\images\\150_text=21\n",
    "Скачано: C:\\Users\\1neon\\Desktop\\images\\150_text=22\n",
    "Скачано: C:\\Users\\1neon\\Desktop\\images\\150_text=23\n",
    "Скачано: C:\\Users\\1neon\\Desktop\\images\\150_text=24\n",
    "Скачано: C:\\Users\\1neon\\Desktop\\images\\150_text=25\n",
    "Скачано: C:\\Users\\1neon\\Desktop\\images\\150_text=26\n",
    "Скачано: C:\\Users\\1neon\\Desktop\\images\\150_text=27\n",
    "Скачано: C:\\Users\\1neon\\Desktop\\images\\150_text=28\n",
    "Скачано: C:\\Users\\1neon\\Desktop\\images\\150_text=29\n",
    "Скачано: C:\\Users\\1neon\\Desktop\\images\\150_text=30\n",
    "Скачано: C:\\Users\\1neon\\Desktop\\images\\150_text=31\n",
    "Скачано: C:\\Users\\1neon\\Desktop\\images\\150_text=32\n",
    "Скачано: C:\\Users\\1neon\\Desktop\\images\\150_text=33\n",
    "Скачано: C:\\Users\\1neon\\Desktop\\images\\150_text=34\n",
    "Скачано: C:\\Users\\1neon\\Desktop\\images\\150_text=35\n",
    "Скачано: C:\\Users\\1neon\\Desktop\\images\\150_text=36\n",
    "Скачано: C:\\Users\\1neon\\Desktop\\images\\150_text=37\n",
    "Скачано: C:\\Users\\1neon\\Desktop\\images\\150_text=38\n",
    "Скачано: C:\\Users\\1neon\\Desktop\\images\\150_text=39\n",
    "Скачано: C:\\Users\\1neon\\Desktop\\images\\150_text=40\n",
    "Скачано: C:\\Users\\1neon\\Desktop\\images\\150_text=41\n",
    "Скачано: C:\\Users\\1neon\\Desktop\\images\\150_text=42\n",
    "Скачано: C:\\Users\\1neon\\Desktop\\images\\150_text=43\n",
    "Скачано: C:\\Users\\1neon\\Desktop\\images\\150_text=44\n",
    "Скачано: C:\\Users\\1neon\\Desktop\\images\\150_text=45\n",
    "Скачано: C:\\Users\\1neon\\Desktop\\images\\150_text=46\n",
    "Скачано: C:\\Users\\1neon\\Desktop\\images\\150_text=47\n",
    "Скачано: C:\\Users\\1neon\\Desktop\\images\\150_text=48\n",
    "Скачано: C:\\Users\\1neon\\Desktop\\images\\150_text=49\n",
    "Скачано: C:\\Users\\1neon\\Desktop\\images\\150_text=50\n",
    "Скачано: C:\\Users\\1neon\\Desktop\\images\\150_text=51\n",
    "Скачано: C:\\Users\\1neon\\Desktop\\images\\150_text=52\n",
    "Скачано: C:\\Users\\1neon\\Desktop\\images\\150_text=53\n",
    "Скачано: C:\\Users\\1neon\\Desktop\\images\\150_text=54\n",
    "Скачано: C:\\Users\\1neon\\Desktop\\images\\150_text=55\n",
    "Скачано: C:\\Users\\1neon\\Desktop\\images\\150_text=56\n",
    "Скачано: C:\\Users\\1neon\\Desktop\\images\\150_text=57\n",
    "Скачано: C:\\Users\\1neon\\Desktop\\images\\150_text=58\n",
    "Скачано: C:\\Users\\1neon\\Desktop\\images\\150_text=59\n",
    "Скачано: C:\\Users\\1neon\\Desktop\\images\\150_text=60\n",
    "Скачано: C:\\Users\\1neon\\Desktop\\images\\150_text=61\n",
    "Скачано: C:\\Users\\1neon\\Desktop\\images\\150_text=62\n",
    "Скачано: C:\\Users\\1neon\\Desktop\\images\\150_text=63\n",
    "Скачано: C:\\Users\\1neon\\Desktop\\images\\150_text=64\n",
    "Скачано: C:\\Users\\1neon\\Desktop\\images\\150_text=65\n",
    "Скачано: C:\\Users\\1neon\\Desktop\\images\\150_text=66\n",
    "Скачано: C:\\Users\\1neon\\Desktop\\images\\150_text=67\n",
    "Скачано: C:\\Users\\1neon\\Desktop\\images\\150_text=68\n",
    "Скачано: C:\\Users\\1neon\\Desktop\\images\\150_text=69\n",
    "Скачано: C:\\Users\\1neon\\Desktop\\images\\150_text=70\n",
    "Скачано: C:\\Users\\1neon\\Desktop\\images\\150_text=71\n",
    "Скачано: C:\\Users\\1neon\\Desktop\\images\\150_text=72\n",
    "Скачано: C:\\Users\\1neon\\Desktop\\images\\150_text=73\n",
    "Скачано: C:\\Users\\1neon\\Desktop\\images\\150_text=74\n",
    "Скачано: C:\\Users\\1neon\\Desktop\\images\\150_text=75\n",
    "Скачано: C:\\Users\\1neon\\Desktop\\images\\150_text=76\n",
    "Скачано: C:\\Users\\1neon\\Desktop\\images\\150_text=77\n",
    "Скачано: C:\\Users\\1neon\\Desktop\\images\\150_text=78\n",
    "Скачано: C:\\Users\\1neon\\Desktop\\images\\150_text=79\n",
    "Скачано: C:\\Users\\1neon\\Desktop\\images\\150_text=80\n",
    "Скачано: C:\\Users\\1neon\\Desktop\\images\\150_text=81\n",
    "Скачано: C:\\Users\\1neon\\Desktop\\images\\150_text=82\n",
    "Скачано: C:\\Users\\1neon\\Desktop\\images\\150_text=83\n",
    "Скачано: C:\\Users\\1neon\\Desktop\\images\\150_text=84\n",
    "Скачано: C:\\Users\\1neon\\Desktop\\images\\150_text=85\n",
    "Скачано: C:\\Users\\1neon\\Desktop\\images\\150_text=86\n",
    "Скачано: C:\\Users\\1neon\\Desktop\\images\\150_text=87\n",
    "Скачано: C:\\Users\\1neon\\Desktop\\images\\150_text=88\n",
    "Скачано: C:\\Users\\1neon\\Desktop\\images\\150_text=89\n",
    "Скачано: C:\\Users\\1neon\\Desktop\\images\\150_text=90\n",
    "Скачано: C:\\Users\\1neon\\Desktop\\images\\150_text=91\n",
    "Скачано: C:\\Users\\1neon\\Desktop\\images\\150_text=92\n",
    "Скачано: C:\\Users\\1neon\\Desktop\\images\\150_text=93\n",
    "Скачано: C:\\Users\\1neon\\Desktop\\images\\150_text=94\n",
    "Скачано: C:\\Users\\1neon\\Desktop\\images\\150_text=95\n",
    "Скачано: C:\\Users\\1neon\\Desktop\\images\\150_text=96\n",
    "Скачано: C:\\Users\\1neon\\Desktop\\images\\150_text=97\n",
    "Скачано: C:\\Users\\1neon\\Desktop\\images\\150_text=98\n",
    "Скачано: C:\\Users\\1neon\\Desktop\\images\\150_text=99\n",
    "PS C:\\Users\\1neon>"
   ]

  },
  {
   "cell_type": "code",
   "execution_count": null,
   "metadata": {},
   "outputs": [],
   "source": [
    "Sequential download time: 93.83 seconds\n",
    "Threaded download time with 2 workers: 65.20 seconds\n",
    "Threaded download time with 5 workers: 19.61 seconds\n",
    "Threaded download time with 10 workers: 13.26 seconds\n",
    "Threaded download time with 20 workers: 7.14 seconds\n",
    "Process download time with 2 workers: 39.41 seconds\n",
    "Process download time with 5 workers: 15.33 seconds\n",
    "Process download time with 10 workers: 7.92 seconds\n",
    "Process download time with 20 workers: 6.63 seconds"
   ]
  },
  {
   "cell_type": "markdown",
   "metadata": {},
   "source": [
    "-Последовательное скачивание: Простое, но медленное, особенно при большом количестве файлов.\n",
    "\n",
    "-Многопоточность: Лучше подходит для задач ввода-вывода, таких как скачивание файлов, так как позволяет параллельно скачивать несколько файлов, не требуя больших ресурсов.\n",
    "\n",
    "-Многопроцессорность: Идеально для задач, требующих значительных вычислительных ресурсов. Хотя создание процессов требует больших ресурсов, оно может значительно ускорить выполнение, особенно на многоядерных системах."
   ]


  }
 ],
 "metadata": {
  "language_info": {
   "name": "python"
  }
 },
 "nbformat": 4,
 "nbformat_minor": 2
}
