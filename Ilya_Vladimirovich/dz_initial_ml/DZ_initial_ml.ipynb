{
 "cells": [
  {
   "cell_type": "markdown",
   "metadata": {},
   "source": [
    "### Задание\n",
    "Использовать полученные знания в части обучения моделей для обучения и подбора параметров в задачах из предыдущих ДЗ на выбор (мфо, задача с тем возьмёт ли человек кредит или нет)  \n",
    "В частности использовать:  \n",
    "\n",
    "\n",
    "- GaussianNB\n",
    "- LogisticRegression \n",
    "- Linear + PolynomialFeatures.\n",
    "- RandomForestClassifier \n",
    "- При обучении использовать make_pipeline\n",
    "- GridSearchCV для поиска параметров \n",
    "- Посчитать матрики (f1 + точность + AUC). "
   ]
  },
  {
   "cell_type": "markdown",
   "metadata": {},
   "source": [
    "#### Анализ задания\n",
    "\n",
    "- Подготовим максимально качественные данные для наших моделей. Используем отфильтрованные данные из 5 задания и, если потребуется, дополнительно обработаем их.\n",
    "- Используем 4 модели машинного обучения из библиотеки sklearn: Gaussian Naive Bayes, Logistic Regression, Linear + Polynomial Features, Random Forest Classifier\n",
    "- Для каждой модели проведем поиск по сетке параметров (Grid Search) для нахождения оптимальных гиперпараметров.\n",
    "- Оценим качество моделей с помощью метрик F1 Score, Accuracy и AUC.\n",
    "- Сравним результаты всех моделей и выберем наилучшую для дальнейшего использования.\n"
   ]
  },
  {
   "cell_type": "markdown",
   "metadata": {},
   "source": [
    "### Загрузка и предобработка данных"
   ]
  },
  {
   "cell_type": "markdown",
   "metadata": {},
   "source": [
    "Загрузим предобработанные в 5 уроке данные"
   ]
  },
  {
   "cell_type": "code",
   "execution_count": 1,
   "metadata": {},
   "outputs": [
    {
     "name": "stdout",
     "output_type": "stream",
     "text": [
      "   gender       age  marital_status  job_position  credit_sum  credit_month  \\\n",
      "0     0.0  0.150943            0.75          0.75    0.227807      0.212121   \n",
      "1     1.0  0.150943            0.50          0.75    0.070015      0.333333   \n",
      "2     1.0  0.339623            0.25          0.75    0.099553      0.212121   \n",
      "3     1.0  0.245283            0.50          0.75    0.247503      0.212121   \n",
      "4     0.0  0.150943            0.75          0.75    0.121157      0.212121   \n",
      "\n",
      "   tariff_id  score_shk  education  monthly_income  credit_count  \\\n",
      "0        1.1   0.532554       0.25        0.058201      0.157895   \n",
      "1        1.0   0.462837       0.75        0.032804      0.105263   \n",
      "2        1.4   0.501961       0.75        0.047619      0.210526   \n",
      "3        1.1   0.307946       0.25        0.052910      0.052632   \n",
      "4        1.1   0.335454       0.25        0.021164      0.052632   \n",
      "\n",
      "   overdue_credit_count  open_account_flg  region_КРАСНОДАРСКИЙ КРАЙ  \\\n",
      "0                   0.0                 0                      False   \n",
      "1                   0.0                 0                      False   \n",
      "2                   0.0                 0                       True   \n",
      "3                   0.0                 0                       True   \n",
      "4                   0.0                 0                      False   \n",
      "\n",
      "   region_МОСКОВСКАЯ ОБЛАСТЬ  region_РЕСПУБЛИКА ТАТАРСТАН  \\\n",
      "0                       True                        False   \n",
      "1                      False                        False   \n",
      "2                      False                        False   \n",
      "3                      False                        False   \n",
      "4                       True                        False   \n",
      "\n",
      "   region_САНКТ-ПЕТЕРБУРГ  region_ЧЕЛЯБИНСКАЯ ОБЛАСТЬ  \n",
      "0                   False                       False  \n",
      "1                    True                       False  \n",
      "2                   False                       False  \n",
      "3                   False                       False  \n",
      "4                   False                       False  \n",
      "\n",
      "Количество строк и столбцов:\n",
      "(28374, 18)\n"
     ]
    }
   ],
   "source": [
    "import pandas as pd\n",
    "credit_train_df = pd.read_csv('credit_train_cleared.csv')\n",
    "print(credit_train_df.head())\n",
    "print(\"\\nКоличество строк и столбцов:\")\n",
    "print(credit_train_df.shape)"
   ]
  },
  {
   "cell_type": "markdown",
   "metadata": {},
   "source": [
    "Данные в столбце 'open_account_flg' не симметричны. Удалим лишние данные, чтобы количество выданных и не выданных кредитов было равным."
   ]
  },
  {
   "cell_type": "code",
   "execution_count": 2,
   "metadata": {},
   "outputs": [],
   "source": [
    "from sklearn.model_selection import train_test_split\n",
    "\n",
    "value_counts = credit_train_df['open_account_flg'].value_counts()\n",
    "count_0 = value_counts.get(0, 0)\n",
    "count_1 = value_counts.get(1, 0)\n",
    "num_to_remove = count_0 - count_1\n",
    "\n",
    "credit_train_df_balanced = pd.concat([\n",
    "    credit_train_df[credit_train_df['open_account_flg'] == 1],\n",
    "    credit_train_df[credit_train_df['open_account_flg'] == 0].sample(n=count_1, random_state=0)\n",
    "])\n",
    "\n",
    "X = credit_train_df_balanced.drop(columns=['open_account_flg'])\n",
    "y = credit_train_df_balanced['open_account_flg']"
   ]
  },
  {
   "cell_type": "markdown",
   "metadata": {},
   "source": [
    "Разобьем наши данные на тестовую и валидационную выборку"
   ]
  },
  {
   "cell_type": "code",
   "execution_count": 3,
   "metadata": {},
   "outputs": [],
   "source": [
    "X_train, X_val, y_train, y_val = train_test_split(X, y, test_size=0.1, random_state=0)"
   ]
  },
  {
   "cell_type": "markdown",
   "metadata": {},
   "source": [
    "### Использование базовых моделей"
   ]
  },
  {
   "cell_type": "code",
   "execution_count": 4,
   "metadata": {},
   "outputs": [],
   "source": [
    "from sklearn.model_selection import GridSearchCV\n",
    "from sklearn.naive_bayes import GaussianNB\n",
    "from sklearn.linear_model import LogisticRegression, LinearRegression\n",
    "from sklearn.ensemble import RandomForestClassifier\n",
    "from sklearn.preprocessing import PolynomialFeatures\n",
    "from sklearn.pipeline import Pipeline\n",
    "from sklearn.metrics import f1_score, accuracy_score, roc_auc_score\n",
    "\n",
    "def train_and_evaluate(model, param_grid, X_train, y_train, X_val, y_val, scoring='f1', threshold=None):\n",
    "    grid_search = GridSearchCV(model, param_grid, cv=10, scoring=scoring, n_jobs=-1)\n",
    "    grid_search.fit(X_train, y_train)\n",
    "\n",
    "    best_params = grid_search.best_params_\n",
    "    print(\"Лучшие параметры:\", best_params)\n",
    "\n",
    "    best_model = grid_search.best_estimator_\n",
    "    best_model.fit(X_train, y_train)\n",
    "\n",
    "    y_pred = best_model.predict(X_val)\n",
    "    \n",
    "    if threshold is not None:\n",
    "        y_pred_proba = y_pred\n",
    "        y_pred = (y_pred > threshold).astype(int)\n",
    "    else:\n",
    "        y_pred_proba = best_model.predict_proba(X_val)[:, 1]\n",
    "\n",
    "    f1 = f1_score(y_val, y_pred)\n",
    "    accuracy = accuracy_score(y_val, y_pred)\n",
    "    auc = roc_auc_score(y_val, y_pred_proba)\n",
    "\n",
    "    print(f\"F1 Score: {f1}\")\n",
    "    print(f\"Accuracy: {accuracy}\")\n",
    "    print(f\"AUC: {auc}\")"
   ]
  },
  {
   "cell_type": "markdown",
   "metadata": {},
   "source": [
    "#### GaussianNB"
   ]
  },
  {
   "cell_type": "code",
   "execution_count": 5,
   "metadata": {},
   "outputs": [
    {
     "name": "stdout",
     "output_type": "stream",
     "text": [
      "Лучшие параметры: {'var_smoothing': 1e-11}\n",
      "F1 Score: 0.5955882352941176\n",
      "Accuracy: 0.5849056603773585\n",
      "AUC: 0.6213308047493404\n"
     ]
    }
   ],
   "source": [
    "gnb_model = GaussianNB()\n",
    "\n",
    "param_grid_gnb_model = {\n",
    "    'var_smoothing': [1e-11, 1e-10, 1e-9, 1e-8, 1e-7]\n",
    "}\n",
    "\n",
    "train_and_evaluate(gnb_model, param_grid_gnb_model, X_train, y_train, X_val, y_val)"
   ]
  },
  {
   "cell_type": "markdown",
   "metadata": {},
   "source": [
    "#### LogisticRegression"
   ]
  },
  {
   "cell_type": "code",
   "execution_count": 6,
   "metadata": {},
   "outputs": [
    {
     "name": "stdout",
     "output_type": "stream",
     "text": [
      "Лучшие параметры: {'C': 1, 'l1_ratio': 0.9, 'penalty': 'elasticnet', 'solver': 'saga'}\n",
      "F1 Score: 0.6132665832290363\n",
      "Accuracy: 0.6113207547169811\n",
      "AUC: 0.6492192256951491\n"
     ]
    }
   ],
   "source": [
    "lr_model = LogisticRegression(max_iter=10000)\n",
    "\n",
    "param_grid_lr_model = [\n",
    "    {\n",
    "        'C': [0.01, 0.1, 1, 10, 100],\n",
    "        'penalty': ['l1'],\n",
    "        'solver': ['liblinear', 'saga']\n",
    "    },\n",
    "    {\n",
    "        'C': [0.01, 0.1, 1, 10, 100],\n",
    "        'penalty': ['l2'],\n",
    "        'solver': ['liblinear', 'lbfgs', 'sag', 'saga', 'newton-cg', 'newton-cholesky']\n",
    "    },\n",
    "    {\n",
    "        'C': [0.01, 0.1, 1, 10, 100],\n",
    "        'penalty': ['elasticnet'],\n",
    "        'solver': ['saga'],\n",
    "        'l1_ratio': [0.1, 0.5, 0.9, 0.99]\n",
    "    }\n",
    "]\n",
    "\n",
    "train_and_evaluate(lr_model, param_grid_lr_model, X_train, y_train, X_val, y_val)"
   ]
  },
  {
   "cell_type": "markdown",
   "metadata": {},
   "source": [
    "#### PolynomialFeatures + LinearRegression"
   ]
  },
  {
   "cell_type": "code",
   "execution_count": 7,
   "metadata": {},
   "outputs": [
    {
     "name": "stdout",
     "output_type": "stream",
     "text": [
      "Лучшие параметры: {'poly__degree': 2}\n",
      "F1 Score: 0.630272952853598\n",
      "Accuracy: 0.6251572327044025\n",
      "AUC: 0.6738982900345037\n"
     ]
    }
   ],
   "source": [
    "poly_lin_model = Pipeline([\n",
    "    ('poly', PolynomialFeatures()),\n",
    "    ('linear', LinearRegression())\n",
    "])\n",
    "\n",
    "param_grid_poly_lin_model = {\n",
    "    'poly__degree': [1, 2, 3, 4]\n",
    "}\n",
    "\n",
    "train_and_evaluate(poly_lin_model, param_grid_poly_lin_model, X_train, y_train, X_val, y_val, scoring='neg_mean_squared_error', threshold=0.5)"
   ]
  },
  {
   "cell_type": "markdown",
   "metadata": {},
   "source": [
    "#### RandomForest"
   ]
  },
  {
   "cell_type": "code",
   "execution_count": 8,
   "metadata": {},
   "outputs": [
    {
     "name": "stdout",
     "output_type": "stream",
     "text": [
      "Лучшие параметры: {'bootstrap': False, 'max_depth': None, 'min_samples_leaf': 2, 'min_samples_split': 20, 'n_estimators': 100}\n",
      "F1 Score: 0.6782608695652174\n",
      "Accuracy: 0.6742138364779874\n",
      "AUC: 0.7312290694134362\n"
     ]
    }
   ],
   "source": [
    "rf_model = RandomForestClassifier(random_state=0)\n",
    "\n",
    "param_grid_rf_model = {\n",
    "    'n_estimators': [50, 100, 200],\n",
    "    'max_depth': [None, 10, 20, 30, 50, 100],\n",
    "    'min_samples_split': [2, 5, 10, 20, 50],\n",
    "    'min_samples_leaf': [1, 2, 4],\n",
    "    'bootstrap': [True, False]\n",
    "}\n",
    "\n",
    "train_and_evaluate(rf_model, param_grid_rf_model, X_train, y_train, X_val, y_val)"
   ]
  },
  {
   "cell_type": "markdown",
   "metadata": {},
   "source": [
    "### Выводы\n",
    "- Были построены и оценены четыре модели машинного обучения: Gaussian Naive Bayes, Logistic Regression, PolynomialFeatures + LinearRegression и Random Forest Classifier. \n",
    "- Для каждой модели был проведен поиск по сетке для нахождения оптимальных гиперпараметров и оценены метрики F1 Score, Accuracy и AUC.\n",
    "- Наилучшей моделью для данной задачи оказался Random Forest Classifier, который показал лучшие значения всех метрик.\n"
   ]
  }
 ],
 "metadata": {
  "kernelspec": {
   "display_name": "Python 3",
   "language": "python",
   "name": "python3"
  },
  "language_info": {
   "codemirror_mode": {
    "name": "ipython",
    "version": 3
   },
   "file_extension": ".py",
   "mimetype": "text/x-python",
   "name": "python",
   "nbconvert_exporter": "python",
   "pygments_lexer": "ipython3",
   "version": "3.10.12"
  }
 },
 "nbformat": 4,
 "nbformat_minor": 2
}
