{
 "cells": [
  {
   "cell_type": "markdown",
   "metadata": {},
   "source": [
    "### Задание\n",
    "ДЗ - в рамках ранее выполненной работы по обработке данных, выполнить все работы с пандас дата фреймом через SQL запросы. \n",
    "- разбить выборку на обучающую и тестовую\n",
    "- проанализировать пропуски и решить, что с ними делать\n",
    "- проанализировать выбросы\n",
    "- создать/ удалить переменные\n",
    "- закодировать категориальные переменные\n",
    "- нормализовать числовые переменные (при необходимости)"
   ]
  },
  {
   "cell_type": "markdown",
   "metadata": {},
   "source": [
    "### Загрузим данные и посмотрим что они из себя представляют"
   ]
  },
  {
   "cell_type": "code",
   "execution_count": 22,
   "metadata": {},
   "outputs": [
    {
     "name": "stdout",
     "output_type": "stream",
     "text": [
      "   client_id gender   age marital_status job_position  credit_sum  \\\n",
      "0          1      M   NaN            NaN          UMN    59998.00   \n",
      "1          2      F   NaN            MAR          UMN    10889.00   \n",
      "2          3      M  32.0            MAR          SPC    10728.00   \n",
      "3          4      F  27.0            NaN          SPC    12009.09   \n",
      "4          5      M  45.0            NaN          SPC         NaN   \n",
      "\n",
      "   credit_month tariff_id  score_shk education        living_region  \\\n",
      "0            10       1.6        NaN       GRD   КРАСНОДАРСКИЙ КРАЙ   \n",
      "1             6       1.1        NaN       NaN               МОСКВА   \n",
      "2            12       1.1        NaN       NaN      ОБЛ САРАТОВСКАЯ   \n",
      "3            12       1.1        NaN       NaN    ОБЛ ВОЛГОГРАДСКАЯ   \n",
      "4            10       1.1   0.421385       SCH  ЧЕЛЯБИНСКАЯ ОБЛАСТЬ   \n",
      "\n",
      "   monthly_income  credit_count  overdue_credit_count  open_account_flg  \n",
      "0         30000.0           1.0                   1.0                 0  \n",
      "1             NaN           2.0                   0.0                 0  \n",
      "2             NaN           5.0                   0.0                 0  \n",
      "3             NaN           2.0                   0.0                 0  \n",
      "4             NaN           1.0                   0.0                 0  \n",
      "\n",
      "Количество строк и столбцов:\n",
      "(170746, 15)\n"
     ]
    }
   ],
   "source": [
    "import pandas as pd\n",
    "credit_df = pd.read_csv('credit_train.csv', encoding='WINDOWS-1251', on_bad_lines='skip', sep=';', decimal=',')\n",
    "print(credit_df.head())\n",
    "print(\"\\nКоличество строк и столбцов:\")\n",
    "print(credit_df.shape)"
   ]
  },
  {
   "cell_type": "markdown",
   "metadata": {},
   "source": [
    "### Разобьем выборку на обучающую и тестовую."
   ]
  },
  {
   "cell_type": "code",
   "execution_count": 23,
   "metadata": {},
   "outputs": [],
   "source": [
    "from sklearn.model_selection import train_test_split\n",
    "\n",
    "credit_df_train, credit_df_test = train_test_split(credit_df, test_size=0.1, random_state=0)"
   ]
  },
  {
   "cell_type": "markdown",
   "metadata": {},
   "source": [
    "### Получим список всех стлбцов и посчитаем количество битых запией в каждом."
   ]
  },
  {
   "cell_type": "code",
   "execution_count": 24,
   "metadata": {},
   "outputs": [
    {
     "name": "stdout",
     "output_type": "stream",
     "text": [
      "             column_name  null_count\n",
      "0                 gender           0\n",
      "1                    age           3\n",
      "2         marital_status           3\n",
      "3           job_position           0\n",
      "4             credit_sum           2\n",
      "5           credit_month           0\n",
      "6              tariff_id           0\n",
      "7              score_shk           7\n",
      "8              education           5\n",
      "9          living_region         179\n",
      "10        monthly_income           4\n",
      "11          credit_count        8332\n",
      "12  overdue_credit_count        8332\n",
      "13      open_account_flg           0\n"
     ]
    }
   ],
   "source": [
    "import sqlite3\n",
    "\n",
    "conn = sqlite3.connect(':memory:')\n",
    "\n",
    "credit_df_train.set_index('client_id', inplace=True)\n",
    "credit_df_train.to_sql('credit_train', conn, index=True, index_label='client_id', if_exists='replace')\n",
    "columns = credit_df_train.columns\n",
    "null_counts_list = []\n",
    "\n",
    "for column in columns:\n",
    "    query = f\"SELECT COUNT(*) - COUNT({column}) AS null_count FROM credit_train\"\n",
    "    result = pd.read_sql_query(query, conn)\n",
    "    null_counts_list.append({'column_name': column, 'null_count': result.iloc[0]['null_count']})\n",
    "\n",
    "null_counts = pd.DataFrame(null_counts_list)\n",
    "\n",
    "print(null_counts)"
   ]
  },
  {
   "cell_type": "markdown",
   "metadata": {},
   "source": [
    "Как видно даже на первых 4 результатах данные очень плохие. Есть пропуски и несогласованность данных. Удалим все строки где есть пропуски. Как будет видно далее их чуть более 5%, что не критично."
   ]
  },
  {
   "cell_type": "code",
   "execution_count": 25,
   "metadata": {},
   "outputs": [
    {
     "name": "stdout",
     "output_type": "stream",
     "text": [
      "(145165, 15)\n"
     ]
    }
   ],
   "source": [
    "conditions = \" AND \".join([f\"{col} IS NOT NULL\" for col in columns])\n",
    "delete_query = f\"DELETE FROM credit_train WHERE NOT ({conditions})\"\n",
    "conn.execute(delete_query)\n",
    "conn.commit()\n",
    "\n",
    "cleaned_data = pd.read_sql_query(\"SELECT * FROM credit_train\", conn)\n",
    "print(cleaned_data.shape)"
   ]
  },
  {
   "cell_type": "markdown",
   "metadata": {},
   "source": [
    "### Преобразуем столбцы gender, marital_status, job_position, education в числовые значения"
   ]
  },
  {
   "cell_type": "code",
   "execution_count": 26,
   "metadata": {},
   "outputs": [
    {
     "name": "stdout",
     "output_type": "stream",
     "text": [
      "  gender marital_status job_position education\n",
      "0      1              1            1         0\n",
      "1      0              1            1         0\n",
      "2      0             -1            1         1\n",
      "3      0              0            1         0\n",
      "4      0              0            1         1\n"
     ]
    }
   ],
   "source": [
    "convert_to_numerical = \"\"\"\n",
    "UPDATE credit_train\n",
    "SET gender = CASE gender\n",
    "    WHEN 'M' THEN 1\n",
    "    WHEN 'F' THEN 0\n",
    "    ELSE -1\n",
    "END,\n",
    "marital_status = CASE marital_status\n",
    "    WHEN 'MAR' THEN 1\n",
    "    WHEN 'UNM' THEN 0\n",
    "    ELSE -1\n",
    "END,\n",
    "job_position = CASE job_position\n",
    "    WHEN 'SPC' THEN 1\n",
    "    WHEN 'UMN' THEN 0\n",
    "    ELSE -1\n",
    "END,\n",
    "education = CASE education\n",
    "    WHEN 'GRD' THEN 1\n",
    "    WHEN 'SCH' THEN 0\n",
    "    ELSE -1\n",
    "END;\n",
    "\"\"\"\n",
    "\n",
    "conn.execute(convert_to_numerical)\n",
    "conn.commit()\n",
    "converted_data = pd.read_sql_query(\"SELECT gender, marital_status, job_position, education FROM credit_train LIMIT 5\", conn)\n",
    "print(converted_data)"
   ]
  },
  {
   "cell_type": "markdown",
   "metadata": {},
   "source": [
    "### Создадим отдельный столбец обозначающий, что человек из Питерской или Московской области. Удалим столбец living_region"
   ]
  },
  {
   "cell_type": "code",
   "execution_count": 27,
   "metadata": {},
   "outputs": [
    {
     "name": "stdout",
     "output_type": "stream",
     "text": [
      "   client_id gender   age marital_status job_position  credit_sum  \\\n",
      "0      76594      1  30.0              1            1     17869.0   \n",
      "1     149378      0  38.0              1            1     33225.0   \n",
      "2      47222      0  56.0             -1            1     57477.0   \n",
      "3      14521      0  60.0              0            1     30598.0   \n",
      "4      93568      0  26.0              0            1     27388.0   \n",
      "\n",
      "   credit_month tariff_id  score_shk education  monthly_income  credit_count  \\\n",
      "0            10       1.1   0.352364         0         40000.0           0.0   \n",
      "1            12       1.6   0.635078         0         20000.0           0.0   \n",
      "2            10       1.6   0.513687         1        105000.0           6.0   \n",
      "3            18       1.1   0.569651         0         30500.0           4.0   \n",
      "4            10       1.1   0.376575         1         43000.0           2.0   \n",
      "\n",
      "   overdue_credit_count  open_account_flg  is_moscow_or_piter  \n",
      "0                   0.0                 0                   1  \n",
      "1                   0.0                 0                   0  \n",
      "2                   0.0                 0                   0  \n",
      "3                   0.0                 1                   0  \n",
      "4                   0.0                 0                   0  \n"
     ]
    }
   ],
   "source": [
    "# Добавляем новый столбец\n",
    "conn.execute(\"\"\"\n",
    "ALTER TABLE credit_train ADD COLUMN is_moscow_or_piter INTEGER;\n",
    "\"\"\")\n",
    "\n",
    "# Обновляем значения в новом столбце\n",
    "conn.execute(\"\"\"\n",
    "UPDATE credit_train\n",
    "SET is_moscow_or_piter = CASE\n",
    "WHEN living_region LIKE '%МОСК%' OR living_region LIKE '%ПЕТЕР%' THEN 1\n",
    "ELSE 0\n",
    "END;\n",
    "\"\"\")\n",
    "\n",
    "# Удаляем старый столбец\n",
    "conn.execute(\"\"\"\n",
    "ALTER TABLE credit_train DROP COLUMN living_region;\n",
    "\"\"\")\n",
    "\n",
    "conn.commit()\n",
    "converted_data = pd.read_sql_query(\"SELECT * FROM credit_train LIMIT 5\", conn)\n",
    "\n",
    "print(converted_data)"
   ]
  },
  {
   "cell_type": "markdown",
   "metadata": {},
   "source": [
    "### Нормализуем данные в столбцах, где это необходимо"
   ]
  },
  {
   "cell_type": "code",
   "execution_count": 28,
   "metadata": {},
   "outputs": [
    {
     "name": "stdout",
     "output_type": "stream",
     "text": [
      "   client_id gender       age marital_status job_position  credit_sum  \\\n",
      "0      76594      1  0.226415              1            1    0.076714   \n",
      "1     149378      0  0.377358              1            1    0.154559   \n",
      "2      47222      0  0.716981             -1            1    0.277501   \n",
      "3      14521      0  0.792453              0            1    0.141242   \n",
      "4      93568      0  0.150943              0            1    0.124970   \n",
      "\n",
      "   credit_month          tariff_id  score_shk education  monthly_income  \\\n",
      "0             0  0.104166666666667   0.352364         0        0.037037   \n",
      "1             0              0.625   0.635078         0        0.015873   \n",
      "2             0              0.625   0.513687         1        0.105820   \n",
      "3             0  0.104166666666667   0.569651         0        0.026984   \n",
      "4             0  0.104166666666667   0.376575         1        0.040212   \n",
      "\n",
      "   credit_count  overdue_credit_count  open_account_flg  is_moscow_or_piter  \n",
      "0      0.000000                   0.0                 0                   1  \n",
      "1      0.000000                   0.0                 0                   0  \n",
      "2      0.285714                   0.0                 0                   0  \n",
      "3      0.190476                   0.0                 1                   0  \n",
      "4      0.095238                   0.0                 0                   0  \n"
     ]
    }
   ],
   "source": [
    "columns_to_normalize = ['age', 'credit_sum', 'credit_month', 'tariff_id', 'monthly_income', 'credit_count']\n",
    "\n",
    "def normalize_column(conn, table, column):\n",
    "    min_value = conn.execute(f\"SELECT MIN({column}) FROM {table}\").fetchone()[0]\n",
    "    max_value = conn.execute(f\"SELECT MAX({column}) FROM {table}\").fetchone()[0]\n",
    "    conn.execute(f\"\"\"\n",
    "    UPDATE {table}\n",
    "    SET {column} = ({column} - {min_value}) / ({max_value} - {min_value})\n",
    "    \"\"\")\n",
    "    conn.commit()\n",
    "\n",
    "\n",
    "for column in columns_to_normalize:\n",
    "    normalize_column(conn, 'credit_train', column)\n",
    "\n",
    "normalized_data = pd.read_sql_query(\"SELECT * FROM credit_train LIMIT 5\", conn)\n",
    "print(normalized_data)"
   ]
  },
  {
   "cell_type": "markdown",
   "metadata": {},
   "source": [
    "### Удалим строки с выбросами по столбцу credit_sum"
   ]
  },
  {
   "cell_type": "code",
   "execution_count": 30,
   "metadata": {},
   "outputs": [
    {
     "name": "stdout",
     "output_type": "stream",
     "text": [
      "   client_id gender       age marital_status job_position  credit_sum  \\\n",
      "0      76594      1  0.226415              1            1    0.076714   \n",
      "1     149378      0  0.377358              1            1    0.154559   \n",
      "2      14521      0  0.792453              0            1    0.141242   \n",
      "3      93568      0  0.150943              0            1    0.124970   \n",
      "4     153915      0  0.566038             -1            1    0.097798   \n",
      "\n",
      "   credit_month          tariff_id  score_shk education  monthly_income  \\\n",
      "0             0  0.104166666666667   0.352364         0        0.037037   \n",
      "1             0              0.625   0.635078         0        0.015873   \n",
      "2             0  0.104166666666667   0.569651         0        0.026984   \n",
      "3             0  0.104166666666667   0.376575         1        0.040212   \n",
      "4             0              0.625   0.545132         1        0.042328   \n",
      "\n",
      "   credit_count  overdue_credit_count  open_account_flg  is_moscow_or_piter  \n",
      "0      0.000000                   0.0                 0                   1  \n",
      "1      0.000000                   0.0                 0                   0  \n",
      "2      0.190476                   0.0                 1                   0  \n",
      "3      0.095238                   0.0                 0                   0  \n",
      "4      0.095238                   0.0                 0                   1  \n"
     ]
    }
   ],
   "source": [
    "credit_sum_df = pd.read_sql_query(\"SELECT credit_sum FROM credit_train\", conn)\n",
    "Q1 = credit_sum_df['credit_sum'].quantile(0.25)\n",
    "Q3 = credit_sum_df['credit_sum'].quantile(0.75)\n",
    "IQR = Q3 - Q1\n",
    "\n",
    "lower_bound = Q1 - 1.5 * IQR\n",
    "upper_bound = Q3 + 1.5 * IQR\n",
    "\n",
    "delete_outliers_query = f\"\"\"\n",
    "DELETE FROM credit_train\n",
    "WHERE credit_sum < {lower_bound} OR credit_sum > {upper_bound}\n",
    "\"\"\"\n",
    "conn.execute(delete_outliers_query)\n",
    "conn.commit()\n",
    "\n",
    "# Проверка результата\n",
    "cleaned_data = pd.read_sql_query(\"SELECT * FROM credit_train LIMIT 5\", conn)\n",
    "print(cleaned_data)"
   ]
  },
  {
   "cell_type": "markdown",
   "metadata": {},
   "source": [
    "### Выводы\n",
    "\n",
    "Мы познакомились с основами SQL, освоили создание таблиц, основными типами запросов на выборку и обновление данных и управление столбцами. Однако, столкнулись и с определенными ограничениями, присущими базе данных SQLite3. Например, SQLite3 не предоставляет возможности работы с метаданными таблиц, не поддерживает подвыборки и не обладает множеством предопределенных функций для обработки данных, которые доступны в более продвинутых системах управления базами данных, таких как PostgreSQL."
   ]
  }
 ],
 "metadata": {
  "kernelspec": {
   "display_name": "Python 3",
   "language": "python",
   "name": "python3"
  },
  "language_info": {
   "codemirror_mode": {
    "name": "ipython",
    "version": 3
   },
   "file_extension": ".py",
   "mimetype": "text/x-python",
   "name": "python",
   "nbconvert_exporter": "python",
   "pygments_lexer": "ipython3",
   "version": "3.10.12"
  }
 },
 "nbformat": 4,
 "nbformat_minor": 2
}
