{
 "cells": [
  {
   "cell_type": "markdown",
   "metadata": {},
   "source": [
    "Задание:\n",
    "1. Снять видео на камеру (любую, можно телефона). Выполнить кручение видео с скоростью 10 градусов в секунду относительно центра (в любую сторону). \n",
    "2. Видео после выполнения п.1 и вернуть его в исходное состояние. \n",
    "3. Сконвертируйте видео в mp4 при помощи ffmpeg"
   ]
  },
  {
   "cell_type": "markdown",
   "metadata": {},
   "source": [
    "Для выполнения задания необходимо:\n",
    "1. Загрузить исходное видео. Будет использовано видео в формате hevc.\n",
    "2. Применить поворот к исходному видео (скорость - 10 градусов в секунду). Целесообразно привязыватся к fps видео, для синхронизации обратного вращения в дальнейшем.\n",
    "3. Выполнить поворот в обратную сторону для устранения вращения. \n",
    "4. Сохранить полученное видео."
   ]
  },
  {
   "cell_type": "code",
   "execution_count": 3,
   "metadata": {},
   "outputs": [],
   "source": [
    "import cv2\n",
    "import numpy as np\n",
    "import pandas as pd"
   ]
  },
  {
   "cell_type": "markdown",
   "metadata": {},
   "source": [
    "Функия read_and_save_rotate открывает видео и выполняет его вращение с помощью функции rotate_function, переданную в качестве аргумента."
   ]
  },
  {
   "cell_type": "code",
   "execution_count": 13,
   "metadata": {},
   "outputs": [],
   "source": [
    "def read_and_save_rotate (read_name,out_name,out_format,angle,rotate_function, DEBUG = 1): \n",
    "  cap = cv2.VideoCapture(read_name)\n",
    "\n",
    "\n",
    "  output_filename = out_name\n",
    "  frame_width = int(cap.get(cv2.CAP_PROP_FRAME_WIDTH))\n",
    "  frame_height = int(cap.get(cv2.CAP_PROP_FRAME_HEIGHT))\n",
    "  fps = int(cap.get(cv2.CAP_PROP_FPS))\n",
    "  frame_count = int(cap.get(cv2.CAP_PROP_FRAME_COUNT))\n",
    "\n",
    "\n",
    "\n",
    "  fourcc = cv2.VideoWriter_fourcc(*out_format)\n",
    "  out = cv2.VideoWriter(output_filename, fourcc, fps, (frame_width, frame_height))\n",
    "\n",
    "\n",
    "  rotate_angle = 0\n",
    "  frame_counter = 0\n",
    "\n",
    "\n",
    "  if (cap.isOpened()== False): \n",
    "    print(\"Ошибка открытия видеопотока\")\n",
    "    \n",
    "\n",
    "\n",
    "  while(cap.isOpened()):\n",
    "\n",
    "      \n",
    "    ret, frame = cap.read()\n",
    "      \n",
    "     # Считаем кадры и каждую секунду меняем угол наклона изображения \n",
    "    if frame_counter%(fps//angle) == 0:\n",
    "        rotate_angle += 1\n",
    "      \n",
    "    if rotate_angle == 360:\n",
    "        rotate_angle == 0\n",
    "\n",
    "      \n",
    "      \n",
    "    if ret == True:\n",
    "        \n",
    "      frame_counter+=1\n",
    "      \n",
    "      frame = rotate_function(frame, rotate_angle) # Вызываем функцию вращения кадра\n",
    "      out.write(frame)\n",
    "      if DEBUG:\n",
    "\n",
    "        cv2.imshow('window',frame)\n",
    "      \n",
    "\n",
    "      if cv2.waitKey(25) & 0xFF == ord('q') or frame_counter == 600:\n",
    "        break\n",
    "        \n",
    "    \n",
    "\n",
    "    else: \n",
    "      break\n",
    "  \n",
    "  # Освобождаем ресурсы\n",
    "  cap.release()\n",
    "  out.release()\n",
    "\n",
    "  cv2.destroyAllWindows()"
   ]
  },
  {
   "cell_type": "code",
   "execution_count": 5,
   "metadata": {},
   "outputs": [],
   "source": [
    "def rotate_image(image, angle):\n",
    "    image_center = tuple(np.array(image.shape[1::-1]) / 2)\n",
    "    rot_mat = cv2.getRotationMatrix2D(image_center, angle, 1.0)\n",
    "    result = cv2.warpAffine(image, rot_mat, image.shape[1::-1], flags=cv2.INTER_LINEAR)\n",
    "    return result"
   ]
  },
  {
   "cell_type": "markdown",
   "metadata": {},
   "source": [
    "Функция rotate_image принмает кадр и угол, на который нужно его повернуть. "
   ]
  },
  {
   "cell_type": "markdown",
   "metadata": {},
   "source": [
    "Функция rotate_image_reverse получает кадр и угол, на который он повернут. Вычисляет обратную матрицу поворота и применяет ее к изображению."
   ]
  },
  {
   "cell_type": "code",
   "execution_count": 9,
   "metadata": {},
   "outputs": [],
   "source": [
    "def rotate_image_reverse(image, angle):\n",
    "  \n",
    "  image_center = tuple(np.array(image.shape[1::-1]) / 2)\n",
    "  h, w = image.shape[:2]\n",
    "  \n",
    "\n",
    "  rot_mat = cv2.getRotationMatrix2D(image_center, angle, 1.0)\n",
    "  \n",
    "  rot_mat_3x3 = np.vstack([rot_mat, [0, 0, 1]])\n",
    "# Находим обратную матрицу\n",
    "  inv_rot_mat_3x3 = np.linalg.inv(rot_mat_3x3)\n",
    "# Возвращаем обратно в 2x3\n",
    "  inv_rot_mat = inv_rot_mat_3x3[:2, :]\n",
    "  \n",
    "  result = cv2.warpAffine(image, inv_rot_mat, image.shape[1::-1], flags=cv2.INTER_LINEAR)\n",
    "  return result"
   ]
  },
  {
   "cell_type": "code",
   "execution_count": 14,
   "metadata": {},
   "outputs": [],
   "source": [
    "read_and_save_rotate(read_name='IMG_6210.hevc',out_name='output.mov',out_format='Moov',angle = 10, DEBUG = 1, rotate_function=rotate_image)\n"
   ]
  },
  {
   "cell_type": "code",
   "execution_count": 15,
   "metadata": {},
   "outputs": [],
   "source": [
    "read_and_save_rotate (read_name='output.mov',out_name='original_convert.mp4',out_format='mp4v',angle = 10, DEBUG = 1, rotate_function=rotate_image_reverse)"
   ]
  },
  {
   "cell_type": "markdown",
   "metadata": {},
   "source": [
    "В ходе работы осуществлено вращение изображения против часовой стрелки со скоростью 10 градусов в секунду и компенсация этого вращения. \n",
    "Вращение картинки удалось скомпенсировать. При компенсации вращения видно смещение краев кадра.\n",
    "\n",
    "Полученное видео доступно по ссылке на Google Drive и в каталоге DZ8."
   ]
  }
 ],
 "metadata": {
  "kernelspec": {
   "display_name": "learning",
   "language": "python",
   "name": "python3"
  },
  "language_info": {
   "codemirror_mode": {
    "name": "ipython",
    "version": 3
   },
   "file_extension": ".py",
   "mimetype": "text/x-python",
   "name": "python",
   "nbconvert_exporter": "python",
   "pygments_lexer": "ipython3",
   "version": "3.12.7"
  }
 },
 "nbformat": 4,
 "nbformat_minor": 2
}
