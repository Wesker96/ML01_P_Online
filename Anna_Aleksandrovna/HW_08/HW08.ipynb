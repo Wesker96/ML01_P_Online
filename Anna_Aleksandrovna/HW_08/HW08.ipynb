{
 "cells": [
  {
   "cell_type": "markdown",
   "metadata": {},
   "source": [
    "ЗАДАНИЕ\n",
    "1 - Снять видео на камеру (любую, можно телефона). Выполнить кручение видео с скоростью 10 градусов в секунду относительно центра (в любую сторону). \n",
    "2 - Видео после выполнения п.1 и вернуть его в исходное состояние. \n",
    "3 - Сканвертируйте видео в mp4 при помощи ffmpeg\n"
   ]
  },
  {
   "cell_type": "markdown",
   "metadata": {},
   "source": [
    "Загружаем видео, открываем его и получаем его параметры"
   ]
  },
  {
   "cell_type": "code",
   "execution_count": null,
   "metadata": {},
   "outputs": [],
   "source": [
    "input_video_path = 'squirrel.mp4'\n",
    "output_video_path_rotated = 'squirrel_rotated.mp4'\n",
    "output_video_path_final = 'squirrel_final.mp4'\n",
    "\n",
    "# Открытие видео\n",
    "cap = cv2.VideoCapture(input_video_path)\n",
    "\n",
    "# Получение параметров видео\n",
    "fps = cap.get(cv2.CAP_PROP_FPS)\n",
    "width = int(cap.get(cv2.CAP_PROP_FRAME_WIDTH))\n",
    "height = int(cap.get(cv2.CAP_PROP_FRAME_HEIGHT))\n"
   ]
  },
  {
   "cell_type": "markdown",
   "metadata": {},
   "source": [
    "Определение кодека и создание объекта для записи видео"
   ]
  },
  {
   "cell_type": "code",
   "execution_count": null,
   "metadata": {},
   "outputs": [],
   "source": [
    "fourcc = cv2.VideoWriter_fourcc(*'mp4v')  # Используется для mp4\n",
    "out_rotated = cv2.VideoWriter(output_video_path_rotated, fourcc, fps, (width, height))"
   ]
  },
  {
   "cell_type": "markdown",
   "metadata": {},
   "source": [
    "Время вращения в секундах"
   ]
  },
  {
   "cell_type": "code",
   "execution_count": null,
   "metadata": {},
   "outputs": [],
   "source": [
    "rotation_speed = 10  # градусов в секунду\n",
    "rotation_angle = 0\n",
    "\n",
    "while True:\n",
    "    ret, frame = cap.read()\n",
    "    if not ret:\n",
    "        break"
   ]
  },
  {
   "cell_type": "markdown",
   "metadata": {},
   "source": [
    "Вращение изображения"
   ]
  },
  {
   "cell_type": "code",
   "execution_count": null,
   "metadata": {},
   "outputs": [],
   "source": [
    "rotation_angle += rotation_speed / fps\n",
    "M = cv2.getRotationMatrix2D((width // 2, height // 2), rotation_angle, 1)\n",
    "rotated_frame = cv2.warpAffine(frame, M, (width, height))\n",
    "\n",
    "# Запись вращенного кадра в выходное видео\n",
    "out_rotated.write(rotated_frame)"
   ]
  },
  {
   "cell_type": "code",
   "execution_count": null,
   "metadata": {},
   "outputs": [],
   "source": [
    "# Освобождение ресурсов\n",
    "cap.release()\n",
    "out_rotated.release()\n",
    "\n",
    "# Возврат в исходное состояние\n",
    "cap_rotated = cv2.VideoCapture(output_video_path_rotated)\n",
    "out_final = cv2.VideoWriter(output_video_path_final, fourcc, fps, (width, height))\n",
    "\n",
    "while True:\n",
    "    ret, frame = cap_rotated.read()\n",
    "    if not ret:\n",
    "        break\n",
    "\n",
    "  # Возврат к исходному состоянию (обратное вращение)\n",
    "    rotation_angle -= rotation_speed / fps\n",
    "    M = cv2.getRotationMatrix2D((width // 2, height // 2), rotation_angle, 1)\n",
    "    final_frame = cv2.warpAffine(frame, M, (width, height))\n",
    "\n",
    "    # Запись финального кадра в выходное видео\n",
    "    out_final.write(final_frame)\n",
    "\n",
    "# Освобождение ресурсов\n",
    "cap_rotated.release()\n",
    "out_final.release()\n",
    "\n",
    "# 2. Конвертация видео в MP4 с помощью FFmpeg\n",
    "# Используем subprocess для вызова команды FFmpeg\n",
    "ffmpeg_command = [\n",
    "    'ffmpeg',\n",
    "    '-i', output_video_path_rotated,\n",
    "    '-c:v', 'libx264',\n",
    "    '-crf', '23',\n",
    "    '-preset', 'medium',\n",
    "    output_video_path_final\n",
    "]\n",
    "\n",
    "subprocess.run(ffmpeg_command)\n",
    "\n",
    "print(\"Вращение завершено, видео обработано и сконвертировано в mp4.\")"
   ]
  },
  {
   "cell_type": "markdown",
   "metadata": {},
   "source": [
    "ВЫВОД"
   ]
  },
  {
   "cell_type": "markdown",
   "metadata": {},
   "source": [
    "В итоге, мы разработали код, который выполняет несколько шагов: сначала считывает видео с помощью OpenCV, затем вращает его на 10 градусов в секунду, создавая новое видео с вращением, после чего возвращает его в исходное состояние, применяя обратное вращение к каждому кадру. Наконец, мы используем FFmpeg для конвертации полученного видео в формат MP4."
   ]
  },
  {
   "cell_type": "markdown",
   "metadata": {},
   "source": []
  }
 ],
 "metadata": {
  "language_info": {
   "name": "python"
  }
 },
 "nbformat": 4,
 "nbformat_minor": 2
}
