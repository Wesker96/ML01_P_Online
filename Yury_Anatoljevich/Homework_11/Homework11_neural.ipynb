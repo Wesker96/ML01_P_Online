{
 "cells": [
  {
   "cell_type": "markdown",
   "metadata": {},
   "source": [
    "Для любых видео восстановить траекторию движения (t вектор). Выполнить визуализацию. \n",
    "Определить параметры которые влияют на \"точность\" определения вектора t\n",
    "Использовать решение на базе нейронных сетей. \n",
    "Любые идеи. \n",
    "\n",
    "***slam прикрутить. \n",
    "Видео 1 но что бы работало.    \n",
    "\n",
    "Анализ задания и пути решения.\n",
    "Грузим из интернета качественное видео полета дрона. Сохраняем кусок не менее 2 мин.\n",
    "В расчете используем предобученную нейросеть из модуля kornia, которая ищет соответствие ключевых точек двух наборов, а также извлекает дескрипторы для найденного набора ключевых точек.\n",
    "Сами ключевые точки можно искать с помощью детектора sift или orb.\n",
    "Выводим траекторию на трехмерный график.\n"
   ]
  },
  {
   "cell_type": "code",
   "execution_count": 1,
   "metadata": {},
   "outputs": [],
   "source": [
    "quit # reset all variables for repeated run of the program\n",
    "\n",
    "# loading necessary libraries and two pictures\n",
    "import cv2\n",
    "import numpy as np\n",
    "import matplotlib.pyplot as plt\n",
    "\n",
    "def filter_matches_distance(matches, dist_threshold):\n",
    "    \"\"\"\n",
    "    Filter matched features from two images by distance between the best matches\n",
    "\n",
    "    Arguments:\n",
    "    match -- list of matched features from two images\n",
    "    dist_threshold -- maximum allowed relative distance between the best matches, (0.0, 1.0) \n",
    "\n",
    "    Returns:\n",
    "    filtered_match -- list of good matches, satisfying the distance threshold\n",
    "    \"\"\"\n",
    "    filtered_match = []\n",
    "    for m, n in matches:\n",
    "        if m.distance <= dist_threshold * n.distance:\n",
    "            filtered_match.append(m)\n",
    "\n",
    "    return filtered_match"
   ]
  },
  {
   "cell_type": "markdown",
   "metadata": {},
   "source": [
    "Используем kornia по модифицированному нами методу В.Шанчука\n",
    "\n",
    "\n",
    "Реализуем функцию \"local_descriptor_function()\", которая принимает на вход следующие аргументы:\n",
    "1) \"image\" - изображение grayscale\n",
    "2) \"key_points\" - массив ключевых точек изображения\n",
    "3) \"model\" - модель определения дескриптора.\n"
   ]
  },
  {
   "cell_type": "code",
   "execution_count": 2,
   "metadata": {},
   "outputs": [],
   "source": [
    "import kornia\n",
    "import kornia.feature as KF\n",
    "from kornia_moons.feature import laf_from_opencv_SIFT_kpts, cv2_matches_from_kornia\n",
    "import torch\n",
    "\n",
    "model = KF.HardNet(True) # loading neural net model\n",
    "\n",
    "def local_descriptor_function(image, key_points, model):\n",
    "  with torch.no_grad():\n",
    "    model.eval()\n",
    "    # timg = kornia.color.rgb_to_grayscale(kornia.image_to_tensor(image, False).float()) / 255.\n",
    "    timg = kornia.image_to_tensor(image, False).float() / 255.\n",
    "    lafs = laf_from_opencv_SIFT_kpts(key_points)\n",
    "    affine = KF.LAFAffNetShapeEstimator(True)\n",
    "    orienter = KF.LAFOrienter(32, angle_detector = KF.OriNet(True))\n",
    "    orienter.eval()\n",
    "    affine.eval()\n",
    "    lafs_new = orienter(affine(lafs, timg), timg)\n",
    "    patches = KF.extract_patches_from_pyramid(timg, lafs_new, 32)\n",
    "    B, N, CH, H, W = patches.size()\n",
    "    descs = model(patches.view(B * N, CH, H, W)).view(B * N, -1)\n",
    "  return descs.detach().cpu().numpy()"
   ]
  },
  {
   "cell_type": "markdown",
   "metadata": {},
   "source": [
    "Затем реализуем функцию \"points_matching_function()\", которая принимает на вход следующие аргументы:\n",
    "1) \"image1\" - трехмерный массив cv2, представляющий первое изображение BGR\n",
    "2) \"image2\" - трехмерный массив cv2, представляющий второе изображение BGR\n",
    "3) \"model\" - модель определения дескриптора.\n",
    "Данная функция первоначально выполняла расчет матрицы аффинного преобразования для набора ключевых точек и дексрипторов двух изображений.\n",
    "Мы переделали ее для расчета только ключевых точек и соответствий между ними"
   ]
  },
  {
   "cell_type": "code",
   "execution_count": 3,
   "metadata": {},
   "outputs": [],
   "source": [
    "def points_matching_function(img1, img2, model):\n",
    "  img1 = cv2.cvtColor(img1, cv2.COLOR_BGR2GRAY)\n",
    "  img2 = cv2.cvtColor(img2, cv2.COLOR_BGR2GRAY)\n",
    "  detector_type = cv2.ORB_create()\n",
    "  key_points_1 = detector_type.detect(img1, None)\n",
    "  key_points_2 = detector_type.detect(img2, None)\n",
    "  descriptor_1 = local_descriptor_function(img1, key_points_1, model)\n",
    "  descriptor_2 = local_descriptor_function(img2, key_points_2, model)\n",
    "  dists, idxs = KF.match_smnn(torch.from_numpy(descriptor_1), torch.from_numpy(descriptor_2), 0.75)\n",
    "  tentatives = cv2_matches_from_kornia(dists, idxs)\n",
    "  return key_points_1, key_points_2, tentatives"
   ]
  },
  {
   "cell_type": "markdown",
   "metadata": {},
   "source": [
    "Загружаем видео и считываем попарно кадр и следующий кадр. Рассчитываем позицию камеры, если номер следующего считанного кадра кратен десяти."
   ]
  },
  {
   "cell_type": "code",
   "execution_count": 4,
   "metadata": {},
   "outputs": [
    {
     "name": "stdout",
     "output_type": "stream",
     "text": [
      "Video is opened\n",
      "Current frame is 20\n"
     ]
    },
    {
     "name": "stderr",
     "output_type": "stream",
     "text": [
      "C:\\Users\\varaksa_yua\\AppData\\Local\\Temp\\ipykernel_6516\\2353808465.py:14: DeprecationWarning: `LAFAffNetShapeEstimator` default behaviour is changed and now it does preserve original LAF orientation. Make sure your code accounts for this.\n",
      "  affine = KF.LAFAffNetShapeEstimator(True)\n"
     ]
    },
    {
     "name": "stdout",
     "output_type": "stream",
     "text": [
      "Current frame is 40\n",
      "Current frame is 60\n",
      "Current frame is 80\n",
      "Current frame is 100\n",
      "Current frame is 120\n",
      "Current frame is 140\n",
      "Current frame is 160\n",
      "Current frame is 180\n",
      "Current frame is 200\n",
      "Current frame is 220\n",
      "Current frame is 240\n",
      "Current frame is 260\n",
      "Current frame is 280\n",
      "Current frame is 300\n",
      "Current frame is 320\n",
      "Current frame is 340\n",
      "Current frame is 360\n",
      "Current frame is 380\n",
      "Current frame is 400\n",
      "Current frame is 420\n",
      "Current frame is 440\n",
      "Current frame is 460\n",
      "Current frame is 480\n",
      "Current frame is 500\n",
      "Current frame is 520\n",
      "Current frame is 540\n",
      "Current frame is 560\n",
      "Current frame is 580\n",
      "Current frame is 600\n",
      "Current frame is 620\n",
      "Current frame is 640\n",
      "Current frame is 660\n",
      "Current frame is 680\n",
      "Current frame is 700\n",
      "Current frame is 720\n",
      "Current frame is 740\n",
      "Current frame is 760\n",
      "Current frame is 780\n",
      "Current frame is 800\n",
      "Current frame is 820\n",
      "Current frame is 840\n",
      "Current frame is 860\n",
      "Current frame is 880\n",
      "Current frame is 900\n",
      "Current frame is 920\n",
      "Current frame is 940\n",
      "Current frame is 960\n",
      "Current frame is 980\n",
      "Current frame is 1000\n",
      "Current frame is 1020\n",
      "Current frame is 1040\n",
      "Current frame is 1060\n",
      "Current frame is 1080\n",
      "Current frame is 1100\n",
      "Current frame is 1120\n",
      "Current frame is 1140\n",
      "Current frame is 1160\n",
      "Current frame is 1180\n",
      "Current frame is 1200\n",
      "Current frame is 1220\n",
      "Current frame is 1240\n",
      "The video is over\n"
     ]
    }
   ],
   "source": [
    "# video_path = 'vid.mp4'  # file name (and path if necessary)\n",
    "video_path = 'narach.mp4'  # file name (and path if necessary)\n",
    "myvid = cv2.VideoCapture(video_path) # loading into cv2\n",
    "# Check if video opened successfully\n",
    "if not myvid.isOpened():\n",
    "     print(\"Video file not found\")\n",
    "else:\n",
    "     print(\"Video is opened\") \n",
    "\n",
    "# camera matrix K\n",
    "CameraMatrix = np.array([[3000 ,   0.    , 960],\n",
    "       [  0.    , 3000 , 540 ],\n",
    "      [  0.    ,   0.    ,   1.]], dtype=np.float32)\n",
    "\n",
    "sift = cv2.SIFT_create()\n",
    "poses = [] # list for camera poses\n",
    "# List for camera positions\n",
    "positions = [np.array([0, 0, 0])]\n",
    "\n",
    "# Reading the first frame of the video\n",
    "ret, frame = myvid.read()\n",
    "img1 = frame # cv2.cvtColor(frame, cv2. COLOR_BGR2GRAY)\n",
    "i = 0\n",
    "interval = 20 # interval between frames considered, e.g. interval = 5 for each 5th frame to be taken into account\n",
    "while True: # i < 1000:\n",
    "     i += 1\n",
    "     ret, frame = myvid.read() # read next frame          \n",
    "     if ret and i % interval == 0: # each 10-th frame\n",
    "         print(f'Current frame is {i}')\n",
    "         img2 = frame # cv2.cvtColor(frame, cv2. COLOR_BGR2GRAY)\n",
    "         try:                  \n",
    "             # keypoints1, keypoints2, matches = match_features_sp(img1, img2)\n",
    "             keypoints1, keypoints2, matches = points_matching_function(img1, img2, model)             \n",
    "             # matches = filter_matches_distance(matches, 0.7)             \n",
    "             pts1 = np.float32([keypoints1[m.queryIdx].pt for m in matches]).reshape(-1, 1, 2)\n",
    "             pts2 = np.float32([keypoints2[m.trainIdx].pt for m in matches]).reshape(-1, 1, 2)\n",
    "             F, mask = cv2.findEssentialMat(pts1, pts2, CameraMatrix, method=cv2.LMEDS, prob = 0.999, threshold = 1.0)     \n",
    "             a, R, t, b = cv2.recoverPose(F, pts1, pts2, CameraMatrix, mask)\n",
    "             # print(R)\n",
    "             poses.append((R, t))\n",
    "\n",
    "             # Обновить позицию камеры\n",
    "             current_position = positions[-1]\n",
    "             new_position = current_position + np.dot(R, t).T[0]\n",
    "             positions.append(new_position)\n",
    "             # Saving current frame as previous one\n",
    "             img1 = img2 \n",
    "         except:\n",
    "              pass\n",
    "     elif ret and i % interval != 0:\n",
    "          pass\n",
    "     else:\n",
    "          print('The video is over')\n",
    "          myvid.release()          # releasing video channel after viewing is over\n",
    "          # cv2.destroyAllWindows()  # close all windows\n",
    "          break                    # break the cycle\n",
    "\n"
   ]
  },
  {
   "cell_type": "markdown",
   "metadata": {},
   "source": [
    "Визуализируем результат\n"
   ]
  },
  {
   "cell_type": "code",
   "execution_count": 5,
   "metadata": {},
   "outputs": [],
   "source": [
    "import matplotlib.pyplot as plt\n",
    "from mpl_toolkits.mplot3d import Axes3D\n",
    "\n",
    "def create_trajectory(poses):\n",
    "    trajectory = [np.array([0, 0, 0])]\n",
    "    current_pose = np.eye(4)\n",
    "    pose_cam = [np.array([[0, 0, 0],[0, 0, 0],[0, 0, 0]])]\n",
    "\n",
    "    for R, t in poses:\n",
    "        T = np.eye(4)\n",
    "        T[:3, :3] = R\n",
    "        T[:3, 3] = t.T\n",
    "        current_pose = np.dot(current_pose, T)\n",
    "        trajectory.append(current_pose[:3, 3])\n",
    "        pose_cam.append(current_pose[:3, :3])\n",
    "\n",
    "    return np.array(trajectory),np.array(pose_cam)"
   ]
  },
  {
   "cell_type": "code",
   "execution_count": 6,
   "metadata": {},
   "outputs": [],
   "source": [
    "trajectory, pose_cam = create_trajectory(poses)"
   ]
  },
  {
   "cell_type": "code",
   "execution_count": 7,
   "metadata": {},
   "outputs": [
    {
     "data": {
      "application/vnd.plotly.v1+json": {
       "config": {
        "plotlyServerURL": "https://plot.ly"
       },
       "data": [
        {
         "line": {
          "color": "blue",
          "width": 2
         },
         "marker": {
          "color": "blue",
          "size": 3
         },
         "mode": "lines+markers",
         "name": "Camera Trajectory",
         "type": "scatter3d",
         "x": [
          -0.21105240091226182,
          -0.4471901572438844,
          -1.3666638455263331,
          -0.3676704375434787,
          -1.328598952916017,
          -1.5146091393845544,
          -1.5964211610588088,
          -1.6560325265806886,
          -1.791707426578954,
          -2.067259959644313,
          -2.294421977577964,
          -2.3848420828203536,
          -2.6566883437527395,
          -2.3499921819210385,
          -2.7900698954331578,
          -3.24563067111332,
          -3.18020136007334,
          -3.6035827885410985,
          -3.5729240087229406,
          -4.430703784181064,
          -4.330701735176021,
          -3.643546101159204,
          -3.2289904178796522,
          -2.934925059161349,
          -2.985657373509508,
          -2.780172282884936,
          -2.9259180195888566,
          -2.883797729657421,
          -2.979837746450893,
          -2.7867671455854617,
          -2.9195048200369587,
          -3.514019904349473,
          -3.381060119026782,
          -3.451670408680738,
          -3.4944694084208114,
          -3.409382821016912,
          -3.405642592390672,
          -3.488334507343785,
          -3.3998519955019737,
          -3.451442489528807,
          -3.5235002435828933,
          -3.6572981067499533,
          -3.6815490202314742,
          -3.7371377921237263,
          -3.7046845768700973,
          -3.947237587274987,
          -4.240522707826522,
          -4.27090153200973,
          -4.305351672297869,
          -4.347181319793134,
          -4.515375104818616,
          -4.887821523391576,
          -4.925337674706232,
          -5.223719089252208,
          -5.397629313588217,
          -5.542981693387004,
          -5.654437921284439,
          -5.924360957149666,
          -6.234296986658722,
          -6.741831638621114,
          -6.9141491230777605,
          -7.051889541791969
         ],
         "y": [
          0.007899745099824735,
          0.11155722815598813,
          0.5033116515805752,
          0.529253232377823,
          0.5645827728038492,
          0.5054202796109732,
          -0.4806182278165909,
          -1.474304742758487,
          -1.5325315621975157,
          -1.7003021172045312,
          -1.7753639503390692,
          -2.0736688313913785,
          -2.3206857682716957,
          -2.2985752827822705,
          -2.29040473919203,
          -2.2609231716066134,
          -1.2717909623975658,
          -0.9954733860107625,
          -0.0037411627040817574,
          0.01760585096626318,
          -0.18714076087758486,
          -0.1588011856078131,
          0.7491932203866026,
          1.7027423628000924,
          2.269849185824856,
          2.8159937166868705,
          2.4240274364240992,
          2.914917922927408,
          3.240351164448958,
          3.5441389332060504,
          4.05184389727809,
          4.4611331802290675,
          4.702408327986556,
          3.928160794255052,
          3.051301800258739,
          3.237558311525166,
          2.276418117693647,
          2.2921749762901533,
          2.361712778344366,
          2.4123370656468714,
          2.3545023938122687,
          2.3228783748365194,
          2.354711271366885,
          2.377792102145657,
          2.4707905250229203,
          2.557030695537827,
          2.6704175940563086,
          1.6863148162409596,
          1.5824688350893763,
          1.4557059161996215,
          1.4248017084823021,
          1.2031392834428394,
          1.1152462137380974,
          0.9840890381068348,
          0.9090704461572534,
          0.8307705894425955,
          0.7698805308719338,
          0.6446566076008975,
          0.5543857623890323,
          0.4780432972776309,
          0.3817703146469436,
          -0.6075508432917167
         ],
         "z": [
          0.9774428259988038,
          1.9436178030299462,
          1.9105027266516637,
          1.8739075740690962,
          1.599374858500961,
          0.618609845906638,
          0.4735758671996033,
          0.3785306404743972,
          -0.6105102884099817,
          -1.557042824773049,
          -2.5280027306470214,
          -3.4781808205377125,
          -4.408278795651811,
          -3.456728171276458,
          -4.354650689251915,
          -5.244367058009057,
          -5.376035117773234,
          -6.238819426281636,
          -6.114211093995025,
          -5.600637183226214,
          -4.626943999962997,
          -5.352901301126417,
          -5.413644565308333,
          -5.47898672477965,
          -6.301067063651489,
          -7.113164366282474,
          -6.20480286590413,
          -7.075005377642998,
          -8.015680412119348,
          -8.948652402392929,
          -9.799896421013802,
          -10.49201931283747,
          -11.453324674604243,
          -12.082256263495808,
          -12.561095015341378,
          -13.539904897113532,
          -13.815940290661779,
          -14.8123908757931,
          -15.806038368208611,
          -16.80342274870651,
          -17.799145014609238,
          -18.78964895364015,
          -19.7888479127538,
          -20.787034851002378,
          -21.78217206875782,
          -22.748469471286196,
          -23.69774669597213,
          -23.872729122910837,
          -24.866725702398305,
          -25.8577763786934,
          -26.843045773642906,
          -27.744239112842546,
          -28.73966231263669,
          -29.685054467635858,
          -30.66695438347927,
          -31.653231128680783,
          -32.64513329625082,
          -33.599837713203996,
          -34.546299985097015,
          -35.40454261109396,
          -36.38486816791981,
          -36.43252552314796
         ]
        },
        {
         "line": {
          "color": "green",
          "width": 2
         },
         "mode": "lines",
         "name": "Camera Direction 0",
         "showlegend": true,
         "type": "scatter3d",
         "x": [
          0,
          0
         ],
         "y": [
          0,
          0
         ],
         "z": [
          0,
          0
         ]
        },
        {
         "line": {
          "color": "green",
          "width": 2
         },
         "mode": "lines",
         "showlegend": false,
         "type": "scatter3d",
         "x": [
          -0.21105240091226182,
          -0.20941753389335122
         ],
         "y": [
          0.007899745099824735,
          0.007095143393532249
         ],
         "z": [
          0.9774428259988038,
          1.4774395058137049
         ]
        },
        {
         "line": {
          "color": "green",
          "width": 2
         },
         "mode": "lines",
         "showlegend": false,
         "type": "scatter3d",
         "x": [
          -0.4471901572438844,
          -0.44302275543565556
         ],
         "y": [
          0.11155722815598813,
          0.11089698243676345
         ],
         "z": [
          1.9436178030299462,
          2.4435999995507416
         ]
        },
        {
         "line": {
          "color": "green",
          "width": 2
         },
         "mode": "lines",
         "showlegend": false,
         "type": "scatter3d",
         "x": [
          -1.3666638455263331,
          -1.3481832628312358
         ],
         "y": [
          0.5033116515805752,
          0.49642527978140716
         ],
         "z": [
          1.9105027266516637,
          2.410113621195301
         ]
        },
        {
         "line": {
          "color": "green",
          "width": 2
         },
         "mode": "lines",
         "showlegend": false,
         "type": "scatter3d",
         "x": [
          -0.3676704375434787,
          -0.34918985484838133
         ],
         "y": [
          0.529253232377823,
          0.5223668605786548
         ],
         "z": [
          1.8739075740690962,
          2.3735184686127333
         ]
        },
        {
         "line": {
          "color": "green",
          "width": 2
         },
         "mode": "lines",
         "showlegend": false,
         "type": "scatter3d",
         "x": [
          -1.328598952916017,
          -1.2992079558900589
         ],
         "y": [
          0.5645827728038492,
          0.5576517164684943
         ],
         "z": [
          1.599374858500961,
          2.0984621552255884
         ]
        },
        {
         "line": {
          "color": "green",
          "width": 2
         },
         "mode": "lines",
         "showlegend": false,
         "type": "scatter3d",
         "x": [
          -1.5146091393845544,
          -1.4849467166869408
         ],
         "y": [
          0.5054202796109732,
          0.4996869522301103
         ],
         "z": [
          0.618609845906638,
          1.1176962809425464
         ]
        },
        {
         "line": {
          "color": "green",
          "width": 2
         },
         "mode": "lines",
         "showlegend": false,
         "type": "scatter3d",
         "x": [
          -1.5964211610588088,
          -1.5652787785592321
         ],
         "y": [
          -0.4806182278165909,
          -0.45167907992768913
         ],
         "z": [
          0.4735758671996033,
          0.9717652666569927
         ]
        },
        {
         "line": {
          "color": "green",
          "width": 2
         },
         "mode": "lines",
         "showlegend": false,
         "type": "scatter3d",
         "x": [
          -1.6560325265806886,
          -1.624055501338712
         ],
         "y": [
          -1.474304742758487,
          -1.4124148358204336
         ],
         "z": [
          0.3785306404743972,
          0.8736539678140339
         ]
        },
        {
         "line": {
          "color": "green",
          "width": 2
         },
         "mode": "lines",
         "showlegend": false,
         "type": "scatter3d",
         "x": [
          -1.791707426578954,
          -1.7602671497248978
         ],
         "y": [
          -1.5325315621975157,
          -1.4688179291624635
         ],
         "z": [
          -0.6105102884099817,
          -0.11558394847966957
         ]
        },
        {
         "line": {
          "color": "green",
          "width": 2
         },
         "mode": "lines",
         "showlegend": false,
         "type": "scatter3d",
         "x": [
          -2.067259959644313,
          -2.0347040812641835
         ],
         "y": [
          -1.7003021172045312,
          -1.6345546553231634
         ],
         "z": [
          -1.557042824773049,
          -1.0624547274242995
         ]
        },
        {
         "line": {
          "color": "green",
          "width": 2
         },
         "mode": "lines",
         "showlegend": false,
         "type": "scatter3d",
         "x": [
          -2.294421977577964,
          -2.2598631240337066
         ],
         "y": [
          -1.7753639503390692,
          -1.709438580507864
         ],
         "z": [
          -2.5280027306470214,
          -2.033574241121665
         ]
        },
        {
         "line": {
          "color": "green",
          "width": 2
         },
         "mode": "lines",
         "showlegend": false,
         "type": "scatter3d",
         "x": [
          -2.3848420828203536,
          -2.3451521861397087
         ],
         "y": [
          -2.0736688313913785,
          -2.0021067480044663
         ],
         "z": [
          -3.4781808205377125,
          -2.9849226930600152
         ]
        },
        {
         "line": {
          "color": "green",
          "width": 2
         },
         "mode": "lines",
         "showlegend": false,
         "type": "scatter3d",
         "x": [
          -2.6566883437527395,
          -2.613609124645406
         ],
         "y": [
          -2.3206857682716957,
          -2.2454805582346604
         ],
         "z": [
          -4.408278795651811,
          -3.9158477271108554
         ]
        },
        {
         "line": {
          "color": "green",
          "width": 2
         },
         "mode": "lines",
         "showlegend": false,
         "type": "scatter3d",
         "x": [
          -2.3499921819210385,
          -2.09516157439057
         ],
         "y": [
          -2.2985752827822705,
          -2.35503402853818
         ],
         "z": [
          -3.456728171276458,
          -3.0302615588748285
         ]
        },
        {
         "line": {
          "color": "green",
          "width": 2
         },
         "mode": "lines",
         "showlegend": false,
         "type": "scatter3d",
         "x": [
          -2.7900698954331578,
          -2.533425502749914
         ],
         "y": [
          -2.29040473919203,
          -2.3507323288655266
         ],
         "z": [
          -4.354650689251915,
          -3.929804555188728
         ]
        },
        {
         "line": {
          "color": "green",
          "width": 2
         },
         "mode": "lines",
         "showlegend": false,
         "type": "scatter3d",
         "x": [
          -3.24563067111332,
          -2.987556404466256
         ],
         "y": [
          -2.2609231716066134,
          -2.3256106999677524
         ],
         "z": [
          -5.244367058009057,
          -4.821031261543524
         ]
        },
        {
         "line": {
          "color": "green",
          "width": 2
         },
         "mode": "lines",
         "showlegend": false,
         "type": "scatter3d",
         "x": [
          -3.18020136007334,
          -2.9340768041859953
         ],
         "y": [
          -1.2717909623975658,
          -1.4016072219970743
         ],
         "z": [
          -5.376035117773234,
          -4.960619131401922
         ]
        },
        {
         "line": {
          "color": "green",
          "width": 2
         },
         "mode": "lines",
         "showlegend": false,
         "type": "scatter3d",
         "x": [
          -3.6035827885410985,
          -3.361560635668713
         ],
         "y": [
          -0.9954733860107625,
          -1.1292929124055227
         ],
         "z": [
          -6.238819426281636,
          -5.822264973809336
         ]
        },
        {
         "line": {
          "color": "green",
          "width": 2
         },
         "mode": "lines",
         "showlegend": false,
         "type": "scatter3d",
         "x": [
          -3.5729240087229406,
          -3.3377223288187854
         ],
         "y": [
          -0.0037411627040817574,
          -0.19827483123171644
         ],
         "z": [
          -6.114211093995025,
          -5.718184804994606
         ]
        },
        {
         "line": {
          "color": "green",
          "width": 2
         },
         "mode": "lines",
         "showlegend": false,
         "type": "scatter3d",
         "x": [
          -4.430703784181064,
          -4.183204252534376
         ],
         "y": [
          0.01760585096626318,
          -0.17714286394339646
         ],
         "z": [
          -5.600637183226214,
          -5.212285641609979
         ]
        },
        {
         "line": {
          "color": "green",
          "width": 2
         },
         "mode": "lines",
         "showlegend": false,
         "type": "scatter3d",
         "x": [
          -4.330701735176021,
          -4.080402845412408
         ],
         "y": [
          -0.18714076087758486,
          -0.3822039524999601
         ],
         "z": [
          -4.626943999962997,
          -4.240549360951021
         ]
        },
        {
         "line": {
          "color": "green",
          "width": 2
         },
         "mode": "lines",
         "showlegend": false,
         "type": "scatter3d",
         "x": [
          -3.643546101159204,
          -3.406917898258153
         ],
         "y": [
          -0.1588011856078131,
          -0.35384207291340675
         ],
         "z": [
          -5.352901301126417,
          -4.957975807050806
         ]
        },
        {
         "line": {
          "color": "green",
          "width": 2
         },
         "mode": "lines",
         "showlegend": false,
         "type": "scatter3d",
         "x": [
          -3.2289904178796522,
          -3.0468998527523117
         ],
         "y": [
          0.7491932203866026,
          0.47929791905393804
         ],
         "z": [
          -5.413644565308333,
          -5.034171835839988
         ]
        },
        {
         "line": {
          "color": "green",
          "width": 2
         },
         "mode": "lines",
         "showlegend": false,
         "type": "scatter3d",
         "x": [
          -2.934925059161349,
          -2.7759609856029948
         ],
         "y": [
          1.7027423628000924,
          1.3993059695091081
         ],
         "z": [
          -5.47898672477965,
          -5.11476594208831
         ]
        },
        {
         "line": {
          "color": "green",
          "width": 2
         },
         "mode": "lines",
         "showlegend": false,
         "type": "scatter3d",
         "x": [
          -2.985657373509508,
          -2.82693637475793
         ],
         "y": [
          2.269849185824856,
          1.966335434782434
         ],
         "z": [
          -6.301067063651489,
          -5.93680473032088
         ]
        },
        {
         "line": {
          "color": "green",
          "width": 2
         },
         "mode": "lines",
         "showlegend": false,
         "type": "scatter3d",
         "x": [
          -2.780172282884936,
          -2.6269596089861484
         ],
         "y": [
          2.8159937166868705,
          2.5114142217575224
         ],
         "z": [
          -7.113164366282474,
          -6.747436041121068
         ]
        },
        {
         "line": {
          "color": "green",
          "width": 2
         },
         "mode": "lines",
         "showlegend": false,
         "type": "scatter3d",
         "x": [
          -2.9259180195888566,
          -2.771941967610961
         ],
         "y": [
          2.4240274364240992,
          2.119077817514081
         ],
         "z": [
          -6.20480286590413,
          -5.839704104821687
         ]
        },
        {
         "line": {
          "color": "green",
          "width": 2
         },
         "mode": "lines",
         "showlegend": false,
         "type": "scatter3d",
         "x": [
          -2.883797729657421,
          -3.0772663174696793
         ],
         "y": [
          2.914917922927408,
          2.767519994264867
         ],
         "z": [
          -7.075005377642998,
          -6.638148700738634
         ]
        },
        {
         "line": {
          "color": "green",
          "width": 2
         },
         "mode": "lines",
         "showlegend": false,
         "type": "scatter3d",
         "x": [
          -2.979837746450893,
          -3.1655035340914943
         ],
         "y": [
          3.240351164448958,
          3.093015115621416
         ],
         "z": [
          -8.015680412119348,
          -7.575430137825642
         ]
        },
        {
         "line": {
          "color": "green",
          "width": 2
         },
         "mode": "lines",
         "showlegend": false,
         "type": "scatter3d",
         "x": [
          -2.7867671455854617,
          -2.968435227684775
         ],
         "y": [
          3.5441389332060504,
          3.3969840373276385
         ],
         "z": [
          -8.948652402392929,
          -8.50667712642676
         ]
        },
        {
         "line": {
          "color": "green",
          "width": 2
         },
         "mode": "lines",
         "showlegend": false,
         "type": "scatter3d",
         "x": [
          -2.9195048200369587,
          -3.1002717890295224
         ],
         "y": [
          4.05184389727809,
          3.903065195250292
         ],
         "z": [
          -9.799896421013802,
          -9.35809533370848
         ]
        },
        {
         "line": {
          "color": "green",
          "width": 2
         },
         "mode": "lines",
         "showlegend": false,
         "type": "scatter3d",
         "x": [
          -3.514019904349473,
          -3.6770392167532244
         ],
         "y": [
          4.4611331802290675,
          4.306927489185902
         ],
         "z": [
          -10.49201931283747,
          -10.04520245031625
         ]
        },
        {
         "line": {
          "color": "green",
          "width": 2
         },
         "mode": "lines",
         "showlegend": false,
         "type": "scatter3d",
         "x": [
          -3.381060119026782,
          -3.5363470965378587
         ],
         "y": [
          4.702408327986556,
          4.550313567570586
         ],
         "z": [
          -11.453324674604243,
          -11.003043497483233
         ]
        },
        {
         "line": {
          "color": "green",
          "width": 2
         },
         "mode": "lines",
         "showlegend": false,
         "type": "scatter3d",
         "x": [
          -3.451670408680738,
          -3.599108150544217
         ],
         "y": [
          3.928160794255052,
          3.8169866124979266
         ],
         "z": [
          -12.082256263495808,
          -11.617603260078385
         ]
        },
        {
         "line": {
          "color": "green",
          "width": 2
         },
         "mode": "lines",
         "showlegend": false,
         "type": "scatter3d",
         "x": [
          -3.4944694084208114,
          -3.637232655970157
         ],
         "y": [
          3.051301800258739,
          2.990473632680945
         ],
         "z": [
          -12.561095015341378,
          -12.08578607456886
         ]
        },
        {
         "line": {
          "color": "green",
          "width": 2
         },
         "mode": "lines",
         "showlegend": false,
         "type": "scatter3d",
         "x": [
          -3.409382821016912,
          -3.55156388316907
         ],
         "y": [
          3.237558311525166,
          3.17596094157093
         ],
         "z": [
          -13.539904897113532,
          -13.064520516238428
         ]
        },
        {
         "line": {
          "color": "green",
          "width": 2
         },
         "mode": "lines",
         "showlegend": false,
         "type": "scatter3d",
         "x": [
          -3.405642592390672,
          -3.546268704731087
         ],
         "y": [
          2.276418117693647,
          2.281776323458897
         ],
         "z": [
          -13.815940290661779,
          -13.336153268995917
         ]
        },
        {
         "line": {
          "color": "green",
          "width": 2
         },
         "mode": "lines",
         "showlegend": false,
         "type": "scatter3d",
         "x": [
          -3.488334507343785,
          -3.622102928508595
         ],
         "y": [
          2.2921749762901533,
          2.2985631839405762
         ],
         "z": [
          -14.8123908757931,
          -14.330659415016363
         ]
        },
        {
         "line": {
          "color": "green",
          "width": 2
         },
         "mode": "lines",
         "showlegend": false,
         "type": "scatter3d",
         "x": [
          -3.3998519955019737,
          -3.530418612468439
         ],
         "y": [
          2.361712778344366,
          2.3687308644390628
         ],
         "z": [
          -15.806038368208611,
          -15.323438010768317
         ]
        },
        {
         "line": {
          "color": "green",
          "width": 2
         },
         "mode": "lines",
         "showlegend": false,
         "type": "scatter3d",
         "x": [
          -3.451442489528807,
          -3.577009487169891
         ],
         "y": [
          2.4123370656468714,
          2.420228700238538
         ],
         "z": [
          -16.80342274870651,
          -16.319510926979788
         ]
        },
        {
         "line": {
          "color": "green",
          "width": 2
         },
         "mode": "lines",
         "showlegend": false,
         "type": "scatter3d",
         "x": [
          -3.5235002435828933,
          -3.6414051297447085
         ],
         "y": [
          2.3545023938122687,
          2.3657249304029166
         ],
         "z": [
          -17.799145014609238,
          -17.313375015029557
         ]
        },
        {
         "line": {
          "color": "green",
          "width": 2
         },
         "mode": "lines",
         "showlegend": false,
         "type": "scatter3d",
         "x": [
          -3.6572981067499533,
          -3.767628766779685
         ],
         "y": [
          2.3228783748365194,
          2.336441978554173
         ],
         "z": [
          -18.78964895364015,
          -18.30216236499222
         ]
        },
        {
         "line": {
          "color": "green",
          "width": 2
         },
         "mode": "lines",
         "showlegend": false,
         "type": "scatter3d",
         "x": [
          -3.6815490202314742,
          -3.787654218843336
         ],
         "y": [
          2.354711271366885,
          2.3693392932820347
         ],
         "z": [
          -19.7888479127538,
          -19.300454927748497
         ]
        },
        {
         "line": {
          "color": "green",
          "width": 2
         },
         "mode": "lines",
         "showlegend": false,
         "type": "scatter3d",
         "x": [
          -3.7371377921237263,
          -3.8389354033512726
         ],
         "y": [
          2.377792102145657,
          2.3935677923636245
         ],
         "z": [
          -20.787034851002378,
          -20.29776153888888
         ]
        },
        {
         "line": {
          "color": "green",
          "width": 2
         },
         "mode": "lines",
         "showlegend": false,
         "type": "scatter3d",
         "x": [
          -3.7046845768700973,
          -3.804818904923079
         ],
         "y": [
          2.4707905250229203,
          2.486891649294586
         ],
         "z": [
          -21.78217206875782,
          -21.2925662373561
         ]
        },
        {
         "line": {
          "color": "green",
          "width": 2
         },
         "mode": "lines",
         "showlegend": false,
         "type": "scatter3d",
         "x": [
          -3.947237587274987,
          -4.043489605855922
         ],
         "y": [
          2.557030695537827,
          2.5733803219235547
         ],
         "z": [
          -22.748469471286196,
          -22.258093861537766
         ]
        },
        {
         "line": {
          "color": "green",
          "width": 2
         },
         "mode": "lines",
         "showlegend": false,
         "type": "scatter3d",
         "x": [
          -4.240522707826522,
          -4.3325355769357365
         ],
         "y": [
          2.6704175940563086,
          2.686547162390776
         ],
         "z": [
          -23.69774669597213,
          -23.20655073818783
         ]
        },
        {
         "line": {
          "color": "green",
          "width": 2
         },
         "mode": "lines",
         "showlegend": false,
         "type": "scatter3d",
         "x": [
          -4.27090153200973,
          -4.359622695138454
         ],
         "y": [
          1.6863148162409596,
          1.768845528951178
         ],
         "z": [
          -23.872729122910837,
          -23.387634042877416
         ]
        },
        {
         "line": {
          "color": "green",
          "width": 2
         },
         "mode": "lines",
         "showlegend": false,
         "type": "scatter3d",
         "x": [
          -4.305351672297869,
          -4.3911960620391834
         ],
         "y": [
          1.5824688350893763,
          1.6660630047343894
         ],
         "z": [
          -24.866725702398305,
          -24.381295217620824
         ]
        },
        {
         "line": {
          "color": "green",
          "width": 2
         },
         "mode": "lines",
         "showlegend": false,
         "type": "scatter3d",
         "x": [
          -4.347181319793134,
          -4.4293736621284765
         ],
         "y": [
          1.4557059161996215,
          1.5408131004690733
         ],
         "z": [
          -25.8577763786934,
          -25.371976845915572
         ]
        },
        {
         "line": {
          "color": "green",
          "width": 2
         },
         "mode": "lines",
         "showlegend": false,
         "type": "scatter3d",
         "x": [
          -4.515375104818616,
          -4.594779870796945
         ],
         "y": [
          1.4248017084823021,
          1.5102557447426777
         ],
         "z": [
          -26.843045773642906,
          -26.356843664611347
         ]
        },
        {
         "line": {
          "color": "green",
          "width": 2
         },
         "mode": "lines",
         "showlegend": false,
         "type": "scatter3d",
         "x": [
          -4.887821523391576,
          -4.95579570518843
         ],
         "y": [
          1.2031392834428394,
          1.2927127427412748
         ],
         "z": [
          -27.744239112842546,
          -27.257047050101004
         ]
        },
        {
         "line": {
          "color": "green",
          "width": 2
         },
         "mode": "lines",
         "showlegend": false,
         "type": "scatter3d",
         "x": [
          -4.925337674706232,
          -4.9918440945134455
         ],
         "y": [
          1.1152462137380974,
          1.2053361155879412
         ],
         "z": [
          -28.73966231263669,
          -28.252362912155718
         ]
        },
        {
         "line": {
          "color": "green",
          "width": 2
         },
         "mode": "lines",
         "showlegend": false,
         "type": "scatter3d",
         "x": [
          -5.223719089252208,
          -5.284499063433245
         ],
         "y": [
          0.9840890381068348,
          1.075557136395377
         ],
         "z": [
          -29.685054467635858,
          -29.197264162551768
         ]
        },
        {
         "line": {
          "color": "green",
          "width": 2
         },
         "mode": "lines",
         "showlegend": false,
         "type": "scatter3d",
         "x": [
          -5.397629313588217,
          -5.455589990597903
         ],
         "y": [
          0.9090704461572534,
          1.0009843230341886
         ],
         "z": [
          -30.66695438347927,
          -30.17890479669732
         ]
        },
        {
         "line": {
          "color": "green",
          "width": 2
         },
         "mode": "lines",
         "showlegend": false,
         "type": "scatter3d",
         "x": [
          -5.542981693387004,
          -5.59854403445633
         ],
         "y": [
          0.8307705894425955,
          0.9232307727557539
         ],
         "z": [
          -31.653231128680783,
          -31.165005831551895
         ]
        },
        {
         "line": {
          "color": "green",
          "width": 2
         },
         "mode": "lines",
         "showlegend": false,
         "type": "scatter3d",
         "x": [
          -5.654437921284439,
          -5.707958763334381
         ],
         "y": [
          0.7698805308719338,
          0.8627508167922695
         ],
         "z": [
          -32.64513329625082,
          -32.1567577957808
         ]
        },
        {
         "line": {
          "color": "green",
          "width": 2
         },
         "mode": "lines",
         "showlegend": false,
         "type": "scatter3d",
         "x": [
          -5.924360957149666,
          -5.9722892531818355
         ],
         "y": [
          0.6446566076008975,
          0.7388160283531289
         ],
         "z": [
          -33.599837713203996,
          -33.111128308830544
         ]
        },
        {
         "line": {
          "color": "green",
          "width": 2
         },
         "mode": "lines",
         "showlegend": false,
         "type": "scatter3d",
         "x": [
          -6.234296986658722,
          -6.2764426229288865
         ],
         "y": [
          0.5543857623890323,
          0.6492403501216205
         ],
         "z": [
          -34.546299985097015,
          -34.05719227453679
         ]
        },
        {
         "line": {
          "color": "green",
          "width": 2
         },
         "mode": "lines",
         "showlegend": false,
         "type": "scatter3d",
         "x": [
          -6.741831638621114,
          -6.77514655594305
         ],
         "y": [
          0.4780432972776309,
          0.5735345903084996
         ],
         "z": [
          -35.40454261109396,
          -34.914877900052694
         ]
        },
        {
         "line": {
          "color": "green",
          "width": 2
         },
         "mode": "lines",
         "showlegend": false,
         "type": "scatter3d",
         "x": [
          -6.9141491230777605,
          -6.944041873963747
         ],
         "y": [
          0.3817703146469436,
          0.4780885137545966
         ],
         "z": [
          -36.38486816791981,
          -35.89514454385709
         ]
        },
        {
         "line": {
          "color": "green",
          "width": 2
         },
         "mode": "lines",
         "showlegend": false,
         "type": "scatter3d",
         "x": [
          -7.051889541791969,
          -7.070811017252364
         ],
         "y": [
          -0.6075508432917167,
          -0.43775961169387057
         ],
         "z": [
          -36.43252552314796,
          -35.962618175430464
         ]
        }
       ],
       "layout": {
        "scene": {
         "xaxis": {
          "title": {
           "text": "X-axis"
          }
         },
         "yaxis": {
          "title": {
           "text": "Y-axis"
          }
         },
         "zaxis": {
          "title": {
           "text": "Z-axis"
          }
         }
        },
        "showlegend": true,
        "template": {
         "data": {
          "bar": [
           {
            "error_x": {
             "color": "#2a3f5f"
            },
            "error_y": {
             "color": "#2a3f5f"
            },
            "marker": {
             "line": {
              "color": "#E5ECF6",
              "width": 0.5
             },
             "pattern": {
              "fillmode": "overlay",
              "size": 10,
              "solidity": 0.2
             }
            },
            "type": "bar"
           }
          ],
          "barpolar": [
           {
            "marker": {
             "line": {
              "color": "#E5ECF6",
              "width": 0.5
             },
             "pattern": {
              "fillmode": "overlay",
              "size": 10,
              "solidity": 0.2
             }
            },
            "type": "barpolar"
           }
          ],
          "carpet": [
           {
            "aaxis": {
             "endlinecolor": "#2a3f5f",
             "gridcolor": "white",
             "linecolor": "white",
             "minorgridcolor": "white",
             "startlinecolor": "#2a3f5f"
            },
            "baxis": {
             "endlinecolor": "#2a3f5f",
             "gridcolor": "white",
             "linecolor": "white",
             "minorgridcolor": "white",
             "startlinecolor": "#2a3f5f"
            },
            "type": "carpet"
           }
          ],
          "choropleth": [
           {
            "colorbar": {
             "outlinewidth": 0,
             "ticks": ""
            },
            "type": "choropleth"
           }
          ],
          "contour": [
           {
            "colorbar": {
             "outlinewidth": 0,
             "ticks": ""
            },
            "colorscale": [
             [
              0,
              "#0d0887"
             ],
             [
              0.1111111111111111,
              "#46039f"
             ],
             [
              0.2222222222222222,
              "#7201a8"
             ],
             [
              0.3333333333333333,
              "#9c179e"
             ],
             [
              0.4444444444444444,
              "#bd3786"
             ],
             [
              0.5555555555555556,
              "#d8576b"
             ],
             [
              0.6666666666666666,
              "#ed7953"
             ],
             [
              0.7777777777777778,
              "#fb9f3a"
             ],
             [
              0.8888888888888888,
              "#fdca26"
             ],
             [
              1,
              "#f0f921"
             ]
            ],
            "type": "contour"
           }
          ],
          "contourcarpet": [
           {
            "colorbar": {
             "outlinewidth": 0,
             "ticks": ""
            },
            "type": "contourcarpet"
           }
          ],
          "heatmap": [
           {
            "colorbar": {
             "outlinewidth": 0,
             "ticks": ""
            },
            "colorscale": [
             [
              0,
              "#0d0887"
             ],
             [
              0.1111111111111111,
              "#46039f"
             ],
             [
              0.2222222222222222,
              "#7201a8"
             ],
             [
              0.3333333333333333,
              "#9c179e"
             ],
             [
              0.4444444444444444,
              "#bd3786"
             ],
             [
              0.5555555555555556,
              "#d8576b"
             ],
             [
              0.6666666666666666,
              "#ed7953"
             ],
             [
              0.7777777777777778,
              "#fb9f3a"
             ],
             [
              0.8888888888888888,
              "#fdca26"
             ],
             [
              1,
              "#f0f921"
             ]
            ],
            "type": "heatmap"
           }
          ],
          "heatmapgl": [
           {
            "colorbar": {
             "outlinewidth": 0,
             "ticks": ""
            },
            "colorscale": [
             [
              0,
              "#0d0887"
             ],
             [
              0.1111111111111111,
              "#46039f"
             ],
             [
              0.2222222222222222,
              "#7201a8"
             ],
             [
              0.3333333333333333,
              "#9c179e"
             ],
             [
              0.4444444444444444,
              "#bd3786"
             ],
             [
              0.5555555555555556,
              "#d8576b"
             ],
             [
              0.6666666666666666,
              "#ed7953"
             ],
             [
              0.7777777777777778,
              "#fb9f3a"
             ],
             [
              0.8888888888888888,
              "#fdca26"
             ],
             [
              1,
              "#f0f921"
             ]
            ],
            "type": "heatmapgl"
           }
          ],
          "histogram": [
           {
            "marker": {
             "pattern": {
              "fillmode": "overlay",
              "size": 10,
              "solidity": 0.2
             }
            },
            "type": "histogram"
           }
          ],
          "histogram2d": [
           {
            "colorbar": {
             "outlinewidth": 0,
             "ticks": ""
            },
            "colorscale": [
             [
              0,
              "#0d0887"
             ],
             [
              0.1111111111111111,
              "#46039f"
             ],
             [
              0.2222222222222222,
              "#7201a8"
             ],
             [
              0.3333333333333333,
              "#9c179e"
             ],
             [
              0.4444444444444444,
              "#bd3786"
             ],
             [
              0.5555555555555556,
              "#d8576b"
             ],
             [
              0.6666666666666666,
              "#ed7953"
             ],
             [
              0.7777777777777778,
              "#fb9f3a"
             ],
             [
              0.8888888888888888,
              "#fdca26"
             ],
             [
              1,
              "#f0f921"
             ]
            ],
            "type": "histogram2d"
           }
          ],
          "histogram2dcontour": [
           {
            "colorbar": {
             "outlinewidth": 0,
             "ticks": ""
            },
            "colorscale": [
             [
              0,
              "#0d0887"
             ],
             [
              0.1111111111111111,
              "#46039f"
             ],
             [
              0.2222222222222222,
              "#7201a8"
             ],
             [
              0.3333333333333333,
              "#9c179e"
             ],
             [
              0.4444444444444444,
              "#bd3786"
             ],
             [
              0.5555555555555556,
              "#d8576b"
             ],
             [
              0.6666666666666666,
              "#ed7953"
             ],
             [
              0.7777777777777778,
              "#fb9f3a"
             ],
             [
              0.8888888888888888,
              "#fdca26"
             ],
             [
              1,
              "#f0f921"
             ]
            ],
            "type": "histogram2dcontour"
           }
          ],
          "mesh3d": [
           {
            "colorbar": {
             "outlinewidth": 0,
             "ticks": ""
            },
            "type": "mesh3d"
           }
          ],
          "parcoords": [
           {
            "line": {
             "colorbar": {
              "outlinewidth": 0,
              "ticks": ""
             }
            },
            "type": "parcoords"
           }
          ],
          "pie": [
           {
            "automargin": true,
            "type": "pie"
           }
          ],
          "scatter": [
           {
            "fillpattern": {
             "fillmode": "overlay",
             "size": 10,
             "solidity": 0.2
            },
            "type": "scatter"
           }
          ],
          "scatter3d": [
           {
            "line": {
             "colorbar": {
              "outlinewidth": 0,
              "ticks": ""
             }
            },
            "marker": {
             "colorbar": {
              "outlinewidth": 0,
              "ticks": ""
             }
            },
            "type": "scatter3d"
           }
          ],
          "scattercarpet": [
           {
            "marker": {
             "colorbar": {
              "outlinewidth": 0,
              "ticks": ""
             }
            },
            "type": "scattercarpet"
           }
          ],
          "scattergeo": [
           {
            "marker": {
             "colorbar": {
              "outlinewidth": 0,
              "ticks": ""
             }
            },
            "type": "scattergeo"
           }
          ],
          "scattergl": [
           {
            "marker": {
             "colorbar": {
              "outlinewidth": 0,
              "ticks": ""
             }
            },
            "type": "scattergl"
           }
          ],
          "scattermapbox": [
           {
            "marker": {
             "colorbar": {
              "outlinewidth": 0,
              "ticks": ""
             }
            },
            "type": "scattermapbox"
           }
          ],
          "scatterpolar": [
           {
            "marker": {
             "colorbar": {
              "outlinewidth": 0,
              "ticks": ""
             }
            },
            "type": "scatterpolar"
           }
          ],
          "scatterpolargl": [
           {
            "marker": {
             "colorbar": {
              "outlinewidth": 0,
              "ticks": ""
             }
            },
            "type": "scatterpolargl"
           }
          ],
          "scatterternary": [
           {
            "marker": {
             "colorbar": {
              "outlinewidth": 0,
              "ticks": ""
             }
            },
            "type": "scatterternary"
           }
          ],
          "surface": [
           {
            "colorbar": {
             "outlinewidth": 0,
             "ticks": ""
            },
            "colorscale": [
             [
              0,
              "#0d0887"
             ],
             [
              0.1111111111111111,
              "#46039f"
             ],
             [
              0.2222222222222222,
              "#7201a8"
             ],
             [
              0.3333333333333333,
              "#9c179e"
             ],
             [
              0.4444444444444444,
              "#bd3786"
             ],
             [
              0.5555555555555556,
              "#d8576b"
             ],
             [
              0.6666666666666666,
              "#ed7953"
             ],
             [
              0.7777777777777778,
              "#fb9f3a"
             ],
             [
              0.8888888888888888,
              "#fdca26"
             ],
             [
              1,
              "#f0f921"
             ]
            ],
            "type": "surface"
           }
          ],
          "table": [
           {
            "cells": {
             "fill": {
              "color": "#EBF0F8"
             },
             "line": {
              "color": "white"
             }
            },
            "header": {
             "fill": {
              "color": "#C8D4E3"
             },
             "line": {
              "color": "white"
             }
            },
            "type": "table"
           }
          ]
         },
         "layout": {
          "annotationdefaults": {
           "arrowcolor": "#2a3f5f",
           "arrowhead": 0,
           "arrowwidth": 1
          },
          "autotypenumbers": "strict",
          "coloraxis": {
           "colorbar": {
            "outlinewidth": 0,
            "ticks": ""
           }
          },
          "colorscale": {
           "diverging": [
            [
             0,
             "#8e0152"
            ],
            [
             0.1,
             "#c51b7d"
            ],
            [
             0.2,
             "#de77ae"
            ],
            [
             0.3,
             "#f1b6da"
            ],
            [
             0.4,
             "#fde0ef"
            ],
            [
             0.5,
             "#f7f7f7"
            ],
            [
             0.6,
             "#e6f5d0"
            ],
            [
             0.7,
             "#b8e186"
            ],
            [
             0.8,
             "#7fbc41"
            ],
            [
             0.9,
             "#4d9221"
            ],
            [
             1,
             "#276419"
            ]
           ],
           "sequential": [
            [
             0,
             "#0d0887"
            ],
            [
             0.1111111111111111,
             "#46039f"
            ],
            [
             0.2222222222222222,
             "#7201a8"
            ],
            [
             0.3333333333333333,
             "#9c179e"
            ],
            [
             0.4444444444444444,
             "#bd3786"
            ],
            [
             0.5555555555555556,
             "#d8576b"
            ],
            [
             0.6666666666666666,
             "#ed7953"
            ],
            [
             0.7777777777777778,
             "#fb9f3a"
            ],
            [
             0.8888888888888888,
             "#fdca26"
            ],
            [
             1,
             "#f0f921"
            ]
           ],
           "sequentialminus": [
            [
             0,
             "#0d0887"
            ],
            [
             0.1111111111111111,
             "#46039f"
            ],
            [
             0.2222222222222222,
             "#7201a8"
            ],
            [
             0.3333333333333333,
             "#9c179e"
            ],
            [
             0.4444444444444444,
             "#bd3786"
            ],
            [
             0.5555555555555556,
             "#d8576b"
            ],
            [
             0.6666666666666666,
             "#ed7953"
            ],
            [
             0.7777777777777778,
             "#fb9f3a"
            ],
            [
             0.8888888888888888,
             "#fdca26"
            ],
            [
             1,
             "#f0f921"
            ]
           ]
          },
          "colorway": [
           "#636efa",
           "#EF553B",
           "#00cc96",
           "#ab63fa",
           "#FFA15A",
           "#19d3f3",
           "#FF6692",
           "#B6E880",
           "#FF97FF",
           "#FECB52"
          ],
          "font": {
           "color": "#2a3f5f"
          },
          "geo": {
           "bgcolor": "white",
           "lakecolor": "white",
           "landcolor": "#E5ECF6",
           "showlakes": true,
           "showland": true,
           "subunitcolor": "white"
          },
          "hoverlabel": {
           "align": "left"
          },
          "hovermode": "closest",
          "mapbox": {
           "style": "light"
          },
          "paper_bgcolor": "white",
          "plot_bgcolor": "#E5ECF6",
          "polar": {
           "angularaxis": {
            "gridcolor": "white",
            "linecolor": "white",
            "ticks": ""
           },
           "bgcolor": "#E5ECF6",
           "radialaxis": {
            "gridcolor": "white",
            "linecolor": "white",
            "ticks": ""
           }
          },
          "scene": {
           "xaxis": {
            "backgroundcolor": "#E5ECF6",
            "gridcolor": "white",
            "gridwidth": 2,
            "linecolor": "white",
            "showbackground": true,
            "ticks": "",
            "zerolinecolor": "white"
           },
           "yaxis": {
            "backgroundcolor": "#E5ECF6",
            "gridcolor": "white",
            "gridwidth": 2,
            "linecolor": "white",
            "showbackground": true,
            "ticks": "",
            "zerolinecolor": "white"
           },
           "zaxis": {
            "backgroundcolor": "#E5ECF6",
            "gridcolor": "white",
            "gridwidth": 2,
            "linecolor": "white",
            "showbackground": true,
            "ticks": "",
            "zerolinecolor": "white"
           }
          },
          "shapedefaults": {
           "line": {
            "color": "#2a3f5f"
           }
          },
          "ternary": {
           "aaxis": {
            "gridcolor": "white",
            "linecolor": "white",
            "ticks": ""
           },
           "baxis": {
            "gridcolor": "white",
            "linecolor": "white",
            "ticks": ""
           },
           "bgcolor": "#E5ECF6",
           "caxis": {
            "gridcolor": "white",
            "linecolor": "white",
            "ticks": ""
           }
          },
          "title": {
           "x": 0.05
          },
          "xaxis": {
           "automargin": true,
           "gridcolor": "white",
           "linecolor": "white",
           "ticks": "",
           "title": {
            "standoff": 15
           },
           "zerolinecolor": "white",
           "zerolinewidth": 2
          },
          "yaxis": {
           "automargin": true,
           "gridcolor": "white",
           "linecolor": "white",
           "ticks": "",
           "title": {
            "standoff": 15
           },
           "zerolinecolor": "white",
           "zerolinewidth": 2
          }
         }
        },
        "title": {
         "text": "Camera Motion Trajectory"
        }
       }
      }
     },
     "metadata": {},
     "output_type": "display_data"
    }
   ],
   "source": [
    "import plotly.graph_objects as go\n",
    "import numpy as np\n",
    "# Создание фигуры\n",
    "fig = go.Figure()\n",
    "\n",
    "fig.add_trace(go.Scatter3d(\n",
    "    x=trajectory[1:, 0],\n",
    "    y=trajectory[1:, 1],\n",
    "    z=trajectory[1:, 2],\n",
    "    mode='lines+markers',\n",
    "    marker=dict(size=3, color='blue'),\n",
    "    line=dict(color='blue', width=2),\n",
    "    name='Camera Trajectory'\n",
    "))\n",
    "\n",
    "# Добавление ориентации камеры в каждой точке траектории\n",
    "for i, (R, t) in enumerate(zip(pose_cam,trajectory)):\n",
    "    # Направление камеры (ось Z камеры)\n",
    "    camera_direction = R @ np.array([0, 0, 1])  # Направление оси Z камеры\n",
    "    camera_direction_end = t + camera_direction * 0.5  # Конец вектора направления\n",
    "\n",
    "    # Добавляем линию, представляющую направление камеры\n",
    "    fig.add_trace(go.Scatter3d(\n",
    "        x=[t[0], camera_direction_end[0]],\n",
    "        y=[t[1], camera_direction_end[1]],\n",
    "        z=[t[2], camera_direction_end[2]],\n",
    "        mode='lines',\n",
    "        line=dict(color='green', width=2),\n",
    "        name=f'Camera Direction {i}' if i == 0 else None,\n",
    "        showlegend=False if i > 0 else True\n",
    "    ))\n",
    "\n",
    "# Настройка макета графика\n",
    "fig.update_layout(\n",
    "    title='Camera Motion Trajectory',\n",
    "    scene = dict(\n",
    "        xaxis_title='X-axis',\n",
    "        yaxis_title='Y-axis',\n",
    "        zaxis_title='Z-axis'\n",
    "    ),\n",
    "    showlegend=True\n",
    ")\n",
    "\n",
    "# Показать график\n",
    "fig.show()"
   ]
  },
  {
   "cell_type": "code",
   "execution_count": 8,
   "metadata": {},
   "outputs": [],
   "source": [
    "fig.write_html(\"camera_trajectory_kornia.html\")"
   ]
  },
  {
   "cell_type": "markdown",
   "metadata": {},
   "source": [
    "Выводы: опробовали возможность применения нейросети для восстановления траектории дрона и ориентации камеры.\n",
    "Поиск ключевых точек можно осуществлять детектором SIFT или ORB.\n",
    "Для поиска соответствий между двумя множествами ключевых точек использовалась предобученная нейросеть kornia.\n",
    "Сравнение изображения траектории с найденными ранее без применения нейросети показало, что они различаются. Можно предположить, что это связано с тем, что ни один из опробованных методов без использования карты глубины не дает верно найденной траектории.\n"
   ]
  },
  {
   "cell_type": "markdown",
   "metadata": {},
   "source": [
    "---"
   ]
  }
 ],
 "metadata": {
  "kernelspec": {
   "display_name": "Python 3",
   "language": "python",
   "name": "python3"
  },
  "language_info": {
   "codemirror_mode": {
    "name": "ipython",
    "version": 3
   },
   "file_extension": ".py",
   "mimetype": "text/x-python",
   "name": "python",
   "nbconvert_exporter": "python",
   "pygments_lexer": "ipython3",
   "version": "3.10.5"
  }
 },
 "nbformat": 4,
 "nbformat_minor": 2
}
