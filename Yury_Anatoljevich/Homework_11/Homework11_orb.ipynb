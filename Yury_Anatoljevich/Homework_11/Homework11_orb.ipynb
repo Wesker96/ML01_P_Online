{
 "cells": [
  {
   "cell_type": "markdown",
   "metadata": {},
   "source": [
    "Для любых видео восстановить траекторию движения (t вектор). Выполнить визуализацию. \n",
    "Определить параметры которые влияют на \"точность\" определения вектора t\n",
    "Использовать решение на базе нейронных сетей. \n",
    "Любые идеи. \n",
    "\n",
    "***slam прикрутить. \n",
    "Видео 1 но что бы работало.    \n",
    "\n",
    "Анализ задания и пути решения.\n",
    "Грузим из интернета качественное видео полета дрона. Сохраняем кусок не менее 2 мин.\n",
    "Анализируем с помощью детектора orb.\n",
    "Выводим траекторию на трехмерный график.\n"
   ]
  },
  {
   "cell_type": "code",
   "execution_count": 1,
   "metadata": {},
   "outputs": [],
   "source": [
    "# quit # reset all variables for repeated run of the program\n",
    "\n",
    "# loading necessary libraries and two pictures\n",
    "import cv2\n",
    "import numpy as np\n",
    "import matplotlib.pyplot as plt\n",
    "\n",
    "def filter_matches_distance(matches, dist_threshold):\n",
    "    \"\"\"\n",
    "    Filter matched features from two images by distance between the best matches\n",
    "\n",
    "    Arguments:\n",
    "    match -- list of matched features from two images\n",
    "    dist_threshold -- maximum allowed relative distance between the best matches, (0.0, 1.0) \n",
    "\n",
    "    Returns:\n",
    "    filtered_match -- list of good matches, satisfying the distance threshold\n",
    "    \"\"\"\n",
    "    filtered_match = []\n",
    "    for m, n in matches:\n",
    "        if m.distance <= dist_threshold * n.distance:\n",
    "            filtered_match.append(m)\n",
    "\n",
    "    return filtered_match"
   ]
  },
  {
   "cell_type": "markdown",
   "metadata": {},
   "source": [
    "Согласно информации из лекции, это не будет работать если:\n",
    "- Небольшое перемещение камеры (должно быть минимум несколько пикселей)\n",
    "- Не исправленное изображение\n",
    "- Мало точек или точки все сосредоточены в одной области\n",
    "\n",
    "Поэтому мы далее анализируем не соседние кадры, а через 10 кадров. Учитывая фреймрейт 30 кадров в секунду, это вполне еще ВЧ дискретизация по времени."
   ]
  },
  {
   "cell_type": "code",
   "execution_count": 2,
   "metadata": {},
   "outputs": [],
   "source": [
    "def match_features(des1, des2, matching='BF', detector='orb', sort=True, k=2):\n",
    "    \"\"\"\n",
    "    Match features from two images\n",
    "\n",
    "    Arguments:\n",
    "    des1 -- list of the keypoint descriptors in the first image\n",
    "    des2 -- list of the keypoint descriptors in the second image\n",
    "    matching -- (str) can be 'BF' for Brute Force or 'FLANN'\n",
    "    detector -- (str) can be 'sift or 'orb'. Default is 'sift'\n",
    "    sort -- (bool) whether to sort matches by distance. Default is True\n",
    "    k -- (int) number of neighbors to match to each feature.\n",
    "\n",
    "    Returns:\n",
    "    matches -- list of matched features from two images. Each match[i] is k or less matches for \n",
    "               the same query descriptor\n",
    "    \"\"\"\n",
    "    if matching == 'BF':\n",
    "        if detector == 'sift':\n",
    "            matcher = cv2.BFMatcher_create(cv2.NORM_L2, crossCheck=False)\n",
    "        elif detector == 'orb':\n",
    "            matcher = cv2.BFMatcher_create(cv2.NORM_HAMMING2, crossCheck=False)\n",
    "        matches = matcher.knnMatch(des1, des2, k=k)\n",
    "    elif matching == 'FLANN':\n",
    "        FLANN_INDEX_KDTREE = 1\n",
    "        index_params = dict(algorithm = FLANN_INDEX_KDTREE, trees=5)\n",
    "        search_params = dict(checks=50)\n",
    "        matcher = cv2.FlannBasedMatcher(index_params, search_params)\n",
    "        matches = matcher.knnMatch(des1, des2, k=k)\n",
    "    \n",
    "    if sort:\n",
    "        matches = sorted(matches, key = lambda x:x[0].distance)\n",
    "\n",
    "    return matches"
   ]
  },
  {
   "cell_type": "code",
   "execution_count": null,
   "metadata": {},
   "outputs": [],
   "source": []
  },
  {
   "cell_type": "markdown",
   "metadata": {},
   "source": [
    "Загружаем видео и считываем попарно кадр и следующий кадр. Рассчитываем позицию камеры, если номер следующего считанного кадра кратен десяти."
   ]
  },
  {
   "cell_type": "code",
   "execution_count": 3,
   "metadata": {},
   "outputs": [
    {
     "name": "stdout",
     "output_type": "stream",
     "text": [
      "Video is opened\n",
      "Current frame is 20\n",
      "Current frame is 40\n",
      "Current frame is 60\n",
      "Current frame is 80\n",
      "Current frame is 100\n",
      "Current frame is 120\n",
      "Current frame is 140\n",
      "Current frame is 160\n",
      "Current frame is 180\n",
      "Current frame is 200\n",
      "Current frame is 220\n",
      "Current frame is 240\n",
      "Current frame is 260\n",
      "Current frame is 280\n",
      "Current frame is 300\n",
      "Current frame is 320\n",
      "Current frame is 340\n",
      "Current frame is 360\n",
      "Current frame is 380\n",
      "Current frame is 400\n",
      "Current frame is 420\n",
      "Current frame is 440\n",
      "Current frame is 460\n",
      "Current frame is 480\n",
      "Current frame is 500\n",
      "Current frame is 520\n",
      "Current frame is 540\n",
      "Current frame is 560\n",
      "Current frame is 580\n",
      "Current frame is 600\n",
      "Current frame is 620\n",
      "Current frame is 640\n",
      "Current frame is 660\n",
      "Current frame is 680\n",
      "Current frame is 700\n",
      "Current frame is 720\n",
      "Current frame is 740\n",
      "Current frame is 760\n",
      "Current frame is 780\n",
      "Current frame is 800\n",
      "Current frame is 820\n",
      "Current frame is 840\n",
      "Current frame is 860\n",
      "Current frame is 880\n",
      "Current frame is 900\n",
      "Current frame is 920\n",
      "Current frame is 940\n",
      "Current frame is 960\n",
      "Current frame is 980\n",
      "Current frame is 1000\n",
      "Current frame is 1020\n",
      "Current frame is 1040\n",
      "Current frame is 1060\n",
      "Current frame is 1080\n",
      "Current frame is 1100\n",
      "Current frame is 1120\n",
      "Current frame is 1140\n",
      "Current frame is 1160\n",
      "Current frame is 1180\n",
      "Current frame is 1200\n",
      "Current frame is 1220\n",
      "Current frame is 1240\n",
      "The video is over\n"
     ]
    }
   ],
   "source": [
    "# video_path = 'vid.mp4'  # file name (and path if necessary)\n",
    "video_path = 'narach.mp4'  # file name (and path if necessary)\n",
    "myvid = cv2.VideoCapture(video_path) # loading into cv2\n",
    "# Check if video opened successfully\n",
    "if not myvid.isOpened():\n",
    "     print(\"Video file not found\")\n",
    "else:\n",
    "     print(\"Video is opened\") \n",
    "\n",
    "# camera matrix K\n",
    "K = np.array([[3000 ,   0.    , 960],\n",
    "       [  0.    , 3000 , 540 ],\n",
    "      [  0.    ,   0.    ,   1.]], dtype=np.float32)\n",
    "\n",
    "orb = sift = cv2.ORB_create(); # sift = cv2.SIFT_create()\n",
    "poses = [] # list for camera poses\n",
    "# List for camera positions\n",
    "positions = [np.array([0, 0, 0])]\n",
    "\n",
    "# Reading the first frame of the video\n",
    "ret, frame = myvid.read()\n",
    "img1 = cv2. cvtColor(frame, cv2. COLOR_BGR2GRAY)\n",
    "i = 0\n",
    "interval = 20 # interval between frames considered, e.g. interval = 5 for each 5th frame to be taken into account\n",
    "while True: # i < 1000:\n",
    "     i += 1\n",
    "     ret, frame = myvid.read() # read next frame          \n",
    "     if ret and i % interval == 0: # each 10-th frame\n",
    "         print(f'Current frame is {i}')\n",
    "         img2 = cv2. cvtColor(frame, cv2. COLOR_BGR2GRAY)\n",
    "         try:\n",
    "             keypoints1, descriptors1 = orb.detectAndCompute(img1, None)\n",
    "             keypoints2, descriptors2 = orb.detectAndCompute(img2, None)      \n",
    "             matches = match_features(descriptors1, descriptors2, matching = 'BF', detector = 'orb', sort = True)\n",
    "             matches = filter_matches_distance(matches, 0.7)\n",
    "             # matches = matcher.match(np.array(descriptors1,dtype=np.uint8), np.array(descriptors2,dtype=np.uint8))\n",
    "             pts1 = np.float32([keypoints1[m.queryIdx].pt for m in matches]).reshape(-1, 1, 2)\n",
    "             pts2 = np.float32([keypoints2[m.trainIdx].pt for m in matches]).reshape(-1, 1, 2)\n",
    "       \n",
    "             # F, mask = cv2.findEssentialMat(pts1, pts2, K, method=cv2.LMEDS, prob = 0.999, threshold = 1.0) # LMEDS    \n",
    "             F, mask = cv2.findEssentialMat(pts1, pts2, K, method=cv2.RANSAC, prob = 0.999, threshold = 1.0) #RANSAC   \n",
    "             a, R, t, b = cv2.recoverPose(F, pts1, pts2, K, mask)\n",
    "             # print(R)\n",
    "             poses.append((R, t))\n",
    "\n",
    "             # Обновить позицию камеры\n",
    "             current_position = positions[-1]\n",
    "             new_position = current_position + np.dot(R, t).T[0]\n",
    "             positions.append(new_position)\n",
    "             # Saving current frame as previous one\n",
    "             img1 = img2 \n",
    "         except:\n",
    "              pass\n",
    "     elif ret and i % interval != 0:\n",
    "          pass\n",
    "     else:\n",
    "          print('The video is over')\n",
    "          myvid.release()          # releasing video channel after viewing is over\n",
    "          # cv2.destroyAllWindows()  # close all windows\n",
    "          break                    # break the cycle\n"
   ]
  },
  {
   "cell_type": "markdown",
   "metadata": {},
   "source": [
    "Визуализируем результат\n"
   ]
  },
  {
   "cell_type": "code",
   "execution_count": 4,
   "metadata": {},
   "outputs": [],
   "source": [
    "# print(poses)"
   ]
  },
  {
   "cell_type": "code",
   "execution_count": 5,
   "metadata": {},
   "outputs": [],
   "source": [
    "# F, mask = cv2.findEssentialMat(pts1, pts2, K, method=cv2.LMEDS, prob=0.999, threshold=1.0)\n",
    "# a, R, t, b = cv2.recoverPose(F, pts1, pts2, K, mask)"
   ]
  },
  {
   "cell_type": "code",
   "execution_count": 6,
   "metadata": {},
   "outputs": [],
   "source": [
    "# poses"
   ]
  },
  {
   "cell_type": "code",
   "execution_count": 7,
   "metadata": {},
   "outputs": [],
   "source": [
    "import matplotlib.pyplot as plt\n",
    "from mpl_toolkits.mplot3d import Axes3D\n",
    "\n",
    "def create_trajectory(poses):\n",
    "    trajectory = [np.array([0, 0, 0])]\n",
    "    current_pose = np.eye(4)\n",
    "    pose_cam = [np.array([[0, 0, 0],[0, 0, 0],[0, 0, 0]])]\n",
    "\n",
    "    for R, t in poses:\n",
    "        T = np.eye(4)\n",
    "        T[:3, :3] = R\n",
    "        T[:3, 3] = t.T\n",
    "        current_pose = np.dot(current_pose, T)\n",
    "        trajectory.append(current_pose[:3, 3])\n",
    "        pose_cam.append(current_pose[:3, :3])\n",
    "\n",
    "    return np.array(trajectory),np.array(pose_cam)"
   ]
  },
  {
   "cell_type": "code",
   "execution_count": 8,
   "metadata": {},
   "outputs": [],
   "source": [
    "trajectory, pose_cam = create_trajectory(poses)"
   ]
  },
  {
   "cell_type": "code",
   "execution_count": 9,
   "metadata": {},
   "outputs": [
    {
     "data": {
      "application/vnd.plotly.v1+json": {
       "config": {
        "plotlyServerURL": "https://plot.ly"
       },
       "data": [
        {
         "line": {
          "color": "blue",
          "width": 2
         },
         "marker": {
          "color": "blue",
          "size": 3
         },
         "mode": "lines+markers",
         "name": "Camera Trajectory",
         "type": "scatter3d",
         "x": [
          -0.2356411111306572,
          -1.1772694218557034,
          -1.0277965241317335,
          -0.930867905555616,
          -1.2819134995063308,
          -2.2510558384530848,
          -2.1554848748887054,
          -3.115896731998921,
          -2.902953159207839,
          -2.8413386726722174,
          -2.9792150200856695,
          -3.1225555707319996,
          -3.553736747490014,
          -3.726155986485505,
          -3.5697421947240007,
          -3.837132949913379,
          -3.7541266791211463,
          -4.119248971703481,
          -4.490050302148001,
          -4.12244169873691,
          -3.731854757291692,
          -3.9128295048690274,
          -4.069168289477531,
          -3.894204809878151,
          -4.0713391228148,
          -3.8647138904747167,
          -3.6369143612561614,
          -3.1451434010914334,
          -3.2535843871017707,
          -3.163265454805654,
          -3.319509009833571,
          -4.039603436954376,
          -4.220877661063017,
          -3.966235390596676,
          -4.70856936793181,
          -5.309751750090467,
          -4.824712869530741,
          -5.31656122441409,
          -5.894407195516549,
          -6.197863816254376,
          -6.454855939315483,
          -6.821382493027701,
          -7.309861605842163,
          -7.820590500907964,
          -8.144682495195124,
          -7.5155191054870425,
          -7.779977785214416,
          -7.080451901315627,
          -7.449063269041166,
          -6.78399084233643,
          -6.7526315531207235,
          -6.806731569043836,
          -6.89636808801562,
          -6.8728268985638294,
          -7.085113704780364,
          -7.211300795001509,
          -7.248314601235846,
          -7.311027752093526,
          -7.470958592723358,
          -7.57631300693306,
          -7.652241137302383,
          -7.761957658752473
         ],
         "y": [
          0.008288842248231176,
          0.34413587954090874,
          0.5301976922811867,
          -0.44726799556435404,
          -1.3309072151423877,
          -1.0946734495640689,
          -2.088666938775785,
          -2.01932711443477,
          -1.9546849194440215,
          -2.9525029777766836,
          -3.162043987604907,
          -3.4603518050390365,
          -3.7179766229196844,
          -3.8467528975237086,
          -4.817058143697233,
          -5.165508124408515,
          -6.1040319083431545,
          -6.790687827929029,
          -7.310853393222393,
          -6.93331510699808,
          -7.686857685831347,
          -8.576921923053215,
          -9.388153687036967,
          -10.22438842705698,
          -10.99084693006952,
          -11.7540469012045,
          -10.964935752114613,
          -11.579308662545635,
          -12.434569709373502,
          -13.105819424594745,
          -14.032984615563224,
          -14.69077007872307,
          -15.668130412925091,
          -16.20885216099524,
          -16.821457557643296,
          -17.585208211312295,
          -18.003038222384745,
          -18.720088432303815,
          -19.418109181943365,
          -20.353433199688936,
          -21.305325702754303,
          -22.220321352519044,
          -23.021883953028652,
          -23.754870807919215,
          -24.69854068959018,
          -24.839024850175992,
          -25.75571869691203,
          -25.80028983387335,
          -26.628002511346747,
          -26.493385839833902,
          -27.393558194287994,
          -28.26786398213598,
          -29.15836331784851,
          -30.066437569757245,
          -30.906440513543536,
          -31.74045804376396,
          -32.58482003186836,
          -33.45710052326104,
          -34.273055778538605,
          -35.07898714804716,
          -35.88035821018356,
          -36.59489040748294
         ],
         "z": [
          0.9718047961598529,
          0.9951048387097504,
          1.9662067152838825,
          1.7786815916722216,
          1.468925686819201,
          1.5393297695239883,
          1.4860087199460439,
          1.2161920164555746,
          2.1911158193415985,
          2.167392887099004,
          1.1993625786767454,
          0.25571755399951424,
          -0.6089860056216638,
          -1.5855556534826465,
          -1.4010496779834156,
          -2.2994286598065434,
          -1.964342005345089,
          -2.5929828881685792,
          -3.362355462428676,
          -2.512456199496324,
          -1.9836694532008317,
          -1.5652990499001525,
          -2.1287360113527587,
          -1.6090252837454324,
          -2.2264107373643514,
          -1.6141756375701894,
          -1.0437275953526344,
          -0.4267128064965072,
          -0.9334366902162392,
          -0.1977286569012,
          -0.5382468798623533,
          -0.3173797241212861,
          -0.42649632598517695,
          0.37523761071434025,
          0.6466319623347795,
          0.8817163778161556,
          1.6499320807229343,
          2.143818902022674,
          2.5667385950535095,
          2.7486260909367104,
          2.9155263943890875,
          3.084171721438028,
          3.428969566280872,
          3.8782871224730466,
          3.945006937116658,
          4.709479061968527,
          5.00903539735995,
          5.722251319437964,
          6.145355778328824,
          6.879901228922505,
          7.314304644259514,
          7.796655737979252,
          8.242723252557662,
          8.660870314510255,
          9.160199230493244,
          9.697313350161066,
          10.231806391455743,
          10.716774230642264,
          11.272327241254533,
          11.854886315553943,
          12.44821534719574,
          13.139161093215932
         ]
        },
        {
         "line": {
          "color": "green",
          "width": 2
         },
         "mode": "lines",
         "name": "Camera Direction 0",
         "showlegend": true,
         "type": "scatter3d",
         "x": [
          0,
          0
         ],
         "y": [
          0,
          0
         ],
         "z": [
          0,
          0
         ]
        },
        {
         "line": {
          "color": "green",
          "width": 2
         },
         "mode": "lines",
         "showlegend": false,
         "type": "scatter3d",
         "x": [
          -0.2356411111306572,
          -0.23389326373018499
         ],
         "y": [
          0.008288842248231176,
          0.0074753911033315695
         ],
         "z": [
          0.9718047961598529,
          1.4718010794727387
         ]
        },
        {
         "line": {
          "color": "green",
          "width": 2
         },
         "mode": "lines",
         "showlegend": false,
         "type": "scatter3d",
         "x": [
          -1.1772694218557034,
          -1.1564531453662672
         ],
         "y": [
          0.34413587954090874,
          0.3375588843467217
         ],
         "z": [
          0.9951048387097504,
          1.494628037137342
         ]
        },
        {
         "line": {
          "color": "green",
          "width": 2
         },
         "mode": "lines",
         "showlegend": false,
         "type": "scatter3d",
         "x": [
          -1.0277965241317335,
          -1.0063102711636573
         ],
         "y": [
          0.5301976922811867,
          0.5245794420602491
         ],
         "z": [
          1.9662067152838825,
          2.465713247971741
         ]
        },
        {
         "line": {
          "color": "green",
          "width": 2
         },
         "mode": "lines",
         "showlegend": false,
         "type": "scatter3d",
         "x": [
          -0.930867905555616,
          -0.9117746905224529
         ],
         "y": [
          -0.44726799556435404,
          -0.43541714538142356
         ],
         "z": [
          1.7786815916722216,
          2.278176342885524
         ]
        },
        {
         "line": {
          "color": "green",
          "width": 2
         },
         "mode": "lines",
         "showlegend": false,
         "type": "scatter3d",
         "x": [
          -1.2819134995063308,
          -1.2556620481232494
         ],
         "y": [
          -1.3309072151423877,
          -1.2992931233384786
         ],
         "z": [
          1.468925686819201,
          1.9672342363140856
         ]
        },
        {
         "line": {
          "color": "green",
          "width": 2
         },
         "mode": "lines",
         "showlegend": false,
         "type": "scatter3d",
         "x": [
          -2.2510558384530848,
          -2.2198530149469744
         ],
         "y": [
          -1.0946734495640689,
          -1.0641488296659796
         ],
         "z": [
          1.5393297695239883,
          2.0374207565788875
         ]
        },
        {
         "line": {
          "color": "green",
          "width": 2
         },
         "mode": "lines",
         "showlegend": false,
         "type": "scatter3d",
         "x": [
          -2.1554848748887054,
          -2.1285256962591803
         ],
         "y": [
          -2.088666938775785,
          -2.026125265378623
         ],
         "z": [
          1.4860087199460439,
          1.9813487463686055
         ]
        },
        {
         "line": {
          "color": "green",
          "width": 2
         },
         "mode": "lines",
         "showlegend": false,
         "type": "scatter3d",
         "x": [
          -3.115896731998921,
          -3.071963333171305
         ],
         "y": [
          -2.01932711443477,
          -1.9583330524200475
         ],
         "z": [
          1.2161920164555746,
          1.710509304102282
         ]
        },
        {
         "line": {
          "color": "green",
          "width": 2
         },
         "mode": "lines",
         "showlegend": false,
         "type": "scatter3d",
         "x": [
          -2.902953159207839,
          -2.8597197837470967
         ],
         "y": [
          -1.9546849194440215,
          -1.8914592861974335
         ],
         "z": [
          2.1911158193415985,
          2.685214386984572
         ]
        },
        {
         "line": {
          "color": "green",
          "width": 2
         },
         "mode": "lines",
         "showlegend": false,
         "type": "scatter3d",
         "x": [
          -2.8413386726722174,
          -2.8030359068252113
         ],
         "y": [
          -2.9525029777766836,
          -2.8450852085735687
         ],
         "z": [
          2.167392887099004,
          2.654213512163201
         ]
        },
        {
         "line": {
          "color": "green",
          "width": 2
         },
         "mode": "lines",
         "showlegend": false,
         "type": "scatter3d",
         "x": [
          -2.9792150200856695,
          -2.9391432525134458
         ],
         "y": [
          -3.162043987604907,
          -3.0539987833592033
         ],
         "z": [
          1.1993625786767454,
          1.6859018754279347
         ]
        },
        {
         "line": {
          "color": "green",
          "width": 2
         },
         "mode": "lines",
         "showlegend": false,
         "type": "scatter3d",
         "x": [
          -3.1225555707319996,
          -3.076545623529746
         ],
         "y": [
          -3.4603518050390365,
          -3.348539136158743
         ],
         "z": [
          0.25571755399951424,
          0.7408783642844254
         ]
        },
        {
         "line": {
          "color": "green",
          "width": 2
         },
         "mode": "lines",
         "showlegend": false,
         "type": "scatter3d",
         "x": [
          -3.553736747490014,
          -3.5018963621198096
         ],
         "y": [
          -3.7179766229196844,
          -3.6038997076419874
         ],
         "z": [
          -0.6089860056216638,
          -0.12494155327726014
         ]
        },
        {
         "line": {
          "color": "green",
          "width": 2
         },
         "mode": "lines",
         "showlegend": false,
         "type": "scatter3d",
         "x": [
          -3.726155986485505,
          -3.6767341877721442
         ],
         "y": [
          -3.8467528975237086,
          -3.7300719462685095
         ],
         "z": [
          -1.5855556534826465,
          -1.1018790658477706
         ]
        },
        {
         "line": {
          "color": "green",
          "width": 2
         },
         "mode": "lines",
         "showlegend": false,
         "type": "scatter3d",
         "x": [
          -3.5697421947240007,
          -3.537792630697699
         ],
         "y": [
          -4.817058143697233,
          -4.615734431028348
         ],
         "z": [
          -1.4010496779834156,
          -0.9444886326940205
         ]
        },
        {
         "line": {
          "color": "green",
          "width": 2
         },
         "mode": "lines",
         "showlegend": false,
         "type": "scatter3d",
         "x": [
          -3.837132949913379,
          -3.8059599212330597
         ],
         "y": [
          -5.165508124408515,
          -4.959947841601789
         ],
         "z": [
          -2.2994286598065434,
          -1.8447054336399944
         ]
        },
        {
         "line": {
          "color": "green",
          "width": 2
         },
         "mode": "lines",
         "showlegend": false,
         "type": "scatter3d",
         "x": [
          -3.7541266791211463,
          -3.7326135599027546
         ],
         "y": [
          -6.1040319083431545,
          -5.825709985509501
         ],
         "z": [
          -1.964342005345089,
          -1.5495238608869744
         ]
        },
        {
         "line": {
          "color": "green",
          "width": 2
         },
         "mode": "lines",
         "showlegend": false,
         "type": "scatter3d",
         "x": [
          -4.119248971703481,
          -4.088570295299064
         ],
         "y": [
          -6.790687827929029,
          -6.505135149325947
         ],
         "z": [
          -2.5929828881685792,
          -2.1836926652745086
         ]
        },
        {
         "line": {
          "color": "green",
          "width": 2
         },
         "mode": "lines",
         "showlegend": false,
         "type": "scatter3d",
         "x": [
          -4.490050302148001,
          -4.458143468270953
         ],
         "y": [
          -7.310853393222393,
          -7.024315531909618
         ],
         "z": [
          -3.362355462428676,
          -2.9538484147706905
         ]
        },
        {
         "line": {
          "color": "green",
          "width": 2
         },
         "mode": "lines",
         "showlegend": false,
         "type": "scatter3d",
         "x": [
          -4.12244169873691,
          -4.095440093715775
         ],
         "y": [
          -6.93331510699808,
          -6.645914410100587
         ],
         "z": [
          -2.512456199496324,
          -2.104201679926586
         ]
        },
        {
         "line": {
          "color": "green",
          "width": 2
         },
         "mode": "lines",
         "showlegend": false,
         "type": "scatter3d",
         "x": [
          -3.731854757291692,
          -3.7249216509389256
         ],
         "y": [
          -7.686857685831347,
          -7.367655739218269
         ],
         "z": [
          -1.9836694532008317,
          -1.5988811356615351
         ]
        },
        {
         "line": {
          "color": "green",
          "width": 2
         },
         "mode": "lines",
         "showlegend": false,
         "type": "scatter3d",
         "x": [
          -3.9128295048690274,
          -3.892301512142787
         ],
         "y": [
          -8.576921923053215,
          -8.206347760770253
         ],
         "z": [
          -1.5652990499001525,
          -1.2302566768144305
         ]
        },
        {
         "line": {
          "color": "green",
          "width": 2
         },
         "mode": "lines",
         "showlegend": false,
         "type": "scatter3d",
         "x": [
          -4.069168289477531,
          -4.042858620695385
         ],
         "y": [
          -9.388153687036967,
          -9.014029634341815
         ],
         "z": [
          -2.1287360113527587,
          -1.7980715371141
         ]
        },
        {
         "line": {
          "color": "green",
          "width": 2
         },
         "mode": "lines",
         "showlegend": false,
         "type": "scatter3d",
         "x": [
          -3.894204809878151,
          -3.87585282878356
         ],
         "y": [
          -10.22438842705698,
          -9.825465877772956
         ],
         "z": [
          -1.6090252837454324,
          -1.3081532104939595
         ]
        },
        {
         "line": {
          "color": "green",
          "width": 2
         },
         "mode": "lines",
         "showlegend": false,
         "type": "scatter3d",
         "x": [
          -4.0713391228148,
          -4.054233257177569
         ],
         "y": [
          -10.99084693006952,
          -10.592052796830252
         ],
         "z": [
          -2.2264107373643514,
          -1.9252950973608094
         ]
        },
        {
         "line": {
          "color": "green",
          "width": 2
         },
         "mode": "lines",
         "showlegend": false,
         "type": "scatter3d",
         "x": [
          -3.8647138904747167,
          -3.8600930979005432
         ],
         "y": [
          -11.7540469012045,
          -11.326775300798277
         ],
         "z": [
          -1.6141756375701894,
          -1.3545265902730907
         ]
        },
        {
         "line": {
          "color": "green",
          "width": 2
         },
         "mode": "lines",
         "showlegend": false,
         "type": "scatter3d",
         "x": [
          -3.6369143612561614,
          -3.6342023488221247
         ],
         "y": [
          -10.964935752114613,
          -10.537515676735827
         ],
         "z": [
          -1.0437275953526344,
          -0.7842960549575786
         ]
        },
        {
         "line": {
          "color": "green",
          "width": 2
         },
         "mode": "lines",
         "showlegend": false,
         "type": "scatter3d",
         "x": [
          -3.1451434010914334,
          -3.1591108611586187
         ],
         "y": [
          -11.579308662545635,
          -11.140420207417261
         ],
         "z": [
          -0.4267128064965072,
          -0.18758557255126967
         ]
        },
        {
         "line": {
          "color": "green",
          "width": 2
         },
         "mode": "lines",
         "showlegend": false,
         "type": "scatter3d",
         "x": [
          -3.2535843871017707,
          -3.2676280002884655
         ],
         "y": [
          -12.434569709373502,
          -11.99552643448656
         ],
         "z": [
          -0.9334366902162392,
          -0.6945982935853531
         ]
        },
        {
         "line": {
          "color": "green",
          "width": 2
         },
         "mode": "lines",
         "showlegend": false,
         "type": "scatter3d",
         "x": [
          -3.163265454805654,
          -3.1838861013011863
         ],
         "y": [
          -13.105819424594745,
          -12.634919876057667
         ],
         "z": [
          -0.1977286569012,
          -0.030910180329562165
         ]
        },
        {
         "line": {
          "color": "green",
          "width": 2
         },
         "mode": "lines",
         "showlegend": false,
         "type": "scatter3d",
         "x": [
          -3.319509009833571,
          -3.3402929879963703
         ],
         "y": [
          -14.032984615563224,
          -13.562565269708145
         ],
         "z": [
          -0.5382468798623533,
          -0.370099131447432
         ]
        },
        {
         "line": {
          "color": "green",
          "width": 2
         },
         "mode": "lines",
         "showlegend": false,
         "type": "scatter3d",
         "x": [
          -4.039603436954376,
          -4.037446741537442
         ],
         "y": [
          -14.69077007872307,
          -14.215436226047203
         ],
         "z": [
          -0.3173797241212861,
          -0.16228917906712917
         ]
        },
        {
         "line": {
          "color": "green",
          "width": 2
         },
         "mode": "lines",
         "showlegend": false,
         "type": "scatter3d",
         "x": [
          -4.220877661063017,
          -4.2121659856410165
         ],
         "y": [
          -15.668130412925091,
          -15.190477279955456
         ],
         "z": [
          -0.42649632598517695,
          -0.2789443308253914
         ]
        },
        {
         "line": {
          "color": "green",
          "width": 2
         },
         "mode": "lines",
         "showlegend": false,
         "type": "scatter3d",
         "x": [
          -3.966235390596676,
          -3.975139335096538
         ],
         "y": [
          -16.20885216099524,
          -15.716649723860185
         ],
         "z": [
          0.37523761071434025,
          0.46274464272124116
         ]
        },
        {
         "line": {
          "color": "green",
          "width": 2
         },
         "mode": "lines",
         "showlegend": false,
         "type": "scatter3d",
         "x": [
          -4.70856936793181,
          -4.703517490144034
         ],
         "y": [
          -16.821457557643296,
          -16.328038105560598
         ],
         "z": [
          0.6466319623347795,
          0.7273272090177585
         ]
        },
        {
         "line": {
          "color": "green",
          "width": 2
         },
         "mode": "lines",
         "showlegend": false,
         "type": "scatter3d",
         "x": [
          -5.309751750090467,
          -5.292748535517231
         ],
         "y": [
          -17.585208211312295,
          -17.09088141791008
         ],
         "z": [
          0.8817163778161556,
          0.9548731411320619
         ]
        },
        {
         "line": {
          "color": "green",
          "width": 2
         },
         "mode": "lines",
         "showlegend": false,
         "type": "scatter3d",
         "x": [
          -4.824712869530741,
          -4.831676091833658
         ],
         "y": [
          -18.003038222384745,
          -17.504578588555958
         ],
         "z": [
          1.6499320807229343,
          1.6885262121217859
         ]
        },
        {
         "line": {
          "color": "green",
          "width": 2
         },
         "mode": "lines",
         "showlegend": false,
         "type": "scatter3d",
         "x": [
          -5.31656122441409,
          -5.306285793224879
         ],
         "y": [
          -18.720088432303815,
          -18.220471438585584
         ],
         "z": [
          2.143818902022674,
          2.1604704815823133
         ]
        },
        {
         "line": {
          "color": "green",
          "width": 2
         },
         "mode": "lines",
         "showlegend": false,
         "type": "scatter3d",
         "x": [
          -5.894407195516549,
          -5.8707403835274015
         ],
         "y": [
          -19.418109181943365,
          -18.918681183530488
         ],
         "z": [
          2.5667385950535095,
          2.570138067303373
         ]
        },
        {
         "line": {
          "color": "green",
          "width": 2
         },
         "mode": "lines",
         "showlegend": false,
         "type": "scatter3d",
         "x": [
          -6.197863816254376,
          -6.1697354575966985
         ],
         "y": [
          -20.353433199688936,
          -19.85423159375239
         ],
         "z": [
          2.7486260909367104,
          2.7460663898604114
         ]
        },
        {
         "line": {
          "color": "green",
          "width": 2
         },
         "mode": "lines",
         "showlegend": false,
         "type": "scatter3d",
         "x": [
          -6.454855939315483,
          -6.423206132551067
         ],
         "y": [
          -21.305325702754303,
          -20.806396443168147
         ],
         "z": [
          2.9155263943890875,
          2.907287240270766
         ]
        },
        {
         "line": {
          "color": "green",
          "width": 2
         },
         "mode": "lines",
         "showlegend": false,
         "type": "scatter3d",
         "x": [
          -6.821382493027701,
          -6.786181026878954
         ],
         "y": [
          -22.220321352519044,
          -21.721709533026317
         ],
         "z": [
          3.084171721438028,
          3.0720428202870766
         ]
        },
        {
         "line": {
          "color": "green",
          "width": 2
         },
         "mode": "lines",
         "showlegend": false,
         "type": "scatter3d",
         "x": [
          -7.309861605842163,
          -7.267040708815283
         ],
         "y": [
          -23.021883953028652,
          -22.52413985120665
         ],
         "z": [
          3.428969566280872,
          3.408544584537322
         ]
        },
        {
         "line": {
          "color": "green",
          "width": 2
         },
         "mode": "lines",
         "showlegend": false,
         "type": "scatter3d",
         "x": [
          -7.820590500907964,
          -7.767886248301977
         ],
         "y": [
          -23.754870807919215,
          -23.25874387289592
         ],
         "z": [
          3.8782871224730466,
          3.845418807918808
         ]
        },
        {
         "line": {
          "color": "green",
          "width": 2
         },
         "mode": "lines",
         "showlegend": false,
         "type": "scatter3d",
         "x": [
          -8.144682495195124,
          -8.091334801304935
         ],
         "y": [
          -24.69854068959018,
          -24.20255925874582
         ],
         "z": [
          3.945006937116658,
          3.911000411063842
         ]
        },
        {
         "line": {
          "color": "green",
          "width": 2
         },
         "mode": "lines",
         "showlegend": false,
         "type": "scatter3d",
         "x": [
          -7.5155191054870425,
          -7.513021024199466
         ],
         "y": [
          -24.839024850175992,
          -24.346994364949516
         ],
         "z": [
          4.709479061968527,
          4.620598461173531
         ]
        },
        {
         "line": {
          "color": "green",
          "width": 2
         },
         "mode": "lines",
         "showlegend": false,
         "type": "scatter3d",
         "x": [
          -7.779977785214416,
          -7.775622750690562
         ],
         "y": [
          -25.75571869691203,
          -25.26416290358712
         ],
         "z": [
          5.00903539735995,
          4.917635530166318
         ]
        },
        {
         "line": {
          "color": "green",
          "width": 2
         },
         "mode": "lines",
         "showlegend": false,
         "type": "scatter3d",
         "x": [
          -7.080451901315627,
          -7.12194338543504
         ],
         "y": [
          -25.80028983387335,
          -25.320106403558274
         ],
         "z": [
          5.722251319437964,
          5.5892012161068765
         ]
        },
        {
         "line": {
          "color": "green",
          "width": 2
         },
         "mode": "lines",
         "showlegend": false,
         "type": "scatter3d",
         "x": [
          -7.449063269041166,
          -7.486053817116552
         ],
         "y": [
          -26.628002511346747,
          -26.148525529773128
         ],
         "z": [
          6.145355778328824,
          6.008485315868389
         ]
        },
        {
         "line": {
          "color": "green",
          "width": 2
         },
         "mode": "lines",
         "showlegend": false,
         "type": "scatter3d",
         "x": [
          -6.78399084233643,
          -6.877057253761048
         ],
         "y": [
          -26.493385839833902,
          -26.041712423351562
         ],
         "z": [
          6.879901228922505,
          6.686692098942288
         ]
        },
        {
         "line": {
          "color": "green",
          "width": 2
         },
         "mode": "lines",
         "showlegend": false,
         "type": "scatter3d",
         "x": [
          -6.7526315531207235,
          -6.844811986532239
         ],
         "y": [
          -27.393558194287994,
          -26.94254421715327
         ],
         "z": [
          7.314304644259514,
          7.11914020045588
         ]
        },
        {
         "line": {
          "color": "green",
          "width": 2
         },
         "mode": "lines",
         "showlegend": false,
         "type": "scatter3d",
         "x": [
          -6.806731569043836,
          -6.897840286307356
         ],
         "y": [
          -28.26786398213598,
          -27.81749048375577
         ],
         "z": [
          7.796655737979252,
          7.599518948933263
         ]
        },
        {
         "line": {
          "color": "green",
          "width": 2
         },
         "mode": "lines",
         "showlegend": false,
         "type": "scatter3d",
         "x": [
          -6.89636808801562,
          -6.986774691038138
         ],
         "y": [
          -29.15836331784851,
          -28.708210536717036
         ],
         "z": [
          8.242723252557662,
          8.044760832463524
         ]
        },
        {
         "line": {
          "color": "green",
          "width": 2
         },
         "mode": "lines",
         "showlegend": false,
         "type": "scatter3d",
         "x": [
          -6.8728268985638294,
          -6.963199923157748
         ],
         "y": [
          -30.066437569757245,
          -29.616509086220514
         ],
         "z": [
          8.660870314510255,
          8.462383347361067
         ]
        },
        {
         "line": {
          "color": "green",
          "width": 2
         },
         "mode": "lines",
         "showlegend": false,
         "type": "scatter3d",
         "x": [
          -7.085113704780364,
          -7.174417027028052
         ],
         "y": [
          -30.906440513543536,
          -30.456826051173675
         ],
         "z": [
          9.160199230493244,
          8.960520108241106
         ]
        },
        {
         "line": {
          "color": "green",
          "width": 2
         },
         "mode": "lines",
         "showlegend": false,
         "type": "scatter3d",
         "x": [
          -7.211300795001509,
          -7.298422733235271
         ],
         "y": [
          -31.74045804376396,
          -31.291659631093758
         ],
         "z": [
          9.697313350161066,
          9.494854088424047
         ]
        },
        {
         "line": {
          "color": "green",
          "width": 2
         },
         "mode": "lines",
         "showlegend": false,
         "type": "scatter3d",
         "x": [
          -7.248314601235846,
          -7.333706893065424
         ],
         "y": [
          -32.58482003186836,
          -32.13724906729016
         ],
         "z": [
          10.231806391455743,
          10.025921986600418
         ]
        },
        {
         "line": {
          "color": "green",
          "width": 2
         },
         "mode": "lines",
         "showlegend": false,
         "type": "scatter3d",
         "x": [
          -7.311027752093526,
          -7.395164860258915
         ],
         "y": [
          -33.45710052326104,
          -33.010175437073634
         ],
         "z": [
          10.716774230642264,
          10.508978864077118
         ]
        },
        {
         "line": {
          "color": "green",
          "width": 2
         },
         "mode": "lines",
         "showlegend": false,
         "type": "scatter3d",
         "x": [
          -7.470958592723358,
          -7.552411508369354
         ],
         "y": [
          -34.273055778538605,
          -33.8270985380555
         ],
         "z": [
          11.272327241254533,
          11.061406492646293
         ]
        },
        {
         "line": {
          "color": "green",
          "width": 2
         },
         "mode": "lines",
         "showlegend": false,
         "type": "scatter3d",
         "x": [
          -7.57631300693306,
          -7.654570487252763
         ],
         "y": [
          -35.07898714804716,
          -34.63465266835713
         ],
         "z": [
          11.854886315553943,
          11.639380777498435
         ]
        },
        {
         "line": {
          "color": "green",
          "width": 2
         },
         "mode": "lines",
         "showlegend": false,
         "type": "scatter3d",
         "x": [
          -7.652241137302383,
          -7.726943585137712
         ],
         "y": [
          -35.88035821018356,
          -35.438245769027944
         ],
         "z": [
          12.44821534719574,
          12.226955017125412
         ]
        },
        {
         "line": {
          "color": "green",
          "width": 2
         },
         "mode": "lines",
         "showlegend": false,
         "type": "scatter3d",
         "x": [
          -7.761957658752473,
          -7.832955177430113
         ],
         "y": [
          -36.59489040748294,
          -36.156037751872134
         ],
         "z": [
          13.139161093215932,
          12.910321195022984
         ]
        }
       ],
       "layout": {
        "scene": {
         "xaxis": {
          "title": {
           "text": "X-axis"
          }
         },
         "yaxis": {
          "title": {
           "text": "Y-axis"
          }
         },
         "zaxis": {
          "title": {
           "text": "Z-axis"
          }
         }
        },
        "showlegend": true,
        "template": {
         "data": {
          "bar": [
           {
            "error_x": {
             "color": "#2a3f5f"
            },
            "error_y": {
             "color": "#2a3f5f"
            },
            "marker": {
             "line": {
              "color": "#E5ECF6",
              "width": 0.5
             },
             "pattern": {
              "fillmode": "overlay",
              "size": 10,
              "solidity": 0.2
             }
            },
            "type": "bar"
           }
          ],
          "barpolar": [
           {
            "marker": {
             "line": {
              "color": "#E5ECF6",
              "width": 0.5
             },
             "pattern": {
              "fillmode": "overlay",
              "size": 10,
              "solidity": 0.2
             }
            },
            "type": "barpolar"
           }
          ],
          "carpet": [
           {
            "aaxis": {
             "endlinecolor": "#2a3f5f",
             "gridcolor": "white",
             "linecolor": "white",
             "minorgridcolor": "white",
             "startlinecolor": "#2a3f5f"
            },
            "baxis": {
             "endlinecolor": "#2a3f5f",
             "gridcolor": "white",
             "linecolor": "white",
             "minorgridcolor": "white",
             "startlinecolor": "#2a3f5f"
            },
            "type": "carpet"
           }
          ],
          "choropleth": [
           {
            "colorbar": {
             "outlinewidth": 0,
             "ticks": ""
            },
            "type": "choropleth"
           }
          ],
          "contour": [
           {
            "colorbar": {
             "outlinewidth": 0,
             "ticks": ""
            },
            "colorscale": [
             [
              0,
              "#0d0887"
             ],
             [
              0.1111111111111111,
              "#46039f"
             ],
             [
              0.2222222222222222,
              "#7201a8"
             ],
             [
              0.3333333333333333,
              "#9c179e"
             ],
             [
              0.4444444444444444,
              "#bd3786"
             ],
             [
              0.5555555555555556,
              "#d8576b"
             ],
             [
              0.6666666666666666,
              "#ed7953"
             ],
             [
              0.7777777777777778,
              "#fb9f3a"
             ],
             [
              0.8888888888888888,
              "#fdca26"
             ],
             [
              1,
              "#f0f921"
             ]
            ],
            "type": "contour"
           }
          ],
          "contourcarpet": [
           {
            "colorbar": {
             "outlinewidth": 0,
             "ticks": ""
            },
            "type": "contourcarpet"
           }
          ],
          "heatmap": [
           {
            "colorbar": {
             "outlinewidth": 0,
             "ticks": ""
            },
            "colorscale": [
             [
              0,
              "#0d0887"
             ],
             [
              0.1111111111111111,
              "#46039f"
             ],
             [
              0.2222222222222222,
              "#7201a8"
             ],
             [
              0.3333333333333333,
              "#9c179e"
             ],
             [
              0.4444444444444444,
              "#bd3786"
             ],
             [
              0.5555555555555556,
              "#d8576b"
             ],
             [
              0.6666666666666666,
              "#ed7953"
             ],
             [
              0.7777777777777778,
              "#fb9f3a"
             ],
             [
              0.8888888888888888,
              "#fdca26"
             ],
             [
              1,
              "#f0f921"
             ]
            ],
            "type": "heatmap"
           }
          ],
          "heatmapgl": [
           {
            "colorbar": {
             "outlinewidth": 0,
             "ticks": ""
            },
            "colorscale": [
             [
              0,
              "#0d0887"
             ],
             [
              0.1111111111111111,
              "#46039f"
             ],
             [
              0.2222222222222222,
              "#7201a8"
             ],
             [
              0.3333333333333333,
              "#9c179e"
             ],
             [
              0.4444444444444444,
              "#bd3786"
             ],
             [
              0.5555555555555556,
              "#d8576b"
             ],
             [
              0.6666666666666666,
              "#ed7953"
             ],
             [
              0.7777777777777778,
              "#fb9f3a"
             ],
             [
              0.8888888888888888,
              "#fdca26"
             ],
             [
              1,
              "#f0f921"
             ]
            ],
            "type": "heatmapgl"
           }
          ],
          "histogram": [
           {
            "marker": {
             "pattern": {
              "fillmode": "overlay",
              "size": 10,
              "solidity": 0.2
             }
            },
            "type": "histogram"
           }
          ],
          "histogram2d": [
           {
            "colorbar": {
             "outlinewidth": 0,
             "ticks": ""
            },
            "colorscale": [
             [
              0,
              "#0d0887"
             ],
             [
              0.1111111111111111,
              "#46039f"
             ],
             [
              0.2222222222222222,
              "#7201a8"
             ],
             [
              0.3333333333333333,
              "#9c179e"
             ],
             [
              0.4444444444444444,
              "#bd3786"
             ],
             [
              0.5555555555555556,
              "#d8576b"
             ],
             [
              0.6666666666666666,
              "#ed7953"
             ],
             [
              0.7777777777777778,
              "#fb9f3a"
             ],
             [
              0.8888888888888888,
              "#fdca26"
             ],
             [
              1,
              "#f0f921"
             ]
            ],
            "type": "histogram2d"
           }
          ],
          "histogram2dcontour": [
           {
            "colorbar": {
             "outlinewidth": 0,
             "ticks": ""
            },
            "colorscale": [
             [
              0,
              "#0d0887"
             ],
             [
              0.1111111111111111,
              "#46039f"
             ],
             [
              0.2222222222222222,
              "#7201a8"
             ],
             [
              0.3333333333333333,
              "#9c179e"
             ],
             [
              0.4444444444444444,
              "#bd3786"
             ],
             [
              0.5555555555555556,
              "#d8576b"
             ],
             [
              0.6666666666666666,
              "#ed7953"
             ],
             [
              0.7777777777777778,
              "#fb9f3a"
             ],
             [
              0.8888888888888888,
              "#fdca26"
             ],
             [
              1,
              "#f0f921"
             ]
            ],
            "type": "histogram2dcontour"
           }
          ],
          "mesh3d": [
           {
            "colorbar": {
             "outlinewidth": 0,
             "ticks": ""
            },
            "type": "mesh3d"
           }
          ],
          "parcoords": [
           {
            "line": {
             "colorbar": {
              "outlinewidth": 0,
              "ticks": ""
             }
            },
            "type": "parcoords"
           }
          ],
          "pie": [
           {
            "automargin": true,
            "type": "pie"
           }
          ],
          "scatter": [
           {
            "fillpattern": {
             "fillmode": "overlay",
             "size": 10,
             "solidity": 0.2
            },
            "type": "scatter"
           }
          ],
          "scatter3d": [
           {
            "line": {
             "colorbar": {
              "outlinewidth": 0,
              "ticks": ""
             }
            },
            "marker": {
             "colorbar": {
              "outlinewidth": 0,
              "ticks": ""
             }
            },
            "type": "scatter3d"
           }
          ],
          "scattercarpet": [
           {
            "marker": {
             "colorbar": {
              "outlinewidth": 0,
              "ticks": ""
             }
            },
            "type": "scattercarpet"
           }
          ],
          "scattergeo": [
           {
            "marker": {
             "colorbar": {
              "outlinewidth": 0,
              "ticks": ""
             }
            },
            "type": "scattergeo"
           }
          ],
          "scattergl": [
           {
            "marker": {
             "colorbar": {
              "outlinewidth": 0,
              "ticks": ""
             }
            },
            "type": "scattergl"
           }
          ],
          "scattermapbox": [
           {
            "marker": {
             "colorbar": {
              "outlinewidth": 0,
              "ticks": ""
             }
            },
            "type": "scattermapbox"
           }
          ],
          "scatterpolar": [
           {
            "marker": {
             "colorbar": {
              "outlinewidth": 0,
              "ticks": ""
             }
            },
            "type": "scatterpolar"
           }
          ],
          "scatterpolargl": [
           {
            "marker": {
             "colorbar": {
              "outlinewidth": 0,
              "ticks": ""
             }
            },
            "type": "scatterpolargl"
           }
          ],
          "scatterternary": [
           {
            "marker": {
             "colorbar": {
              "outlinewidth": 0,
              "ticks": ""
             }
            },
            "type": "scatterternary"
           }
          ],
          "surface": [
           {
            "colorbar": {
             "outlinewidth": 0,
             "ticks": ""
            },
            "colorscale": [
             [
              0,
              "#0d0887"
             ],
             [
              0.1111111111111111,
              "#46039f"
             ],
             [
              0.2222222222222222,
              "#7201a8"
             ],
             [
              0.3333333333333333,
              "#9c179e"
             ],
             [
              0.4444444444444444,
              "#bd3786"
             ],
             [
              0.5555555555555556,
              "#d8576b"
             ],
             [
              0.6666666666666666,
              "#ed7953"
             ],
             [
              0.7777777777777778,
              "#fb9f3a"
             ],
             [
              0.8888888888888888,
              "#fdca26"
             ],
             [
              1,
              "#f0f921"
             ]
            ],
            "type": "surface"
           }
          ],
          "table": [
           {
            "cells": {
             "fill": {
              "color": "#EBF0F8"
             },
             "line": {
              "color": "white"
             }
            },
            "header": {
             "fill": {
              "color": "#C8D4E3"
             },
             "line": {
              "color": "white"
             }
            },
            "type": "table"
           }
          ]
         },
         "layout": {
          "annotationdefaults": {
           "arrowcolor": "#2a3f5f",
           "arrowhead": 0,
           "arrowwidth": 1
          },
          "autotypenumbers": "strict",
          "coloraxis": {
           "colorbar": {
            "outlinewidth": 0,
            "ticks": ""
           }
          },
          "colorscale": {
           "diverging": [
            [
             0,
             "#8e0152"
            ],
            [
             0.1,
             "#c51b7d"
            ],
            [
             0.2,
             "#de77ae"
            ],
            [
             0.3,
             "#f1b6da"
            ],
            [
             0.4,
             "#fde0ef"
            ],
            [
             0.5,
             "#f7f7f7"
            ],
            [
             0.6,
             "#e6f5d0"
            ],
            [
             0.7,
             "#b8e186"
            ],
            [
             0.8,
             "#7fbc41"
            ],
            [
             0.9,
             "#4d9221"
            ],
            [
             1,
             "#276419"
            ]
           ],
           "sequential": [
            [
             0,
             "#0d0887"
            ],
            [
             0.1111111111111111,
             "#46039f"
            ],
            [
             0.2222222222222222,
             "#7201a8"
            ],
            [
             0.3333333333333333,
             "#9c179e"
            ],
            [
             0.4444444444444444,
             "#bd3786"
            ],
            [
             0.5555555555555556,
             "#d8576b"
            ],
            [
             0.6666666666666666,
             "#ed7953"
            ],
            [
             0.7777777777777778,
             "#fb9f3a"
            ],
            [
             0.8888888888888888,
             "#fdca26"
            ],
            [
             1,
             "#f0f921"
            ]
           ],
           "sequentialminus": [
            [
             0,
             "#0d0887"
            ],
            [
             0.1111111111111111,
             "#46039f"
            ],
            [
             0.2222222222222222,
             "#7201a8"
            ],
            [
             0.3333333333333333,
             "#9c179e"
            ],
            [
             0.4444444444444444,
             "#bd3786"
            ],
            [
             0.5555555555555556,
             "#d8576b"
            ],
            [
             0.6666666666666666,
             "#ed7953"
            ],
            [
             0.7777777777777778,
             "#fb9f3a"
            ],
            [
             0.8888888888888888,
             "#fdca26"
            ],
            [
             1,
             "#f0f921"
            ]
           ]
          },
          "colorway": [
           "#636efa",
           "#EF553B",
           "#00cc96",
           "#ab63fa",
           "#FFA15A",
           "#19d3f3",
           "#FF6692",
           "#B6E880",
           "#FF97FF",
           "#FECB52"
          ],
          "font": {
           "color": "#2a3f5f"
          },
          "geo": {
           "bgcolor": "white",
           "lakecolor": "white",
           "landcolor": "#E5ECF6",
           "showlakes": true,
           "showland": true,
           "subunitcolor": "white"
          },
          "hoverlabel": {
           "align": "left"
          },
          "hovermode": "closest",
          "mapbox": {
           "style": "light"
          },
          "paper_bgcolor": "white",
          "plot_bgcolor": "#E5ECF6",
          "polar": {
           "angularaxis": {
            "gridcolor": "white",
            "linecolor": "white",
            "ticks": ""
           },
           "bgcolor": "#E5ECF6",
           "radialaxis": {
            "gridcolor": "white",
            "linecolor": "white",
            "ticks": ""
           }
          },
          "scene": {
           "xaxis": {
            "backgroundcolor": "#E5ECF6",
            "gridcolor": "white",
            "gridwidth": 2,
            "linecolor": "white",
            "showbackground": true,
            "ticks": "",
            "zerolinecolor": "white"
           },
           "yaxis": {
            "backgroundcolor": "#E5ECF6",
            "gridcolor": "white",
            "gridwidth": 2,
            "linecolor": "white",
            "showbackground": true,
            "ticks": "",
            "zerolinecolor": "white"
           },
           "zaxis": {
            "backgroundcolor": "#E5ECF6",
            "gridcolor": "white",
            "gridwidth": 2,
            "linecolor": "white",
            "showbackground": true,
            "ticks": "",
            "zerolinecolor": "white"
           }
          },
          "shapedefaults": {
           "line": {
            "color": "#2a3f5f"
           }
          },
          "ternary": {
           "aaxis": {
            "gridcolor": "white",
            "linecolor": "white",
            "ticks": ""
           },
           "baxis": {
            "gridcolor": "white",
            "linecolor": "white",
            "ticks": ""
           },
           "bgcolor": "#E5ECF6",
           "caxis": {
            "gridcolor": "white",
            "linecolor": "white",
            "ticks": ""
           }
          },
          "title": {
           "x": 0.05
          },
          "xaxis": {
           "automargin": true,
           "gridcolor": "white",
           "linecolor": "white",
           "ticks": "",
           "title": {
            "standoff": 15
           },
           "zerolinecolor": "white",
           "zerolinewidth": 2
          },
          "yaxis": {
           "automargin": true,
           "gridcolor": "white",
           "linecolor": "white",
           "ticks": "",
           "title": {
            "standoff": 15
           },
           "zerolinecolor": "white",
           "zerolinewidth": 2
          }
         }
        },
        "title": {
         "text": "Camera Motion Trajectory"
        }
       }
      }
     },
     "metadata": {},
     "output_type": "display_data"
    }
   ],
   "source": [
    "import plotly.graph_objects as go\n",
    "import numpy as np\n",
    "# Создание фигуры\n",
    "fig = go.Figure()\n",
    "\n",
    "fig.add_trace(go.Scatter3d(\n",
    "    x=trajectory[1:, 0],\n",
    "    y=trajectory[1:, 1],\n",
    "    z=trajectory[1:, 2],\n",
    "    mode='lines+markers',\n",
    "    marker=dict(size=3, color='blue'),\n",
    "    line=dict(color='blue', width=2),\n",
    "    name='Camera Trajectory'\n",
    "))\n",
    "\n",
    "# Добавление ориентации камеры в каждой точке траектории\n",
    "for i, (R, t) in enumerate(zip(pose_cam,trajectory)):\n",
    "    # Направление камеры (ось Z камеры)\n",
    "    camera_direction = R @ np.array([0, 0, 1])  # Направление оси Z камеры\n",
    "    camera_direction_end = t + camera_direction * 0.5  # Конец вектора направления\n",
    "\n",
    "    # Добавляем линию, представляющую направление камеры\n",
    "    fig.add_trace(go.Scatter3d(\n",
    "        x=[t[0], camera_direction_end[0]],\n",
    "        y=[t[1], camera_direction_end[1]],\n",
    "        z=[t[2], camera_direction_end[2]],\n",
    "        mode='lines',\n",
    "        line=dict(color='green', width=2),\n",
    "        name=f'Camera Direction {i}' if i == 0 else None,\n",
    "        showlegend=False if i > 0 else True\n",
    "    ))\n",
    "\n",
    "# Настройка макета графика\n",
    "fig.update_layout(\n",
    "    title='Camera Motion Trajectory',\n",
    "    scene = dict(\n",
    "        xaxis_title='X-axis',\n",
    "        yaxis_title='Y-axis',\n",
    "        zaxis_title='Z-axis'\n",
    "    ),\n",
    "    showlegend=True\n",
    ")\n",
    "\n",
    "# Показать график\n",
    "fig.show()"
   ]
  },
  {
   "cell_type": "code",
   "execution_count": 10,
   "metadata": {},
   "outputs": [],
   "source": [
    "fig.write_html(\"camera_trajectory_orb.html\")"
   ]
  },
  {
   "cell_type": "markdown",
   "metadata": {},
   "source": [
    "Выводы: с  помощью детектора orb проанализировали видеролик и рассчитали 3D-траекторию движения дрона и ориентацию его камеры.\n",
    "Матрицу камеры взяли из лекции (это влияет только на калибровку координатных осей в полученных результатах, которые мы пока рассматриваем только качественно)\n",
    "На точность расчета в нашем случае влияет размер промежутка между кадрами, принимаемыми во внимание.\n",
    "Так, если в рассмотрение принимался каждый пятый кадр, траектория выглядела неестественно изорванной.\n",
    "При рассмотрении каждого десятого кадра траектория выглядит более плавной.\n",
    "Для нахождения эссенциальной матрицы использовался метод cv2.LMEDS и cv2.RANSAC.\n"
   ]
  },
  {
   "cell_type": "markdown",
   "metadata": {},
   "source": [
    "---"
   ]
  }
 ],
 "metadata": {
  "kernelspec": {
   "display_name": "base",
   "language": "python",
   "name": "python3"
  },
  "language_info": {
   "codemirror_mode": {
    "name": "ipython",
    "version": 3
   },
   "file_extension": ".py",
   "mimetype": "text/x-python",
   "name": "python",
   "nbconvert_exporter": "python",
   "pygments_lexer": "ipython3",
   "version": "3.12.7"
  }
 },
 "nbformat": 4,
 "nbformat_minor": 2
}
