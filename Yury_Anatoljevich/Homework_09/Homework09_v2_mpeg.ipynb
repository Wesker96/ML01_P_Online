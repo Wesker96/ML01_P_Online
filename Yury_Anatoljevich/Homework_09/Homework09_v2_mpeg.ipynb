{
 "cells": [
  {
   "cell_type": "markdown",
   "metadata": {},
   "source": [
    "Домашнее задание 09 (после Лекции №10, но само задание скорее по теме Лекции №09)\n",
    "\n",
    "1. Снять видео на камеру.\n",
    "Выполнить кручение видео со скоростью 10 градусов/с относительно центра\n",
    "2. Взять повернутое видео после п.1  и вернуть его в исходное состояние.\n",
    "3. Сконвертируйте видео в mp4 при помощи ffmpeg\n",
    "\n",
    "\n",
    "Анализ задания: используем библиотеку OpenCV. \n",
    "Скачиваем ролик  в папку задания. \n",
    "Загружаем видео в переменную Python. \n",
    "Обрабатываем ролик, делаем вращение.\n",
    "Показываем в окне блокнота Юпитер.\n",
    "Сохраняем на диск.\n",
    "Затем повернутый ролик поворачиваем в обратную сторону.\n",
    "Показываем в окне блокнота Юпитер.\n",
    "Убеждаемся, что после двойного поворота туда-обратно видео имеет вид исходного ролика.\n",
    "Сохраняем в формате mpeg.\n"
   ]
  },
  {
   "cell_type": "markdown",
   "metadata": {},
   "source": [
    "Загрузка видеофайла"
   ]
  },
  {
   "cell_type": "code",
   "execution_count": 98,
   "metadata": {},
   "outputs": [],
   "source": [
    "quit # reset all variables for repeated run of the program\n",
    "\n",
    "# loading necessary libraries and the video-file\n",
    "import cv2\n",
    "import numpy as np\n",
    "\n",
    "video_path = 'video_cat_short.mp4'  # file name (and path if necessary)"
   ]
  },
  {
   "cell_type": "markdown",
   "metadata": {},
   "source": [
    "Функция для просмотра видеофайла"
   ]
  },
  {
   "cell_type": "code",
   "execution_count": 99,
   "metadata": {},
   "outputs": [],
   "source": [
    "def showVideo(filename):\n",
    "   \"\"\"Showing video from filename\"\"\"\n",
    "   myvid = cv2.VideoCapture(filename) # loading into cv2\n",
    "   # Check if video opened successfully\n",
    "   if not myvid.isOpened():\n",
    "        print(\"Video file not found\")\n",
    "   else:\n",
    "        print(\"Video is opened\") \n",
    "   # showing video:\n",
    "   while True:\n",
    "        ret, frame = myvid.read()\n",
    "        if not ret:\n",
    "            break\n",
    "        cv2.imshow('frame', frame)\n",
    "        p = cv2.waitKey(10) & 0xFF\n",
    "        if p == ord('q') or p == ord('й'): # pressing \"q\" (quit) closes the windows. Pity but \"й\" doesn't work :(            \n",
    "            break\n",
    "   myvid.release()    # releasing video channel after viewing is over\n",
    "   cv2.destroyAllWindows()   # close all windows\n",
    "   print('Show is over')"
   ]
  },
  {
   "cell_type": "markdown",
   "metadata": {},
   "source": [
    "Функция, сохраняющая список с кадрами в видеофайл (затем используем ее в функции вращения видео для сохранения результата вращения)"
   ]
  },
  {
   "cell_type": "code",
   "execution_count": 100,
   "metadata": {},
   "outputs": [],
   "source": [
    "def saveFrameListToFile(framelist, output_path, fps):\n",
    "    \"\"\"Saving the frames into the file output_path\"\"\"\n",
    "    global frame_shape_0, frame_shape_1\n",
    "    fourcc = cv2.VideoWriter_fourcc(*'mp4v') # save to mpeg\n",
    "    out = cv2.VideoWriter(output_path, fourcc, fps, (frame_shape_0, frame_shape_1))\n",
    "    for frame in framelist:\n",
    "        out.write(frame)\n",
    "    out.release()\n",
    "    print('Saving is over')"
   ]
  },
  {
   "cell_type": "markdown",
   "metadata": {},
   "source": [
    "Функция для вращения видеофайла и сохранения в файл."
   ]
  },
  {
   "cell_type": "code",
   "execution_count": 101,
   "metadata": {},
   "outputs": [],
   "source": [
    "def rotateVideo(filename1, filename2, rotation_speed):\n",
    "   \"\"\"Loading video from filename1, rotating it by rotation_speed per second, then saving to filename2\"\"\"\n",
    "   # 1. Loading\n",
    "   myvid = cv2.VideoCapture(filename1) # loading into cv2\n",
    "   # extracting video frame width and height\n",
    "   frame_shape_0 = int(myvid.get(cv2.CAP_PROP_FRAME_WIDTH))\n",
    "   frame_shape_1 = int(myvid.get(cv2.CAP_PROP_FRAME_HEIGHT))\n",
    "   # extracting FPS value of the video\n",
    "   fps = myvid.get(cv2.CAP_PROP_FPS) \n",
    "   print([frame_shape_0, frame_shape_1])\n",
    "   # Check if video opened successfully\n",
    "   if not myvid.isOpened():\n",
    "        print(\"Video file not found\")\n",
    "   else:\n",
    "        print(\"Video is opened\") \n",
    "   # 2. Transforming the video to rotate it at the speed of 10 degrees per second\n",
    "   output_frames = [] # list for frames of new rotated video  \n",
    "   i = 0 # current frame serial number\n",
    "   while True:\n",
    "        ret, frame = myvid.read()\n",
    "        if not ret:\n",
    "            break    \n",
    "        # Calculate the current angle of rotation\n",
    "        angle = (i / fps) * rotation_speed\n",
    "        center = (frame.shape[1] // 2, frame.shape[0] // 2)\n",
    "        # Extracting the rotation matrix\n",
    "        rotation_matrix = cv2.getRotationMatrix2D(center, angle, 1.0)\n",
    "        # Rotate the frame\n",
    "        rotated_frame = cv2.warpAffine(frame, rotation_matrix, (frame.shape[1], frame.shape[0]))    \n",
    "        # Append the rotated frame to the output list\n",
    "        output_frames.append(rotated_frame)    \n",
    "        i += 1\n",
    "   # Release the video channel\n",
    "   myvid.release()\n",
    "   cv2.destroyAllWindows()   # close all windows\n",
    "   # 3. Saving the video file\n",
    "   saveFrameListToFile(output_frames, filename2, fps)  \n",
    "   "
   ]
  },
  {
   "cell_type": "markdown",
   "metadata": {},
   "source": [
    "Просмотр исходного видео с котиком. "
   ]
  },
  {
   "cell_type": "code",
   "execution_count": 102,
   "metadata": {},
   "outputs": [
    {
     "name": "stdout",
     "output_type": "stream",
     "text": [
      "Video is opened\n",
      "Show is over\n"
     ]
    }
   ],
   "source": [
    "showVideo(video_path) "
   ]
  },
  {
   "cell_type": "markdown",
   "metadata": {},
   "source": [
    "Преобразование видео - вращение со скоростью +10 градусов в секунду.\n",
    "Затем просмотр видео в отдельном окне."
   ]
  },
  {
   "cell_type": "code",
   "execution_count": 103,
   "metadata": {},
   "outputs": [
    {
     "name": "stdout",
     "output_type": "stream",
     "text": [
      "[1280, 720]\n",
      "Video is opened\n",
      "Saving is over\n",
      "Video is opened\n",
      "Show is over\n"
     ]
    }
   ],
   "source": [
    "video_path_rot_1 = 'video_rotated_once.mp4'\n",
    "rotateVideo(video_path, video_path_rot_1, 10) # calculate rotation and save to file\n",
    "showVideo(video_path_rot_1) # show rotation video"
   ]
  },
  {
   "cell_type": "markdown",
   "metadata": {},
   "source": [
    "Обратное вращение видео (то есть со скоростью минус 10 градусов в секунду).\n",
    "Демонстрируем результат двойного вращения в отдельном окне.\n",
    "Ожидаем, что вращения не будет - видео должно быть идентичным исходному ролику."
   ]
  },
  {
   "cell_type": "code",
   "execution_count": 104,
   "metadata": {},
   "outputs": [
    {
     "name": "stdout",
     "output_type": "stream",
     "text": [
      "[1280, 720]\n",
      "Video is opened\n",
      "Saving is over\n",
      "Video is opened\n",
      "Show is over\n"
     ]
    }
   ],
   "source": [
    "video_path_rot_2 = 'video_rotated_twice.mp4'\n",
    "rotateVideo(video_path_rot_1, video_path_rot_2, -10) # calculate new rotation and save to file\n",
    "showVideo(video_path_rot_2) # show rotation video"
   ]
  },
  {
   "cell_type": "markdown",
   "metadata": {},
   "source": [
    "Выводы:\n",
    "В ходе работы проведено ознакомление с обработкой видео с помощью библиотеки OpenCV.\n",
    "Был загружен файл с котиком и показан вывод этого исходного ролика.\n",
    "Затем была рассчитана последовательность кадров для демонстрации ролика с заданной угловой скоростью вращения.\n",
    "Новый ролик был также показан и сохранен на диск.\n",
    "После этого файл с вращающимся роликом был загружен и рассчитана последовательность кадров с обратным вращением кадров, то есть двойным вращением - \"туда\" и \"обратно\".\n",
    "Полученный третий ролик также был продемонстрирован и сохранен на диск.\n",
    "Продемонстрировано, что двойное вращение по описанной методике возвращает кадры ролика к исходному - невращающемуся - виду. Однако черные периферийные области, появившиеся при вписывании в стандартный размер кадра повернутых кадров при повороте, демонстрируют вращение, то есть полной идентичности исходного и дважды повернутого ролика нет.\n",
    "Кроме того, в ходе долгих экспериментов было выяснено, что на данном этапе, до выяснения всех тонкостей работы с видеоканалами, во избежание трудноустранимых неполадок, типа сохранения преобразованного файла неполной длительности, любую операцию с видео следует заканчивать сохранением преобразованного видео в файл, а для следующей операции (например, нового вращения) извлекать его в видеканал по новой. Попытка использовать один и тот же видеоканал для повторной обработки приводила к плавающим неполадкам при работе, типа сохранения файлов разного размера при повторных прогонах программмы.\n"
   ]
  }
 ],
 "metadata": {
  "kernelspec": {
   "display_name": "base",
   "language": "python",
   "name": "python3"
  },
  "language_info": {
   "codemirror_mode": {
    "name": "ipython",
    "version": 3
   },
   "file_extension": ".py",
   "mimetype": "text/x-python",
   "name": "python",
   "nbconvert_exporter": "python",
   "pygments_lexer": "ipython3",
   "version": "3.12.7"
  }
 },
 "nbformat": 4,
 "nbformat_minor": 2
}
