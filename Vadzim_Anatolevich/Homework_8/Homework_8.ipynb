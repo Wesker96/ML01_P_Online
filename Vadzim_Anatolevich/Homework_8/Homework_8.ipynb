{
 "cells": [
  {
   "cell_type": "markdown",
   "id": "87797349-8eed-4f6c-8b1a-74efdfd6fc9f",
   "metadata": {},
   "source": [
    "# Домашняя работа №8"
   ]
  },
  {
   "cell_type": "markdown",
   "id": "1feab32c-f0ed-4049-81e3-a6e16e814652",
   "metadata": {},
   "source": [
    "## Цель работы:"
   ]
  },
  {
   "cell_type": "markdown",
   "id": "dd525ccd-6791-4e4f-8577-11161b74c645",
   "metadata": {},
   "source": [
    "1) Снять видео на камеру. Выполнить кручение видео с скоростью 10 градусов в секунду относительно центра (в любую сторону);\n",
    "2) Видео после выполнения п.1 необходимо вернуть в исходное состояние;\n",
    "3) Сконвертируйте видео после выполнения п.3 в формат .mp4 при помощи библиотеки \"ffmpeg\".\n",
    "\n"
   ]
  },
  {
   "cell_type": "markdown",
   "id": "66682748-1fd3-4897-8cfb-f14f002dbf37",
   "metadata": {},
   "source": [
    "## 1.Выполнение кручения видео"
   ]
  },
  {
   "cell_type": "markdown",
   "id": "cb645a05-4aeb-4be7-8af0-3a6b1a948e03",
   "metadata": {},
   "source": [
    "Для выполнения кручения видео мы будем использовать библиотеку компьютерного зрения \"OpenCV\":"
   ]
  },
  {
   "cell_type": "code",
   "execution_count": null,
   "id": "ede43402-333d-448b-9c44-9b92acd08d84",
   "metadata": {},
   "outputs": [],
   "source": [
    "import cv2;"
   ]
  },
  {
   "cell_type": "markdown",
   "id": "b197de56-d2eb-4ad7-a7c1-df09b2489fd0",
   "metadata": {},
   "source": [
    "Далее, нам необходимо написать функцию \"rotate_video( )\", принимающую в качестве аргументов путь исходного видеофайла и путь, куда будет сохранен видеофайл с кручением, для захвата видеофайла, получения его параметров, вычисления скорости поворота для каждого кадра при заданной скорости кручения видеофайла в 10 градусов/сек, выполнения функции поворота для каждого кадра и его записи в конечный видеофайл:"
   ]
  },
  {
   "cell_type": "code",
   "execution_count": null,
   "id": "1ea3ade4-2594-45ca-a35d-618b79d518f3",
   "metadata": {},
   "outputs": [],
   "source": [
    "def rotate_video(video_path, result_video_path):\n",
    "    video_capture = cv2.VideoCapture(video_path);\n",
    "    fps_count = video_capture.get(cv2.CAP_PROP_FPS);\n",
    "    video_codec_type = cv2.VideoWriter_fourcc(*'XVID');\n",
    "    result_video_creator = cv2.VideoWriter(result_video_path, video_codec_type, fps_count, (int(video_capture.get(3)), int(video_capture.get(4))));\n",
    "    rotating_angle = 10;\n",
    "    frame_rotating_angle = rotating_angle / fps_count;\n",
    "    resulting_rotation_angle = 0;\n",
    "    while video_capture.isOpened():\n",
    "        ret, frame = video_capture.read();\n",
    "        if ret != True:\n",
    "            break;\n",
    "        else:    \n",
    "            resulting_rotation_angle = resulting_rotation_angle + frame_rotating_angle;\n",
    "            rotated_frame = rotate_function(frame, resulting_rotation_angle);\n",
    "            result_video_creator.write(rotated_frame);\n",
    "    video_capture.release();\n",
    "    result_video_creator.release();\n",
    "    cv2.destroyAllWindows();"
   ]
  },
  {
   "cell_type": "markdown",
   "id": "a32fea41-696e-4992-ab34-4f25079486a0",
   "metadata": {},
   "source": [
    "Затем нам необходимо описать функцию \"rotate_function( )\", которая будет принимать в качестве аргументов определенный кадр и угол, на который он должен быть повернут относительно певрого кадра. Функция будет получать матрицу поворота для каждого кадра, а затем применять афинное преобразование для поворота кадра. Функция будет возвращать результат афинного преобразования:"
   ]
  },
  {
   "cell_type": "code",
   "execution_count": null,
   "id": "b4983910-2e74-4435-b17b-7c92aff56998",
   "metadata": {},
   "outputs": [],
   "source": [
    "def rotate_function(frame, frame_rotating_angle):\n",
    "    (height, width) = frame.shape[:2];\n",
    "    video_center = (width // 2, height // 2);\n",
    "    rotation_matrix = cv2.getRotationMatrix2D(video_center, frame_rotating_angle, 1.0);\n",
    "    rotated_result = cv2.warpAffine(frame, rotation_matrix, (width, height));\n",
    "    return rotated_result;"
   ]
  },
  {
   "cell_type": "markdown",
   "id": "16e2b474-5d2f-4d34-ae99-4a7a89b47223",
   "metadata": {},
   "source": [
    "Затем описываем начало точки входа для программы, где мы указываем переменные, содержащие в себе путь исходного видеофайла и путь, куда будет сохранен видеофайл с кручением, а также вызываем функцию \"rotate_video( )\":"
   ]
  },
  {
   "cell_type": "code",
   "execution_count": null,
   "id": "dae0da5f-93e0-4752-b928-eb0b02aa071e",
   "metadata": {},
   "outputs": [],
   "source": [
    "if __name__ == \"__main__\":\n",
    "    video_path = 'Task_12_(video).mp4';\n",
    "    result_video_path = 'Task_12_(video)_result.avi';\n",
    "    rotate_video(video_path, result_video_path);"
   ]
  },
  {
   "cell_type": "markdown",
   "id": "002c9e24-8450-4455-8e8e-529611d148b8",
   "metadata": {},
   "source": [
    "## Результат работы программы"
   ]
  },
  {
   "cell_type": "markdown",
   "id": "1bb8409c-746f-464d-9f0e-5979cf2f3a47",
   "metadata": {},
   "source": [
    "Исходный снятый видеофайл:"
   ]
  },
  {
   "cell_type": "markdown",
   "id": "220a8dc4-5fff-46eb-b7f8-5ac0720deaa7",
   "metadata": {},
   "source": [
    "<video controls src=\"Task_12_(video).mp4\" width=\"500\" height=\"340\" />"
   ]
  },
  {
   "cell_type": "markdown",
   "id": "b01f0dab-afa3-4c59-a404-ef8e7cfb9c56",
   "metadata": {},
   "source": [
    "Видеофайл с добавленым эффектом кручения:"
   ]
  },
  {
   "cell_type": "markdown",
   "id": "d09c1efa-d0fe-421f-9c54-249e4ad91905",
   "metadata": {},
   "source": [
    "<video controls src=\"Task_12_(video)_result.mp4\" width=\"500\" height=\"340\" />"
   ]
  },
  {
   "cell_type": "markdown",
   "id": "f1191709-e51c-4338-b421-5e116aa44584",
   "metadata": {},
   "source": [
    "## Возврат файла в исходное состояние"
   ]
  },
  {
   "cell_type": "markdown",
   "id": "a165cb41-dc8e-4c65-8c35-1d107083a1be",
   "metadata": {},
   "source": [
    "Для возврата файла в исходное состояние можно применить немного модифицированный код, приведенный выше:"
   ]
  },
  {
   "cell_type": "code",
   "execution_count": null,
   "id": "e3b4b281-7017-4ba7-b2f5-4fe7a90ff356",
   "metadata": {},
   "outputs": [],
   "source": [
    "import cv2;\n",
    "\n",
    "def rotate_function(frame, frame_rotating_angle):\n",
    "    (height, width) = frame.shape[:2];\n",
    "    video_center = (width // 2, height // 2);\n",
    "    rotation_matrix = cv2.getRotationMatrix2D(video_center, frame_rotating_angle, 1.0);\n",
    "    rotated_result = cv2.warpAffine(frame, rotation_matrix, (width, height));\n",
    "    return rotated_result;\n",
    "\n",
    "def reverse_video(result_video_path, reverse_video_path, rotating_angle):\n",
    "    video_capture_r = cv2.VideoCapture(result_video_path);\n",
    "    fps_count_r = video_capture_r.get(cv2.CAP_PROP_FPS);\n",
    "    video_codec_r = cv2.VideoWriter_fourcc(*'XVID');\n",
    "    reverse_video_creator = cv2.VideoWriter(reverse_video_path, video_codec_r, fps_count_r, (int(video_capture_r.get(3)), int(video_capture_r.get(4))));\n",
    "    reverse_frame_angle = rotating_angle / fps_count_r;\n",
    "    resulting_reversed_angle = 0;\n",
    "    while video_capture_r.isOpened():\n",
    "        ret, frame = video_capture_r.read();\n",
    "        if ret != True:\n",
    "            break;\n",
    "        else:    \n",
    "            resulting_reversed_angle = resulting_reversed_angle + reverse_frame_angle;\n",
    "            rotated_reversed_frame = rotate_function(frame, resulting_reversed_angle);\n",
    "            reverse_video_creator.write(rotated_reversed_frame);\n",
    "    video_capture_r.release();\n",
    "    reverse_video_creator.release();\n",
    "    cv2.destroyAllWindows();\n",
    "\n",
    "if __name__ == \"__main__\":\n",
    "    rotating_angle = -10;\n",
    "    result_video_path = 'Task_12_(video)_result.avi';\n",
    "    reverse_video_path = 'Task_12_(video)_result_(reversed).avi';\n",
    "    reverse_video(result_video_path, reverse_video_path, rotating_angle);\n",
    "    "
   ]
  },
  {
   "cell_type": "markdown",
   "id": "4a899058-ec8a-457d-a1b1-fa17ffdeae39",
   "metadata": {},
   "source": [
    "Результат работы программы:"
   ]
  },
  {
   "cell_type": "markdown",
   "id": "1e5ab759-cfa6-43b9-8ef3-3333da6374d0",
   "metadata": {},
   "source": [
    "<video controls src=\"Task_12_(video)_result_(reversed).mp4\" width=\"500\" height=\"340\" />"
   ]
  },
  {
   "cell_type": "markdown",
   "id": "e1893416-97a0-4614-83ce-f1d3391ceade",
   "metadata": {},
   "source": [
    "При просмотре видеофайла видно, что у видео остались черные края, которые необходимо убирать масштабированием видео, либо пересчетом и изменением размеров кадра."
   ]
  },
  {
   "cell_type": "markdown",
   "id": "b0024231-2435-4ff9-b3fb-9e1fbea7931b",
   "metadata": {},
   "source": [
    "## Конвертация видео в формат .mp4"
   ]
  },
  {
   "cell_type": "markdown",
   "id": "334dc347-cf3d-4250-ac0d-9f16b010e068",
   "metadata": {},
   "source": [
    "Для конвертации видео будем использовать библиотеку \"ffmpeg\". напишем функцию \"convert_to_mp4( )\", которая будет вызывать библиотеку \"ffmpeg\" и производить конвертацию видеофайла в формат .mp4:"
   ]
  },
  {
   "cell_type": "code",
   "execution_count": 52,
   "id": "e3c62198-9684-46c4-a220-bc6aefc9f9be",
   "metadata": {},
   "outputs": [
    {
     "name": "stdout",
     "output_type": "stream",
     "text": [
      "Найден файл: Task_12_(video)_result_(reversed).avi\n",
      "Конвертация завершена: C:\\Users\\vdmsa\\Documents\\GitHub\\ML01_P_Online\\Vadzim_Anatolevich\\Homework_8\\Task_12_(video)_result_(reversed).avi\n"
     ]
    }
   ],
   "source": [
    "import os;\n",
    "import ffmpeg;\n",
    "\n",
    "start_dir = os.getcwd();\n",
    "\n",
    "def convert_to_mp4(avi_file):\n",
    "    name, ext = os.path.splitext(avi_file);\n",
    "    result_name = name + \".mp4\";\n",
    "    ffmpeg.input(avi_file).output(result_name).run();\n",
    "    print(\"Конвертация завершена: {}\".format(avi_file));\n",
    "    \n",
    "for path, folder, files in os.walk(start_dir):\n",
    "    for file in files:\n",
    "        if file.endswith('(reversed).avi'):\n",
    "            print(\"Найден файл: %s\" % file);\n",
    "            convert_to_mp4(os.path.join(start_dir, file));\n",
    "        else:\n",
    "            pass;"
   ]
  },
  {
   "cell_type": "markdown",
   "id": "e9ac270f-dcfe-451e-bd0b-4819466c89e1",
   "metadata": {},
   "source": [
    "## Выводы"
   ]
  },
  {
   "cell_type": "markdown",
   "id": "d9a412cb-a886-4465-a5c1-91d228f6ef60",
   "metadata": {},
   "source": [
    "Все цели и задачи работы были выполнены."
   ]
  }
 ],
 "metadata": {
  "kernelspec": {
   "display_name": "Python 3 (ipykernel)",
   "language": "python",
   "name": "python3"
  },
  "language_info": {
   "codemirror_mode": {
    "name": "ipython",
    "version": 3
   },
   "file_extension": ".py",
   "mimetype": "text/x-python",
   "name": "python",
   "nbconvert_exporter": "python",
   "pygments_lexer": "ipython3",
   "version": "3.12.7"
  }
 },
 "nbformat": 4,
 "nbformat_minor": 5
}
