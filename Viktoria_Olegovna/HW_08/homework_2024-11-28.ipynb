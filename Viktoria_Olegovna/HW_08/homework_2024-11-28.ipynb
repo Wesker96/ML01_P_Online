{
 "cells": [
  {
   "cell_type": "markdown",
   "metadata": {},
   "source": [
    "1 - Снять видео на камеру (любую, можно телефона). Выполнить кручение видео со скоростью 10 градусов в секунду относительно центра (в любую сторону). <br>\n",
    "2 - Видео после выполнения п.1 и вернуть его в исходное состояние. "
   ]
  },
  {
   "cell_type": "markdown",
   "metadata": {},
   "source": [
    "Для получения исходного видео из повернутого нам нужно сохранить информацию пикселей, которые не попадут в кадр после поворота. Для этого будем поворачивать и масшабировать, чтобы кадр полностью поместился после поворота. Масштаб расчитаем исходя из математики и высоты повернутого кадра для каждого угла поворота. Его наибольшая занимаемая высота рассчитываетя как рассояние между верхним и нижним углами. При обратных поворотах применяем те же коэффициенты масштабирования, возвращаем кадр до исходных размеров."
   ]
  },
  {
   "cell_type": "code",
   "execution_count": 4,
   "metadata": {},
   "outputs": [],
   "source": [
    "from IPython.display import HTML\n",
    "import numpy as np\n",
    "import ffmpeg\n",
    "import cv2\n",
    "\n",
    "\n",
    "SOURCE_VIDEO_PATH = 'videos/source_video.avi'\n",
    "TIME_SEC = 10\n",
    "\n",
    "cap = cv2.VideoCapture(0)\n",
    "fourcc = cv2.VideoWriter_fourcc(*'XVID')\n",
    "fps = cap.get(cv2.CAP_PROP_FPS)\n",
    "\n",
    "out_video = cv2.VideoWriter(SOURCE_VIDEO_PATH, fourcc, fps, (int(cap.get(cv2.CAP_PROP_FRAME_WIDTH)), \n",
    "                            int(cap.get(cv2.CAP_PROP_FRAME_HEIGHT))))\n",
    "frame_counter = 0\n",
    "while cap.isOpened():\n",
    "    success, frame = cap.read()\n",
    "\n",
    "    # count frames and break after all frames in 10 sec\n",
    "    if not success or fps * TIME_SEC < frame_counter:\n",
    "        break\n",
    "\n",
    "    out_video.write(frame)\n",
    "    frame_counter += 1\n",
    "\n",
    "    # cv2.imshow('Camera', frame)\n",
    "    # if cv2.waitKey(1) == ord('q'):\n",
    "    #     break\n",
    "\n",
    "out_video.release()\n",
    "cap.release()\n",
    "cv2.destroyAllWindows()\n"
   ]
  },
  {
   "cell_type": "code",
   "execution_count": 1,
   "metadata": {},
   "outputs": [],
   "source": [
    "# function to calculate scale for frame in each rotation angle\n",
    "def get_scale(angle_deg: float):\n",
    "    global H, D, angleWD_rad\n",
    "\n",
    "    angle_rad = np.deg2rad(angle_deg) % (2 * np.pi)\n",
    "    if angle_rad <= np.pi / 2:\n",
    "        angle_rad = angle_rad + angleWD_rad\n",
    "    elif angle_rad <= np.pi:\n",
    "        angle_rad = np.pi - angle_rad + angleWD_rad\n",
    "    elif angle_rad <= 3 * np.pi / 2:\n",
    "        angle_rad = angle_rad + angleWD_rad - np.pi\n",
    "    else:\n",
    "        angle_rad = 2 * np.pi - angle_rad + angleWD_rad\n",
    "    scale = H / (D * np.sin(angle_rad))\n",
    "\n",
    "    return scale\n"
   ]
  },
  {
   "cell_type": "code",
   "execution_count": 2,
   "metadata": {},
   "outputs": [],
   "source": [
    "# function to rotate video\n",
    "def video_rotation(source_video_path: str, out_video_path: str, angle_delta: float, \n",
    "                   is_inverse_roration: bool = False):\n",
    "    cap = cv2.VideoCapture(source_video_path)\n",
    "\n",
    "    # calculate global variables as frame width, height, diagonal size and angle between width and diagonal \n",
    "    # to calculate scale than\n",
    "    global W, H, D, angleWD_rad\n",
    "    W = int(cap.get(cv2.CAP_PROP_FRAME_WIDTH))\n",
    "    H = int(cap.get(cv2.CAP_PROP_FRAME_HEIGHT))\n",
    "    D = np.sqrt(H ** 2 + W ** 2)\n",
    "    angleWD_rad = np.acos(W / D)\n",
    "\n",
    "    fps = cap.get(cv2.CAP_PROP_FPS)\n",
    "    fourcc = cv2.VideoWriter_fourcc(*'XVID')\n",
    "    video_vriter = cv2.VideoWriter(out_video_path, fourcc, fps, (W, H))\n",
    "\n",
    "    center_point = (W // 2, H // 2)\n",
    "    angle_deg = -angle_delta\n",
    "    frames_counter = 0\n",
    "\n",
    "    # use flag tp rotate in reverse direction with inverse transrofm matrix\n",
    "    flag = cv2.WARP_INVERSE_MAP if is_inverse_roration else cv2.INTER_LINEAR\n",
    "\n",
    "    while True:\n",
    "        success, frame = cap.read()\n",
    "        if not success:\n",
    "            break\n",
    "\n",
    "        # we need to rotate frame every second, than we wait fps-count frames to recalculate rotation angle\n",
    "        if frames_counter % fps == 0:\n",
    "            angle_deg = frames_counter // fps * angle_delta\n",
    "            scale = get_scale(angle_deg)\n",
    "            rotation_matrix = cv2.getRotationMatrix2D(center=center_point, angle=angle_deg, \n",
    "                                                      scale=scale)\n",
    "\n",
    "        rotated_frame = cv2.warpAffine(src=frame, M=rotation_matrix, dsize=(W, H), flags=flag)\n",
    "        video_vriter.write(rotated_frame)\n",
    "        frames_counter += 1\n",
    "    video_vriter.release()\n",
    "    cap.release()\n"
   ]
  },
  {
   "cell_type": "code",
   "execution_count": 6,
   "metadata": {},
   "outputs": [],
   "source": [
    "ROTATED_VIDEO_PATH = 'videos/rotated_video.avi'\n",
    "INVERSE_VIDEO_PATH = 'videos/inverse_video.avi'\n",
    "\n",
    "# make rotation video from source and original video from roteted\n",
    "video_rotation(SOURCE_VIDEO_PATH, ROTATED_VIDEO_PATH, 10)\n",
    "video_rotation(ROTATED_VIDEO_PATH, INVERSE_VIDEO_PATH, 10, True)    # use True-flag to rotate video in inverse direction\n"
   ]
  },
  {
   "cell_type": "markdown",
   "metadata": {},
   "source": [
    "3 - Сконвертируйте видео в mp4 при помощи ffmpeg"
   ]
  },
  {
   "cell_type": "code",
   "execution_count": 8,
   "metadata": {},
   "outputs": [],
   "source": [
    "# function to convert video from .avi to .mp4\n",
    "def convert_to_mp4(video_path: str):\n",
    "    video_mp4_path = '.'.join(video_path.split('.')[:-1] + ['mp4'])\n",
    "    stream = ffmpeg.input(video_path)\n",
    "    stream.output(video_mp4_path).run()\n",
    "\n",
    "    return video_mp4_path\n"
   ]
  },
  {
   "cell_type": "code",
   "execution_count": 9,
   "metadata": {},
   "outputs": [],
   "source": [
    "# convert videos to .mp4\n",
    "SOURCE_VIDEO_MP4_PATH = convert_to_mp4(SOURCE_VIDEO_PATH)\n",
    "ROTATED_VIDEO_MP4_PATH = convert_to_mp4(ROTATED_VIDEO_PATH)\n",
    "INVERSE_VIDEO_MP4_PATH = convert_to_mp4(INVERSE_VIDEO_PATH)\n"
   ]
  },
  {
   "cell_type": "code",
   "execution_count": 10,
   "metadata": {},
   "outputs": [
    {
     "data": {
      "text/html": [
       "\n",
       "    <video width=\"640\" height=\"480\" controls>\n",
       "        <source src=videos/source_video.mp4 type=\"video/mp4\">\n",
       "    </video>\n",
       "    <video width=\"640\" height=\"480\" controls>\n",
       "        <source src=videos/rotated_video.mp4 type=\"video/mp4\">\n",
       "    </video>\n",
       "    <video width=\"640\" height=\"480\" controls>\n",
       "        <source src=videos/inverse_video.mp4 type=\"video/mp4\">\n",
       "    </video>\n"
      ],
      "text/plain": [
       "<IPython.core.display.HTML object>"
      ]
     },
     "execution_count": 10,
     "metadata": {},
     "output_type": "execute_result"
    }
   ],
   "source": [
    "# display videos through HTML\n",
    "HTML(f\"\"\"\n",
    "    <video width=\"{W}\" height=\"{H}\" controls>\n",
    "        <source src={SOURCE_VIDEO_MP4_PATH} type=\"video/mp4\">\n",
    "    </video>\n",
    "    <video width=\"{W}\" height=\"{H}\" controls>\n",
    "        <source src={ROTATED_VIDEO_MP4_PATH} type=\"video/mp4\">\n",
    "    </video>\n",
    "    <video width=\"{W}\" height=\"{H}\" controls>\n",
    "        <source src={INVERSE_VIDEO_MP4_PATH} type=\"video/mp4\">\n",
    "    </video>\n",
    "\"\"\")\n"
   ]
  },
  {
   "cell_type": "markdown",
   "metadata": {},
   "source": [
    "Ссылки на видео:<br>\n",
    "<a href=\"https://drive.google.com/file/d/1mCUGTtnuD_6GeGoXvOSeGCK2acjWsLDk/view?usp=drive_link\">Исходное видео</a><br>\n",
    "<a href=\"https://drive.google.com/file/d/1inpb-rBgfEWvXZchqYPB24BeX5khm785/view?usp=drive_link\">Повернутое видео</a><br>\n",
    "<a href=\"https://drive.google.com/file/d/18t2PibOR9jKz0AjuKc0u3x0La_tvGDAz/view?usp=drive_link\">Видео после возвращения в исходное состояние</a>"
   ]
  },
  {
   "cell_type": "code",
   "execution_count": null,
   "metadata": {},
   "outputs": [],
   "source": []
  }
 ],
 "metadata": {
  "kernelspec": {
   "display_name": "pyvenv",
   "language": "python",
   "name": "python3"
  },
  "language_info": {
   "codemirror_mode": {
    "name": "ipython",
    "version": 3
   },
   "file_extension": ".py",
   "mimetype": "text/x-python",
   "name": "python",
   "nbconvert_exporter": "python",
   "pygments_lexer": "ipython3",
   "version": "3.10.12"
  }
 },
 "nbformat": 4,
 "nbformat_minor": 2
}
