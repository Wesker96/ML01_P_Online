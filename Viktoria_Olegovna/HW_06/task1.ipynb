{
 "cells": [
  {
   "cell_type": "markdown",
   "metadata": {},
   "source": [
    "Напишите декоратор, оптимизирующий работу декорируемой функции. Декоратор должен сохранять результат работы функции на ближайшие три запуска и вместо выполнения функции возвращать сохранённый результат. \n",
    "После трёх запусков функция должна вызываться вновь, а результат работы функции — вновь кешироваться."
   ]
  },
  {
   "cell_type": "code",
   "execution_count": 1,
   "metadata": {},
   "outputs": [],
   "source": [
    "# function-decarator\n",
    "def decorating_func(inner_func):\n",
    "    # wrapper for optimize inner function\n",
    "    def wrapper(number: int):\n",
    "        print(inner_func.__name__, '-', wrapper.func_calls + 1, 'times', end=' ')\n",
    "\n",
    "        # save inner function result every four times\n",
    "        if wrapper.func_calls % 4 == 0:\n",
    "            wrapper.func_result = inner_func(number)\n",
    "\n",
    "        # count inner function calls\n",
    "        wrapper.func_calls += 1\n",
    "\n",
    "        return wrapper.func_result\n",
    "\n",
    "    # initialize func_call variable\n",
    "    wrapper.func_calls = 0\n",
    "\n",
    "    return wrapper\n"
   ]
  },
  {
   "cell_type": "code",
   "execution_count": 2,
   "metadata": {},
   "outputs": [],
   "source": [
    "@decorating_func\n",
    "# initialize decorated function\n",
    "def square_func(number: int):\n",
    "    return number ** 2\n"
   ]
  },
  {
   "cell_type": "code",
   "execution_count": 3,
   "metadata": {},
   "outputs": [
    {
     "name": "stdout",
     "output_type": "stream",
     "text": [
      "square_func - 1 times Result 0\n",
      "square_func - 2 times Result 0\n",
      "square_func - 3 times Result 0\n",
      "square_func - 4 times Result 0\n",
      "square_func - 5 times Result 16\n",
      "square_func - 6 times Result 16\n",
      "square_func - 7 times Result 16\n",
      "square_func - 8 times Result 16\n",
      "square_func - 9 times Result 64\n",
      "square_func - 10 times Result 64\n",
      "square_func - 11 times Result 64\n",
      "square_func - 12 times Result 64\n",
      "square_func - 13 times Result 144\n",
      "square_func - 14 times Result 144\n"
     ]
    }
   ],
   "source": [
    "for i in range(14):\n",
    "    print('Result', square_func(i))\n"
   ]
  },
  {
   "cell_type": "code",
   "execution_count": null,
   "metadata": {},
   "outputs": [],
   "source": []
  }
 ],
 "metadata": {
  "kernelspec": {
   "display_name": "pyvenv",
   "language": "python",
   "name": "python3"
  },
  "language_info": {
   "codemirror_mode": {
    "name": "ipython",
    "version": 3
   },
   "file_extension": ".py",
   "mimetype": "text/x-python",
   "name": "python",
   "nbconvert_exporter": "python",
   "pygments_lexer": "ipython3",
   "version": "3.10.12"
  }
 },
 "nbformat": 4,
 "nbformat_minor": 2
}
