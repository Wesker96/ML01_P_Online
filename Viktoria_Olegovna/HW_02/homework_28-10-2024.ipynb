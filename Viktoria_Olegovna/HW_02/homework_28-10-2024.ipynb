{
 "cells": [
  {
   "cell_type": "markdown",
   "metadata": {},
   "source": [
    "1. Напишите программу, которая рассчитывает расход топлива маршрута. На вход подается\n",
    "длина маршрута и расход топлива на 100 километров. Используйте try except (проверка что\n",
    "пользователь ввел числа > 0)."
   ]
  },
  {
   "cell_type": "code",
   "execution_count": null,
   "metadata": {},
   "outputs": [],
   "source": [
    "# task1\n",
    "# function for calculate fuel rate as route length multiplies with fuel by 100 km\n",
    "\n",
    "def calculate_fuel_rate(route_len_km: float, fuel_by_100km: float):\n",
    "    try:      \n",
    "        if route_len_km <= 0 or fuel_by_100km <= 0:\n",
    "            raise Exception()\n",
    "\n",
    "        fuel_rate = route_len_km * fuel_by_100km / 100\n",
    "    except:\n",
    "        print('[ERROR] Wrong input data')\n",
    "        return\n",
    "\n",
    "    return fuel_rate\n"
   ]
  },
  {
   "cell_type": "code",
   "execution_count": 2,
   "metadata": {},
   "outputs": [
    {
     "data": {
      "text/plain": [
       "200.0"
      ]
     },
     "execution_count": 2,
     "metadata": {},
     "output_type": "execute_result"
    }
   ],
   "source": [
    "route_len_km = 1000\n",
    "fuel_by_100km = 20\n",
    "\n",
    "calculate_fuel_rate(route_len_km, fuel_by_100km)\n"
   ]
  },
  {
   "cell_type": "markdown",
   "metadata": {},
   "source": [
    "2. Напишите программу, которая ищет корни квадратичного уравнения вида a*x*x+b*x+c. На\n",
    "вход программы подаются a, b, c. Результат работы программы – действительные корни\n",
    "или сообщение, что корней нет."
   ]
  },
  {
   "cell_type": "code",
   "execution_count": 3,
   "metadata": {},
   "outputs": [],
   "source": [
    "# task2\n",
    "# functoion for calculation equation radicals through discriminant\n",
    "# D = b^2 - 4ac\n",
    "# x1,2 = (-b +- sqrt(D)) / (2a)\n",
    "\n",
    "def calculate_valid_radicals(a: float, b: float, c: float):\n",
    "    D = b ** 2 - 4 * a * c\n",
    "\n",
    "    if D < 0:\n",
    "        print('There are no valid radicals for this equation. D < 0:', D)\n",
    "        return\n",
    "\n",
    "    x1 = (-b - D ** 0.5) / (2 * a)\n",
    "    x2 = (-b + D ** 0.5) / (2 * a)\n",
    "\n",
    "    return x1, x2\n"
   ]
  },
  {
   "cell_type": "code",
   "execution_count": 4,
   "metadata": {},
   "outputs": [
    {
     "data": {
      "text/plain": [
       "(-1.5, -1.0)"
      ]
     },
     "execution_count": 4,
     "metadata": {},
     "output_type": "execute_result"
    }
   ],
   "source": [
    "a, b, c = 4, 10, 6\n",
    "\n",
    "calculate_valid_radicals(a, b, c)\n"
   ]
  },
  {
   "cell_type": "markdown",
   "metadata": {},
   "source": [
    "3. Напишите программу, находящую наибольшее и наименьшее значение функции y = -\n",
    "26*x**2+25*x-9 на отрезке [-5,5]. Для решения используйте while и какой-то шаг\n",
    "(например 0.1). Найти производную и особую точку."
   ]
  },
  {
   "cell_type": "code",
   "execution_count": 5,
   "metadata": {},
   "outputs": [],
   "source": [
    "# task3\n",
    "# f(x) = -26x**2 + 25x - 9, segment = [-5, 5]\n",
    "# f'(x) = A * 2x + B\n",
    "\n",
    "A, B, C = -26, 25, -9\n",
    "\n",
    "# function for derivative calculation f'(x)\n",
    "def calculate_derivative():\n",
    "    f_der_a = 2 * A\n",
    "    f_der_b = B\n",
    "\n",
    "    print(f'Derivative function is\\nf\\' = {f_der_a} * x + {f_der_b}')\n",
    "\n",
    "    return f_der_a, f_der_b\n",
    "\n",
    "# function for calculatioin special point\n",
    "def calculate_special_point():\n",
    "    f_der_a, f_der_b = calculate_derivative()\n",
    "    x = -f_der_b / f_der_a\n",
    "    y = f(x)\n",
    "\n",
    "    print(f'Derivative is zero in point ({round(x, 2)}, {round(y, 2)})')\n",
    "\n",
    "    return x, y\n",
    "\n",
    "# function for calculation f(x) value\n",
    "def f(x):\n",
    "    return A * x ** 2 + B * x + C\n",
    "\n",
    "# function for find max and min f(x) values\n",
    "def find_min_max_f(step=0.1):\n",
    "    x1, x2 = [-5., 5.]\n",
    "\n",
    "    min_f = float('inf')\n",
    "    max_f = float('-inf')\n",
    "\n",
    "    while x1 <= x2:\n",
    "        min_f = min(min_f, f(x1))\n",
    "        max_f = max(max_f, f(x1))\n",
    "        x1 += step\n",
    "\n",
    "    print(f'Function minimum = {round(min_f, 2)}, maximum = {round(max_f, 2)}')\n",
    "\n",
    "    return min_f, max_f\n"
   ]
  },
  {
   "cell_type": "code",
   "execution_count": 6,
   "metadata": {},
   "outputs": [
    {
     "name": "stdout",
     "output_type": "stream",
     "text": [
      "Function minimum = -784.0, maximum = -3.0\n",
      "Derivative function is\n",
      "f' = -52 * x + 25\n",
      "Derivative is zero in point (0.48, -2.99)\n"
     ]
    },
    {
     "data": {
      "text/plain": [
       "(0.4807692307692308, -2.990384615384615)"
      ]
     },
     "execution_count": 6,
     "metadata": {},
     "output_type": "execute_result"
    }
   ],
   "source": [
    "find_min_max_f()\n",
    "calculate_special_point()\n"
   ]
  },
  {
   "cell_type": "code",
   "execution_count": null,
   "metadata": {},
   "outputs": [],
   "source": []
  }
 ],
 "metadata": {
  "kernelspec": {
   "display_name": "pyvenv",
   "language": "python",
   "name": "python3"
  },
  "language_info": {
   "codemirror_mode": {
    "name": "ipython",
    "version": 3
   },
   "file_extension": ".py",
   "mimetype": "text/x-python",
   "name": "python",
   "nbconvert_exporter": "python",
   "pygments_lexer": "ipython3",
   "version": "3.10.12"
  }
 },
 "nbformat": 4,
 "nbformat_minor": 2
}
