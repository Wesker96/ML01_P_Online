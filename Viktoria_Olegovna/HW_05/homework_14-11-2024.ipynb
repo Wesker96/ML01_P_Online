{
 "cells": [
  {
   "cell_type": "markdown",
   "metadata": {},
   "source": [
    "Есть Алфавит, характеристиками которого являются:\n",
    "1. Язык\n",
    "2. Список букв\n",
    "\n",
    "Для Алфавита можно:\n",
    "1. Напечатать все буквы алфавита\n",
    "2. Посчитать количество букв\n",
    "\n",
    "Так же есть Английский алфавит, который обладает следующими свойствами:\n",
    "1. Язык\n",
    "2. Список букв\n",
    "3. Количество букв\n",
    "\n",
    "Для Английского алфавита можно:\n",
    "1. Посчитать количество букв\n",
    "2. Определить, относится ли буква к английскому алфавиту\n",
    "3. Получить пример текста на английском языке\n",
    "\n",
    "Класс Alphabet\n",
    "1. Создайте класс Alphabet\n",
    "2. Создайте метод __init__(), внутри которого будут определены два динамических\n",
    "свойства: 1) lang - язык и 2) letters - список букв. Начальные значения свойств\n",
    "берутся из входных параметров метода.\n",
    "3. Создайте метод print(), который выведет в консоль буквы алфавита\n",
    "4. Создайте метод letters_num(), который вернет количество букв в алфавите"
   ]
  },
  {
   "cell_type": "code",
   "execution_count": 2,
   "metadata": {},
   "outputs": [],
   "source": [
    "class Alphabet():\n",
    "    def __init__(self, lang: str, letters: list):\n",
    "        self.__lang = lang\n",
    "        self._letters = letters\n",
    "\n",
    "    def print(self):\n",
    "        print(self._letters)\n",
    "\n",
    "    def letters_num(self) -> int:\n",
    "        return len(self._letters)\n",
    " "
   ]
  },
  {
   "cell_type": "markdown",
   "metadata": {},
   "source": [
    "Класс EngAlphabet\n",
    "1. Создайте класс EngAlphabet путем наследования от класса Alphabet\n",
    "2. Создайте метод __init__(), внутри которого будет вызываться родительский\n",
    "метод __init__(). В качестве параметров ему будут передаваться обозначение\n",
    "языка(например, 'En') и строка, состоящая из всех букв алфавита(можно\n",
    "воспользоваться свойством ascii_uppercase из модуля string).\n",
    "3. Добавьте приватное статическое свойство __letters_num, которое будет хранить\n",
    "количество букв в алфавите.\n",
    "4. Создайте метод is_en_letter(), который будет принимать букву в качестве\n",
    "параметра и определять, относится ли эта буква к английскому алфавиту.\n",
    "5. Переопределите метод letters_num() - пусть в текущем классе классе он будет\n",
    "возвращать значение свойства __letters_num.\n",
    "6. Создайте статический метод example(), который будет возвращать пример\n",
    "текста на английском языке."
   ]
  },
  {
   "cell_type": "code",
   "execution_count": 3,
   "metadata": {},
   "outputs": [],
   "source": [
    "class EngAlphabet(Alphabet):\n",
    "    __letters_num = 0\n",
    "\n",
    "    def __init__(self, lang: str, letters: list):\n",
    "        super().__init__(lang, letters)\n",
    "        EngAlphabet.__letters_num = len(self._letters)\n",
    "\n",
    "    def is_en_letter(self, letter: str):\n",
    "        return letter in self._letters\n",
    "\n",
    "    def letters_num(self):\n",
    "        return EngAlphabet.__letters_num\n",
    "\n",
    "    @staticmethod\n",
    "    def example():\n",
    "        return 'Text example in English'\n"
   ]
  },
  {
   "cell_type": "markdown",
   "metadata": {},
   "source": [
    "Тесты:\n",
    "1. Создайте объект класса EngAlphabet\n",
    "2. Напечатайте буквы алфавита для этого объекта\n",
    "3. Выведите количество букв в алфавите\n",
    "4. Проверьте, относится ли буква F к английскому алфавиту\n",
    "5. Проверьте, относится ли буква Щ к английскому алфавиту\n",
    "6. Выведите пример текста на английском языке"
   ]
  },
  {
   "cell_type": "code",
   "execution_count": 11,
   "metadata": {},
   "outputs": [
    {
     "name": "stdout",
     "output_type": "stream",
     "text": [
      "Alphabet letters: ABCDEFGHIJKLMNOPQRSTUVWXYZ\n",
      "Alphabet letters quantity is 26\n",
      "Is letter in English alphabet - True\n",
      "Is letter in English alphabet - False\n",
      "Text example in English\n"
     ]
    }
   ],
   "source": [
    "# tests\n",
    "import string\n",
    "\n",
    "eng_alphabet = EngAlphabet('En', string.ascii_uppercase)\n",
    "\n",
    "print('Alphabet letters:', end=' ')\n",
    "eng_alphabet.print()\n",
    "\n",
    "print('Alphabet letters quantity is', eng_alphabet.letters_num())\n",
    "print('Is letter in English alphabet -', eng_alphabet.is_en_letter('F'))\n",
    "print('Is letter in English alphabet -', eng_alphabet.is_en_letter('Щ'))\n",
    "print(EngAlphabet.example())\n"
   ]
  },
  {
   "cell_type": "code",
   "execution_count": null,
   "metadata": {},
   "outputs": [],
   "source": []
  }
 ],
 "metadata": {
  "kernelspec": {
   "display_name": "pyvenv",
   "language": "python",
   "name": "python3"
  },
  "language_info": {
   "codemirror_mode": {
    "name": "ipython",
    "version": 3
   },
   "file_extension": ".py",
   "mimetype": "text/x-python",
   "name": "python",
   "nbconvert_exporter": "python",
   "pygments_lexer": "ipython3",
   "version": "3.10.12"
  }
 },
 "nbformat": 4,
 "nbformat_minor": 2
}
