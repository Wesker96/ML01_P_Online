{
 "cells": [
  {
   "cell_type": "markdown",
   "metadata": {},
   "source": [
    "1. Общее число оценок в файле\n",
    "2. Общее количество пользователей, поставивших оценки\n",
    "3. Общее количество оцененных фильмов\n",
    "4. ID самого активного пользователя\n",
    "5. Фильм, собравший наибольшее количество оценок"
   ]
  },
  {
   "cell_type": "code",
   "execution_count": 1,
   "metadata": {},
   "outputs": [
    {
     "name": "stdout",
     "output_type": "stream",
     "text": [
      "Total ratings count: 100004\n",
      "Total users count 671\n",
      "Total movies count 9066\n",
      "The most active user is 547 with 2391 ratings\n",
      "The most evaluated movie is 356 with 341 ratings\n"
     ]
    }
   ],
   "source": [
    "import pandas as pd\n",
    "\n",
    "filepath = 'ratings_small.csv'\n",
    "ratings_df = pd.read_csv(filepath)\n",
    "\n",
    "ratings_count = len(ratings_df.rating)\n",
    "print('Total ratings count:', ratings_count)\n",
    "\n",
    "users_count = ratings_df.userId.max()\n",
    "print('Total users count', users_count)\n",
    "\n",
    "movies_count = ratings_df.movieId.nunique()\n",
    "print('Total movies count', movies_count)\n",
    "\n",
    "# get Series with count of userId unique values, sort in descending order, get first item\n",
    "users_activity = ratings_df.userId.value_counts(sort=True)\n",
    "print('The most active user is', users_activity.index[0], 'with', users_activity.iloc[0], 'ratings')\n",
    "\n",
    "movies_evaluating = ratings_df.movieId.value_counts(sort=True)\n",
    "print('The most evaluated movie is', movies_evaluating.index[0], 'with', movies_evaluating.iloc[0], 'ratings')\n"
   ]
  },
  {
   "cell_type": "code",
   "execution_count": null,
   "metadata": {},
   "outputs": [],
   "source": []
  }
 ],
 "metadata": {
  "kernelspec": {
   "display_name": "pyvenv",
   "language": "python",
   "name": "python3"
  },
  "language_info": {
   "codemirror_mode": {
    "name": "ipython",
    "version": 3
   },
   "file_extension": ".py",
   "mimetype": "text/x-python",
   "name": "python",
   "nbconvert_exporter": "python",
   "pygments_lexer": "ipython3",
   "version": "3.10.12"
  }
 },
 "nbformat": 4,
 "nbformat_minor": 2
}
